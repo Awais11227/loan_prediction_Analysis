{
 "cells": [
  {
   "cell_type": "markdown",
   "id": "3dffa45f",
   "metadata": {},
   "source": [
    "# Introduction\n",
    "- The term loan refers to a type of credit vehicle in which a sum of money is lent to another party in exchange for future repayment of the value or principal amount. In many - cases, the lender also adds interest or finance charges to the principal value, which the borrower must repay in addition to the principal balance"
   ]
  },
  {
   "cell_type": "markdown",
   "id": "d709a158",
   "metadata": {},
   "source": [
    "\n",
    "# **Problem Statement**\n",
    "\n",
    "The dataset used for this problem is [Loan Prediction Problem Dataset](https://www.kaggle.com/datasets/altruistdelhite04/loan-prediction-problem-dataset). Each Applicant is attributed with the following columns in this data set and are as follows:\n",
    "\n",
    "| Column | Description |\n",
    "| ----------- | ----------- |\n",
    "| Loan_ID | Unique Loan ID |\n",
    "| Gender | Male/Female |\n",
    "| Married | Whether Married : Yes/No |\n",
    "| Dependents | No. of people depending on the Applicant |\n",
    "| Education | Graduate/Undergraduate |\n",
    "| Self_Employment | Whether Self_Employment : Yes/No |\n",
    "| ApplicantIncome | Applicant Income |\n",
    "| CoapplicantIncome | Co-Applicant Income |\n",
    "| LoanAmount | Loan Amount (in thousands) |\n",
    "| Loan_Amount_Term | Loan Duration |\n",
    "| Credit_History | Credit History of the Applicant |\n",
    "| Property_Area | Urban/Semiurban/Rural |\n",
    "| Loan_Status | Whether Loan Approved: Yes/No |\n",
    "\n",
    "**The dimensions of the dataset is 614*13**"
   ]
  },
  {
   "cell_type": "markdown",
   "id": "c2f55c29",
   "metadata": {},
   "source": [
    "# Import library"
   ]
  },
  {
   "cell_type": "code",
   "execution_count": 1,
   "id": "59207676",
   "metadata": {},
   "outputs": [],
   "source": [
    "#Data Analysis Libraries\n",
    "import numpy as np\n",
    "import pandas as pd\n",
    "\n",
    "#Data Viz Libraries\n",
    "import matplotlib.pyplot as plt\n",
    "import seaborn as sns\n",
    "\n",
    "#Data Processing\n",
    "from sklearn import preprocessing\n",
    "\n",
    "#Data Splitting\n",
    "from sklearn.model_selection import train_test_split\n",
    "\n",
    "#ML Libraries\n",
    "from sklearn.neighbors import KNeighborsClassifier\n",
    "from sklearn.ensemble import RandomForestClassifier ,GradientBoostingClassifier\n",
    "from sklearn.linear_model import LogisticRegression\n",
    "from sklearn.linear_model import LinearRegression\n",
    "from sklearn.svm import SVC\n",
    "from sklearn.naive_bayes import GaussianNB\n",
    "from sklearn.tree import DecisionTreeClassifier\n",
    "\n",
    "from sklearn import metrics\n",
    "from sklearn.metrics import r2_score\n",
    "from sklearn.metrics import (confusion_matrix,accuracy_score,precision_score,recall_score,f1_score)\n",
    "from sklearn.model_selection import cross_val_score\n",
    "from sklearn.metrics import classification_report"
   ]
  },
  {
   "cell_type": "markdown",
   "id": "6942a602",
   "metadata": {},
   "source": [
    "# Import_Dataset"
   ]
  },
  {
   "cell_type": "code",
   "execution_count": 5,
   "id": "fb1d7aa6",
   "metadata": {},
   "outputs": [
    {
     "data": {
      "application/vnd.microsoft.datawrangler.viewer.v0+json": {
       "columns": [
        {
         "name": "index",
         "rawType": "int64",
         "type": "integer"
        },
        {
         "name": "Loan_ID",
         "rawType": "object",
         "type": "string"
        },
        {
         "name": "Gender",
         "rawType": "object",
         "type": "string"
        },
        {
         "name": "Married",
         "rawType": "object",
         "type": "string"
        },
        {
         "name": "Dependents",
         "rawType": "object",
         "type": "string"
        },
        {
         "name": "Education",
         "rawType": "object",
         "type": "string"
        },
        {
         "name": "Self_Employed",
         "rawType": "object",
         "type": "string"
        },
        {
         "name": "ApplicantIncome",
         "rawType": "int64",
         "type": "integer"
        },
        {
         "name": "CoapplicantIncome",
         "rawType": "float64",
         "type": "float"
        },
        {
         "name": "LoanAmount",
         "rawType": "float64",
         "type": "float"
        },
        {
         "name": "Loan_Amount_Term",
         "rawType": "float64",
         "type": "float"
        },
        {
         "name": "Credit_History",
         "rawType": "float64",
         "type": "float"
        },
        {
         "name": "Property_Area",
         "rawType": "object",
         "type": "string"
        },
        {
         "name": "Loan_Status",
         "rawType": "object",
         "type": "string"
        }
       ],
       "ref": "5448dce3-06d5-44c7-83bb-ab28794ade37",
       "rows": [
        [
         "0",
         "LP001002",
         "Male",
         "No",
         "0",
         "Graduate",
         "No",
         "5849",
         "0.0",
         null,
         "360.0",
         "1.0",
         "Urban",
         "Y"
        ],
        [
         "1",
         "LP001003",
         "Male",
         "Yes",
         "1",
         "Graduate",
         "No",
         "4583",
         "1508.0",
         "128.0",
         "360.0",
         "1.0",
         "Rural",
         "N"
        ],
        [
         "2",
         "LP001005",
         "Male",
         "Yes",
         "0",
         "Graduate",
         "Yes",
         "3000",
         "0.0",
         "66.0",
         "360.0",
         "1.0",
         "Urban",
         "Y"
        ]
       ],
       "shape": {
        "columns": 13,
        "rows": 3
       }
      },
      "text/html": [
       "<div>\n",
       "<style scoped>\n",
       "    .dataframe tbody tr th:only-of-type {\n",
       "        vertical-align: middle;\n",
       "    }\n",
       "\n",
       "    .dataframe tbody tr th {\n",
       "        vertical-align: top;\n",
       "    }\n",
       "\n",
       "    .dataframe thead th {\n",
       "        text-align: right;\n",
       "    }\n",
       "</style>\n",
       "<table border=\"1\" class=\"dataframe\">\n",
       "  <thead>\n",
       "    <tr style=\"text-align: right;\">\n",
       "      <th></th>\n",
       "      <th>Loan_ID</th>\n",
       "      <th>Gender</th>\n",
       "      <th>Married</th>\n",
       "      <th>Dependents</th>\n",
       "      <th>Education</th>\n",
       "      <th>Self_Employed</th>\n",
       "      <th>ApplicantIncome</th>\n",
       "      <th>CoapplicantIncome</th>\n",
       "      <th>LoanAmount</th>\n",
       "      <th>Loan_Amount_Term</th>\n",
       "      <th>Credit_History</th>\n",
       "      <th>Property_Area</th>\n",
       "      <th>Loan_Status</th>\n",
       "    </tr>\n",
       "  </thead>\n",
       "  <tbody>\n",
       "    <tr>\n",
       "      <th>0</th>\n",
       "      <td>LP001002</td>\n",
       "      <td>Male</td>\n",
       "      <td>No</td>\n",
       "      <td>0</td>\n",
       "      <td>Graduate</td>\n",
       "      <td>No</td>\n",
       "      <td>5849</td>\n",
       "      <td>0.0</td>\n",
       "      <td>NaN</td>\n",
       "      <td>360.0</td>\n",
       "      <td>1.0</td>\n",
       "      <td>Urban</td>\n",
       "      <td>Y</td>\n",
       "    </tr>\n",
       "    <tr>\n",
       "      <th>1</th>\n",
       "      <td>LP001003</td>\n",
       "      <td>Male</td>\n",
       "      <td>Yes</td>\n",
       "      <td>1</td>\n",
       "      <td>Graduate</td>\n",
       "      <td>No</td>\n",
       "      <td>4583</td>\n",
       "      <td>1508.0</td>\n",
       "      <td>128.0</td>\n",
       "      <td>360.0</td>\n",
       "      <td>1.0</td>\n",
       "      <td>Rural</td>\n",
       "      <td>N</td>\n",
       "    </tr>\n",
       "    <tr>\n",
       "      <th>2</th>\n",
       "      <td>LP001005</td>\n",
       "      <td>Male</td>\n",
       "      <td>Yes</td>\n",
       "      <td>0</td>\n",
       "      <td>Graduate</td>\n",
       "      <td>Yes</td>\n",
       "      <td>3000</td>\n",
       "      <td>0.0</td>\n",
       "      <td>66.0</td>\n",
       "      <td>360.0</td>\n",
       "      <td>1.0</td>\n",
       "      <td>Urban</td>\n",
       "      <td>Y</td>\n",
       "    </tr>\n",
       "  </tbody>\n",
       "</table>\n",
       "</div>"
      ],
      "text/plain": [
       "    Loan_ID Gender Married Dependents Education Self_Employed  \\\n",
       "0  LP001002   Male      No          0  Graduate            No   \n",
       "1  LP001003   Male     Yes          1  Graduate            No   \n",
       "2  LP001005   Male     Yes          0  Graduate           Yes   \n",
       "\n",
       "   ApplicantIncome  CoapplicantIncome  LoanAmount  Loan_Amount_Term  \\\n",
       "0             5849                0.0         NaN             360.0   \n",
       "1             4583             1508.0       128.0             360.0   \n",
       "2             3000                0.0        66.0             360.0   \n",
       "\n",
       "   Credit_History Property_Area Loan_Status  \n",
       "0             1.0         Urban           Y  \n",
       "1             1.0         Rural           N  \n",
       "2             1.0         Urban           Y  "
      ]
     },
     "execution_count": 5,
     "metadata": {},
     "output_type": "execute_result"
    }
   ],
   "source": [
    "train_path = pd.read_csv(\"c:/Users/hp/Downloads/train_u6lujuX_CVtuZ9i.csv\")\n",
    "df = train_path\n",
    "df.head(3)\n"
   ]
  },
  {
   "cell_type": "code",
   "execution_count": 7,
   "id": "5c7cb5f3",
   "metadata": {},
   "outputs": [
    {
     "data": {
      "text/plain": [
       "(614, 13)"
      ]
     },
     "execution_count": 7,
     "metadata": {},
     "output_type": "execute_result"
    }
   ],
   "source": [
    "df.shape"
   ]
  },
  {
   "cell_type": "markdown",
   "id": "ae443ea1",
   "metadata": {},
   "source": [
    "# Check_Missing_values"
   ]
  },
  {
   "cell_type": "code",
   "execution_count": 8,
   "id": "d2790010",
   "metadata": {},
   "outputs": [
    {
     "data": {
      "application/vnd.microsoft.datawrangler.viewer.v0+json": {
       "columns": [
        {
         "name": "index",
         "rawType": "int64",
         "type": "integer"
        },
        {
         "name": "Loan_ID",
         "rawType": "bool",
         "type": "boolean"
        },
        {
         "name": "Gender",
         "rawType": "bool",
         "type": "boolean"
        },
        {
         "name": "Married",
         "rawType": "bool",
         "type": "boolean"
        },
        {
         "name": "Dependents",
         "rawType": "bool",
         "type": "boolean"
        },
        {
         "name": "Education",
         "rawType": "bool",
         "type": "boolean"
        },
        {
         "name": "Self_Employed",
         "rawType": "bool",
         "type": "boolean"
        },
        {
         "name": "ApplicantIncome",
         "rawType": "bool",
         "type": "boolean"
        },
        {
         "name": "CoapplicantIncome",
         "rawType": "bool",
         "type": "boolean"
        },
        {
         "name": "LoanAmount",
         "rawType": "bool",
         "type": "boolean"
        },
        {
         "name": "Loan_Amount_Term",
         "rawType": "bool",
         "type": "boolean"
        },
        {
         "name": "Credit_History",
         "rawType": "bool",
         "type": "boolean"
        },
        {
         "name": "Property_Area",
         "rawType": "bool",
         "type": "boolean"
        },
        {
         "name": "Loan_Status",
         "rawType": "bool",
         "type": "boolean"
        }
       ],
       "ref": "65045373-bf13-4c61-8254-4f2169199690",
       "rows": [
        [
         "0",
         "False",
         "False",
         "False",
         "False",
         "False",
         "False",
         "False",
         "False",
         "True",
         "False",
         "False",
         "False",
         "False"
        ],
        [
         "1",
         "False",
         "False",
         "False",
         "False",
         "False",
         "False",
         "False",
         "False",
         "False",
         "False",
         "False",
         "False",
         "False"
        ],
        [
         "2",
         "False",
         "False",
         "False",
         "False",
         "False",
         "False",
         "False",
         "False",
         "False",
         "False",
         "False",
         "False",
         "False"
        ],
        [
         "3",
         "False",
         "False",
         "False",
         "False",
         "False",
         "False",
         "False",
         "False",
         "False",
         "False",
         "False",
         "False",
         "False"
        ],
        [
         "4",
         "False",
         "False",
         "False",
         "False",
         "False",
         "False",
         "False",
         "False",
         "False",
         "False",
         "False",
         "False",
         "False"
        ],
        [
         "5",
         "False",
         "False",
         "False",
         "False",
         "False",
         "False",
         "False",
         "False",
         "False",
         "False",
         "False",
         "False",
         "False"
        ],
        [
         "6",
         "False",
         "False",
         "False",
         "False",
         "False",
         "False",
         "False",
         "False",
         "False",
         "False",
         "False",
         "False",
         "False"
        ],
        [
         "7",
         "False",
         "False",
         "False",
         "False",
         "False",
         "False",
         "False",
         "False",
         "False",
         "False",
         "False",
         "False",
         "False"
        ],
        [
         "8",
         "False",
         "False",
         "False",
         "False",
         "False",
         "False",
         "False",
         "False",
         "False",
         "False",
         "False",
         "False",
         "False"
        ],
        [
         "9",
         "False",
         "False",
         "False",
         "False",
         "False",
         "False",
         "False",
         "False",
         "False",
         "False",
         "False",
         "False",
         "False"
        ],
        [
         "10",
         "False",
         "False",
         "False",
         "False",
         "False",
         "False",
         "False",
         "False",
         "False",
         "False",
         "False",
         "False",
         "False"
        ],
        [
         "11",
         "False",
         "False",
         "False",
         "False",
         "False",
         "True",
         "False",
         "False",
         "False",
         "False",
         "False",
         "False",
         "False"
        ],
        [
         "12",
         "False",
         "False",
         "False",
         "False",
         "False",
         "False",
         "False",
         "False",
         "False",
         "False",
         "False",
         "False",
         "False"
        ],
        [
         "13",
         "False",
         "False",
         "False",
         "False",
         "False",
         "False",
         "False",
         "False",
         "False",
         "False",
         "False",
         "False",
         "False"
        ],
        [
         "14",
         "False",
         "False",
         "False",
         "False",
         "False",
         "False",
         "False",
         "False",
         "False",
         "False",
         "False",
         "False",
         "False"
        ],
        [
         "15",
         "False",
         "False",
         "False",
         "False",
         "False",
         "False",
         "False",
         "False",
         "False",
         "False",
         "False",
         "False",
         "False"
        ],
        [
         "16",
         "False",
         "False",
         "False",
         "False",
         "False",
         "False",
         "False",
         "False",
         "False",
         "False",
         "True",
         "False",
         "False"
        ],
        [
         "17",
         "False",
         "False",
         "False",
         "False",
         "False",
         "False",
         "False",
         "False",
         "False",
         "False",
         "False",
         "False",
         "False"
        ],
        [
         "18",
         "False",
         "False",
         "False",
         "False",
         "False",
         "False",
         "False",
         "False",
         "False",
         "False",
         "False",
         "False",
         "False"
        ],
        [
         "19",
         "False",
         "False",
         "False",
         "False",
         "False",
         "True",
         "False",
         "False",
         "False",
         "True",
         "False",
         "False",
         "False"
        ],
        [
         "20",
         "False",
         "False",
         "False",
         "False",
         "False",
         "False",
         "False",
         "False",
         "False",
         "False",
         "False",
         "False",
         "False"
        ],
        [
         "21",
         "False",
         "False",
         "False",
         "False",
         "False",
         "False",
         "False",
         "False",
         "False",
         "False",
         "False",
         "False",
         "False"
        ],
        [
         "22",
         "False",
         "False",
         "False",
         "False",
         "False",
         "False",
         "False",
         "False",
         "False",
         "False",
         "False",
         "False",
         "False"
        ],
        [
         "23",
         "False",
         "True",
         "False",
         "False",
         "False",
         "False",
         "False",
         "False",
         "False",
         "False",
         "False",
         "False",
         "False"
        ],
        [
         "24",
         "False",
         "False",
         "False",
         "False",
         "False",
         "True",
         "False",
         "False",
         "False",
         "False",
         "True",
         "False",
         "False"
        ],
        [
         "25",
         "False",
         "False",
         "False",
         "False",
         "False",
         "False",
         "False",
         "False",
         "False",
         "False",
         "False",
         "False",
         "False"
        ],
        [
         "26",
         "False",
         "False",
         "False",
         "False",
         "False",
         "False",
         "False",
         "False",
         "False",
         "False",
         "False",
         "False",
         "False"
        ],
        [
         "27",
         "False",
         "False",
         "False",
         "False",
         "False",
         "False",
         "False",
         "False",
         "False",
         "False",
         "False",
         "False",
         "False"
        ],
        [
         "28",
         "False",
         "False",
         "False",
         "False",
         "False",
         "False",
         "False",
         "False",
         "False",
         "False",
         "False",
         "False",
         "False"
        ],
        [
         "29",
         "False",
         "False",
         "False",
         "False",
         "False",
         "True",
         "False",
         "False",
         "False",
         "False",
         "False",
         "False",
         "False"
        ],
        [
         "30",
         "False",
         "False",
         "False",
         "False",
         "False",
         "True",
         "False",
         "False",
         "False",
         "False",
         "True",
         "False",
         "False"
        ],
        [
         "31",
         "False",
         "False",
         "False",
         "False",
         "False",
         "False",
         "False",
         "False",
         "False",
         "False",
         "False",
         "False",
         "False"
        ],
        [
         "32",
         "False",
         "False",
         "False",
         "False",
         "False",
         "False",
         "False",
         "False",
         "False",
         "False",
         "False",
         "False",
         "False"
        ],
        [
         "33",
         "False",
         "False",
         "False",
         "False",
         "False",
         "False",
         "False",
         "False",
         "False",
         "False",
         "False",
         "False",
         "False"
        ],
        [
         "34",
         "False",
         "False",
         "False",
         "False",
         "False",
         "False",
         "False",
         "False",
         "False",
         "False",
         "False",
         "False",
         "False"
        ],
        [
         "35",
         "False",
         "False",
         "False",
         "False",
         "False",
         "False",
         "False",
         "False",
         "True",
         "False",
         "False",
         "False",
         "False"
        ],
        [
         "36",
         "False",
         "False",
         "False",
         "False",
         "False",
         "False",
         "False",
         "False",
         "False",
         "True",
         "False",
         "False",
         "False"
        ],
        [
         "37",
         "False",
         "False",
         "False",
         "False",
         "False",
         "False",
         "False",
         "False",
         "False",
         "False",
         "False",
         "False",
         "False"
        ],
        [
         "38",
         "False",
         "False",
         "False",
         "False",
         "False",
         "False",
         "False",
         "False",
         "False",
         "False",
         "False",
         "False",
         "False"
        ],
        [
         "39",
         "False",
         "False",
         "False",
         "False",
         "False",
         "False",
         "False",
         "False",
         "False",
         "False",
         "False",
         "False",
         "False"
        ],
        [
         "40",
         "False",
         "False",
         "False",
         "False",
         "False",
         "False",
         "False",
         "False",
         "False",
         "False",
         "False",
         "False",
         "False"
        ],
        [
         "41",
         "False",
         "False",
         "False",
         "False",
         "False",
         "False",
         "False",
         "False",
         "False",
         "False",
         "False",
         "False",
         "False"
        ],
        [
         "42",
         "False",
         "False",
         "False",
         "False",
         "False",
         "False",
         "False",
         "False",
         "False",
         "False",
         "True",
         "False",
         "False"
        ],
        [
         "43",
         "False",
         "False",
         "False",
         "False",
         "False",
         "False",
         "False",
         "False",
         "False",
         "False",
         "False",
         "False",
         "False"
        ],
        [
         "44",
         "False",
         "False",
         "False",
         "False",
         "False",
         "False",
         "False",
         "False",
         "False",
         "True",
         "False",
         "False",
         "False"
        ],
        [
         "45",
         "False",
         "False",
         "False",
         "False",
         "False",
         "False",
         "False",
         "False",
         "False",
         "True",
         "False",
         "False",
         "False"
        ],
        [
         "46",
         "False",
         "False",
         "False",
         "False",
         "False",
         "False",
         "False",
         "False",
         "False",
         "False",
         "False",
         "False",
         "False"
        ],
        [
         "47",
         "False",
         "False",
         "False",
         "False",
         "False",
         "False",
         "False",
         "False",
         "False",
         "False",
         "False",
         "False",
         "False"
        ],
        [
         "48",
         "False",
         "False",
         "False",
         "False",
         "False",
         "False",
         "False",
         "False",
         "False",
         "False",
         "False",
         "False",
         "False"
        ],
        [
         "49",
         "False",
         "False",
         "False",
         "False",
         "False",
         "False",
         "False",
         "False",
         "False",
         "False",
         "False",
         "False",
         "False"
        ]
       ],
       "shape": {
        "columns": 13,
        "rows": 614
       }
      },
      "text/html": [
       "<div>\n",
       "<style scoped>\n",
       "    .dataframe tbody tr th:only-of-type {\n",
       "        vertical-align: middle;\n",
       "    }\n",
       "\n",
       "    .dataframe tbody tr th {\n",
       "        vertical-align: top;\n",
       "    }\n",
       "\n",
       "    .dataframe thead th {\n",
       "        text-align: right;\n",
       "    }\n",
       "</style>\n",
       "<table border=\"1\" class=\"dataframe\">\n",
       "  <thead>\n",
       "    <tr style=\"text-align: right;\">\n",
       "      <th></th>\n",
       "      <th>Loan_ID</th>\n",
       "      <th>Gender</th>\n",
       "      <th>Married</th>\n",
       "      <th>Dependents</th>\n",
       "      <th>Education</th>\n",
       "      <th>Self_Employed</th>\n",
       "      <th>ApplicantIncome</th>\n",
       "      <th>CoapplicantIncome</th>\n",
       "      <th>LoanAmount</th>\n",
       "      <th>Loan_Amount_Term</th>\n",
       "      <th>Credit_History</th>\n",
       "      <th>Property_Area</th>\n",
       "      <th>Loan_Status</th>\n",
       "    </tr>\n",
       "  </thead>\n",
       "  <tbody>\n",
       "    <tr>\n",
       "      <th>0</th>\n",
       "      <td>False</td>\n",
       "      <td>False</td>\n",
       "      <td>False</td>\n",
       "      <td>False</td>\n",
       "      <td>False</td>\n",
       "      <td>False</td>\n",
       "      <td>False</td>\n",
       "      <td>False</td>\n",
       "      <td>True</td>\n",
       "      <td>False</td>\n",
       "      <td>False</td>\n",
       "      <td>False</td>\n",
       "      <td>False</td>\n",
       "    </tr>\n",
       "    <tr>\n",
       "      <th>1</th>\n",
       "      <td>False</td>\n",
       "      <td>False</td>\n",
       "      <td>False</td>\n",
       "      <td>False</td>\n",
       "      <td>False</td>\n",
       "      <td>False</td>\n",
       "      <td>False</td>\n",
       "      <td>False</td>\n",
       "      <td>False</td>\n",
       "      <td>False</td>\n",
       "      <td>False</td>\n",
       "      <td>False</td>\n",
       "      <td>False</td>\n",
       "    </tr>\n",
       "    <tr>\n",
       "      <th>2</th>\n",
       "      <td>False</td>\n",
       "      <td>False</td>\n",
       "      <td>False</td>\n",
       "      <td>False</td>\n",
       "      <td>False</td>\n",
       "      <td>False</td>\n",
       "      <td>False</td>\n",
       "      <td>False</td>\n",
       "      <td>False</td>\n",
       "      <td>False</td>\n",
       "      <td>False</td>\n",
       "      <td>False</td>\n",
       "      <td>False</td>\n",
       "    </tr>\n",
       "    <tr>\n",
       "      <th>3</th>\n",
       "      <td>False</td>\n",
       "      <td>False</td>\n",
       "      <td>False</td>\n",
       "      <td>False</td>\n",
       "      <td>False</td>\n",
       "      <td>False</td>\n",
       "      <td>False</td>\n",
       "      <td>False</td>\n",
       "      <td>False</td>\n",
       "      <td>False</td>\n",
       "      <td>False</td>\n",
       "      <td>False</td>\n",
       "      <td>False</td>\n",
       "    </tr>\n",
       "    <tr>\n",
       "      <th>4</th>\n",
       "      <td>False</td>\n",
       "      <td>False</td>\n",
       "      <td>False</td>\n",
       "      <td>False</td>\n",
       "      <td>False</td>\n",
       "      <td>False</td>\n",
       "      <td>False</td>\n",
       "      <td>False</td>\n",
       "      <td>False</td>\n",
       "      <td>False</td>\n",
       "      <td>False</td>\n",
       "      <td>False</td>\n",
       "      <td>False</td>\n",
       "    </tr>\n",
       "    <tr>\n",
       "      <th>...</th>\n",
       "      <td>...</td>\n",
       "      <td>...</td>\n",
       "      <td>...</td>\n",
       "      <td>...</td>\n",
       "      <td>...</td>\n",
       "      <td>...</td>\n",
       "      <td>...</td>\n",
       "      <td>...</td>\n",
       "      <td>...</td>\n",
       "      <td>...</td>\n",
       "      <td>...</td>\n",
       "      <td>...</td>\n",
       "      <td>...</td>\n",
       "    </tr>\n",
       "    <tr>\n",
       "      <th>609</th>\n",
       "      <td>False</td>\n",
       "      <td>False</td>\n",
       "      <td>False</td>\n",
       "      <td>False</td>\n",
       "      <td>False</td>\n",
       "      <td>False</td>\n",
       "      <td>False</td>\n",
       "      <td>False</td>\n",
       "      <td>False</td>\n",
       "      <td>False</td>\n",
       "      <td>False</td>\n",
       "      <td>False</td>\n",
       "      <td>False</td>\n",
       "    </tr>\n",
       "    <tr>\n",
       "      <th>610</th>\n",
       "      <td>False</td>\n",
       "      <td>False</td>\n",
       "      <td>False</td>\n",
       "      <td>False</td>\n",
       "      <td>False</td>\n",
       "      <td>False</td>\n",
       "      <td>False</td>\n",
       "      <td>False</td>\n",
       "      <td>False</td>\n",
       "      <td>False</td>\n",
       "      <td>False</td>\n",
       "      <td>False</td>\n",
       "      <td>False</td>\n",
       "    </tr>\n",
       "    <tr>\n",
       "      <th>611</th>\n",
       "      <td>False</td>\n",
       "      <td>False</td>\n",
       "      <td>False</td>\n",
       "      <td>False</td>\n",
       "      <td>False</td>\n",
       "      <td>False</td>\n",
       "      <td>False</td>\n",
       "      <td>False</td>\n",
       "      <td>False</td>\n",
       "      <td>False</td>\n",
       "      <td>False</td>\n",
       "      <td>False</td>\n",
       "      <td>False</td>\n",
       "    </tr>\n",
       "    <tr>\n",
       "      <th>612</th>\n",
       "      <td>False</td>\n",
       "      <td>False</td>\n",
       "      <td>False</td>\n",
       "      <td>False</td>\n",
       "      <td>False</td>\n",
       "      <td>False</td>\n",
       "      <td>False</td>\n",
       "      <td>False</td>\n",
       "      <td>False</td>\n",
       "      <td>False</td>\n",
       "      <td>False</td>\n",
       "      <td>False</td>\n",
       "      <td>False</td>\n",
       "    </tr>\n",
       "    <tr>\n",
       "      <th>613</th>\n",
       "      <td>False</td>\n",
       "      <td>False</td>\n",
       "      <td>False</td>\n",
       "      <td>False</td>\n",
       "      <td>False</td>\n",
       "      <td>False</td>\n",
       "      <td>False</td>\n",
       "      <td>False</td>\n",
       "      <td>False</td>\n",
       "      <td>False</td>\n",
       "      <td>False</td>\n",
       "      <td>False</td>\n",
       "      <td>False</td>\n",
       "    </tr>\n",
       "  </tbody>\n",
       "</table>\n",
       "<p>614 rows × 13 columns</p>\n",
       "</div>"
      ],
      "text/plain": [
       "     Loan_ID  Gender  Married  Dependents  Education  Self_Employed  \\\n",
       "0      False   False    False       False      False          False   \n",
       "1      False   False    False       False      False          False   \n",
       "2      False   False    False       False      False          False   \n",
       "3      False   False    False       False      False          False   \n",
       "4      False   False    False       False      False          False   \n",
       "..       ...     ...      ...         ...        ...            ...   \n",
       "609    False   False    False       False      False          False   \n",
       "610    False   False    False       False      False          False   \n",
       "611    False   False    False       False      False          False   \n",
       "612    False   False    False       False      False          False   \n",
       "613    False   False    False       False      False          False   \n",
       "\n",
       "     ApplicantIncome  CoapplicantIncome  LoanAmount  Loan_Amount_Term  \\\n",
       "0              False              False        True             False   \n",
       "1              False              False       False             False   \n",
       "2              False              False       False             False   \n",
       "3              False              False       False             False   \n",
       "4              False              False       False             False   \n",
       "..               ...                ...         ...               ...   \n",
       "609            False              False       False             False   \n",
       "610            False              False       False             False   \n",
       "611            False              False       False             False   \n",
       "612            False              False       False             False   \n",
       "613            False              False       False             False   \n",
       "\n",
       "     Credit_History  Property_Area  Loan_Status  \n",
       "0             False          False        False  \n",
       "1             False          False        False  \n",
       "2             False          False        False  \n",
       "3             False          False        False  \n",
       "4             False          False        False  \n",
       "..              ...            ...          ...  \n",
       "609           False          False        False  \n",
       "610           False          False        False  \n",
       "611           False          False        False  \n",
       "612           False          False        False  \n",
       "613           False          False        False  \n",
       "\n",
       "[614 rows x 13 columns]"
      ]
     },
     "execution_count": 8,
     "metadata": {},
     "output_type": "execute_result"
    }
   ],
   "source": [
    "df.isnull()"
   ]
  },
  {
   "cell_type": "code",
   "execution_count": 9,
   "id": "3999cb8e",
   "metadata": {},
   "outputs": [
    {
     "data": {
      "application/vnd.microsoft.datawrangler.viewer.v0+json": {
       "columns": [
        {
         "name": "index",
         "rawType": "object",
         "type": "string"
        },
        {
         "name": "0",
         "rawType": "int64",
         "type": "integer"
        }
       ],
       "ref": "318832e2-53e4-4fd8-872d-c9fd21815cd6",
       "rows": [
        [
         "Loan_ID",
         "0"
        ],
        [
         "Gender",
         "13"
        ],
        [
         "Married",
         "3"
        ],
        [
         "Dependents",
         "15"
        ],
        [
         "Education",
         "0"
        ],
        [
         "Self_Employed",
         "32"
        ],
        [
         "ApplicantIncome",
         "0"
        ],
        [
         "CoapplicantIncome",
         "0"
        ],
        [
         "LoanAmount",
         "22"
        ],
        [
         "Loan_Amount_Term",
         "14"
        ],
        [
         "Credit_History",
         "50"
        ],
        [
         "Property_Area",
         "0"
        ],
        [
         "Loan_Status",
         "0"
        ]
       ],
       "shape": {
        "columns": 1,
        "rows": 13
       }
      },
      "text/plain": [
       "Loan_ID               0\n",
       "Gender               13\n",
       "Married               3\n",
       "Dependents           15\n",
       "Education             0\n",
       "Self_Employed        32\n",
       "ApplicantIncome       0\n",
       "CoapplicantIncome     0\n",
       "LoanAmount           22\n",
       "Loan_Amount_Term     14\n",
       "Credit_History       50\n",
       "Property_Area         0\n",
       "Loan_Status           0\n",
       "dtype: int64"
      ]
     },
     "execution_count": 9,
     "metadata": {},
     "output_type": "execute_result"
    }
   ],
   "source": [
    "df.isnull().sum()"
   ]
  },
  {
   "cell_type": "code",
   "execution_count": 14,
   "id": "94b1b853",
   "metadata": {},
   "outputs": [
    {
     "data": {
      "application/vnd.microsoft.datawrangler.viewer.v0+json": {
       "columns": [
        {
         "name": "index",
         "rawType": "object",
         "type": "string"
        },
        {
         "name": "0",
         "rawType": "float64",
         "type": "float"
        }
       ],
       "ref": "5f894ea1-cd27-41a2-b0ee-9cdddb507f25",
       "rows": [
        [
         "Loan_ID",
         "0.0"
        ],
        [
         "Gender",
         "2.1172638436482085"
        ],
        [
         "Married",
         "0.4885993485342019"
        ],
        [
         "Dependents",
         "2.44299674267101"
        ],
        [
         "Education",
         "0.0"
        ],
        [
         "Self_Employed",
         "5.211726384364821"
        ],
        [
         "ApplicantIncome",
         "0.0"
        ],
        [
         "CoapplicantIncome",
         "0.0"
        ],
        [
         "LoanAmount",
         "3.5830618892508146"
        ],
        [
         "Loan_Amount_Term",
         "2.2801302931596092"
        ],
        [
         "Credit_History",
         "8.143322475570033"
        ],
        [
         "Property_Area",
         "0.0"
        ],
        [
         "Loan_Status",
         "0.0"
        ]
       ],
       "shape": {
        "columns": 1,
        "rows": 13
       }
      },
      "text/plain": [
       "Loan_ID              0.000000\n",
       "Gender               2.117264\n",
       "Married              0.488599\n",
       "Dependents           2.442997\n",
       "Education            0.000000\n",
       "Self_Employed        5.211726\n",
       "ApplicantIncome      0.000000\n",
       "CoapplicantIncome    0.000000\n",
       "LoanAmount           3.583062\n",
       "Loan_Amount_Term     2.280130\n",
       "Credit_History       8.143322\n",
       "Property_Area        0.000000\n",
       "Loan_Status          0.000000\n",
       "dtype: float64"
      ]
     },
     "execution_count": 14,
     "metadata": {},
     "output_type": "execute_result"
    }
   ],
   "source": [
    "(df.isnull().sum()/df.shape[0]*100)"
   ]
  },
  {
   "cell_type": "code",
   "execution_count": 15,
   "id": "a72bcbee",
   "metadata": {},
   "outputs": [
    {
     "data": {
      "application/vnd.microsoft.datawrangler.viewer.v0+json": {
       "columns": [
        {
         "name": "index",
         "rawType": "object",
         "type": "string"
        },
        {
         "name": "0",
         "rawType": "int64",
         "type": "integer"
        }
       ],
       "ref": "607408d7-4da7-4309-82a7-f6f4d8a7dee5",
       "rows": [
        [
         "Loan_ID",
         "0"
        ],
        [
         "Gender",
         "13"
        ],
        [
         "Married",
         "3"
        ],
        [
         "Dependents",
         "15"
        ],
        [
         "Education",
         "0"
        ],
        [
         "Self_Employed",
         "32"
        ],
        [
         "ApplicantIncome",
         "0"
        ],
        [
         "CoapplicantIncome",
         "0"
        ],
        [
         "LoanAmount",
         "22"
        ],
        [
         "Loan_Amount_Term",
         "14"
        ],
        [
         "Credit_History",
         "50"
        ],
        [
         "Property_Area",
         "0"
        ],
        [
         "Loan_Status",
         "0"
        ]
       ],
       "shape": {
        "columns": 1,
        "rows": 13
       }
      },
      "text/plain": [
       "Loan_ID               0\n",
       "Gender               13\n",
       "Married               3\n",
       "Dependents           15\n",
       "Education             0\n",
       "Self_Employed        32\n",
       "ApplicantIncome       0\n",
       "CoapplicantIncome     0\n",
       "LoanAmount           22\n",
       "Loan_Amount_Term     14\n",
       "Credit_History       50\n",
       "Property_Area         0\n",
       "Loan_Status           0\n",
       "dtype: int64"
      ]
     },
     "execution_count": 15,
     "metadata": {},
     "output_type": "execute_result"
    }
   ],
   "source": [
    "df.isnull().sum()"
   ]
  },
  {
   "cell_type": "code",
   "execution_count": 16,
   "id": "d953866a",
   "metadata": {},
   "outputs": [
    {
     "data": {
      "text/plain": [
       "np.float64(1.8667000751691305)"
      ]
     },
     "execution_count": 16,
     "metadata": {},
     "output_type": "execute_result"
    }
   ],
   "source": [
    "(df.isnull().sum().sum()/(df.shape[0]*df.shape[1])*100)"
   ]
  },
  {
   "cell_type": "code",
   "execution_count": 18,
   "id": "91f52795",
   "metadata": {},
   "outputs": [
    {
     "data": {
      "image/png": "[encoded data removed]",
      "text/plain": [
       "<Figure size 640x480 with 2 Axes>"
      ]
     },
     "metadata": {},
     "output_type": "display_data"
    }
   ],
   "source": [
    "sns.heatmap(df.isnull())\n",
    "plt.show()"
   ]
  },
  {
   "cell_type": "markdown",
   "id": "a07db216",
   "metadata": {},
   "source": [
    "# Handling_Missing_Values\n",
    "-- Part 1"
   ]
  },
  {
   "cell_type": "code",
   "execution_count": 19,
   "id": "f311e27b",
   "metadata": {},
   "outputs": [
    {
     "data": {
      "application/vnd.microsoft.datawrangler.viewer.v0+json": {
       "columns": [
        {
         "name": "index",
         "rawType": "object",
         "type": "string"
        },
        {
         "name": "0",
         "rawType": "int64",
         "type": "integer"
        }
       ],
       "ref": "6c287836-663a-4430-a4a5-af97f16a5872",
       "rows": [
        [
         "Loan_ID",
         "0"
        ],
        [
         "Gender",
         "13"
        ],
        [
         "Married",
         "3"
        ],
        [
         "Dependents",
         "15"
        ],
        [
         "Education",
         "0"
        ],
        [
         "Self_Employed",
         "32"
        ],
        [
         "ApplicantIncome",
         "0"
        ],
        [
         "CoapplicantIncome",
         "0"
        ],
        [
         "LoanAmount",
         "22"
        ],
        [
         "Loan_Amount_Term",
         "14"
        ],
        [
         "Credit_History",
         "50"
        ],
        [
         "Property_Area",
         "0"
        ],
        [
         "Loan_Status",
         "0"
        ]
       ],
       "shape": {
        "columns": 1,
        "rows": 13
       }
      },
      "text/plain": [
       "Loan_ID               0\n",
       "Gender               13\n",
       "Married               3\n",
       "Dependents           15\n",
       "Education             0\n",
       "Self_Employed        32\n",
       "ApplicantIncome       0\n",
       "CoapplicantIncome     0\n",
       "LoanAmount           22\n",
       "Loan_Amount_Term     14\n",
       "Credit_History       50\n",
       "Property_Area         0\n",
       "Loan_Status           0\n",
       "dtype: int64"
      ]
     },
     "execution_count": 19,
     "metadata": {},
     "output_type": "execute_result"
    }
   ],
   "source": [
    "df.isnull().sum()"
   ]
  },
  {
   "cell_type": "markdown",
   "id": "30cc3cbc",
   "metadata": {},
   "source": [
    "# Deleting_Data\n",
    "#### 1. drop columns -> thats missing values are greater than 50%\n",
    "####  2. drop rows -> drop a single rows "
   ]
  },
  {
   "cell_type": "code",
   "execution_count": 21,
   "id": "7fb5d450",
   "metadata": {},
   "outputs": [],
   "source": [
    "# for columns \n",
    "df.drop(columns=['Self_Employed'],inplace=True) \n",
    "\n",
    "# for rows \n",
    "df.dropna(inplace=True)"
   ]
  },
  {
   "cell_type": "code",
   "execution_count": 23,
   "id": "9eec1025",
   "metadata": {},
   "outputs": [
    {
     "data": {
      "text/plain": [
       "(505, 12)"
      ]
     },
     "execution_count": 23,
     "metadata": {},
     "output_type": "execute_result"
    }
   ],
   "source": [
    "df.shape"
   ]
  },
  {
   "cell_type": "code",
   "execution_count": 26,
   "id": "432e2abd",
   "metadata": {},
   "outputs": [
    {
     "data": {
      "image/png": "[encoded data removed]",
      "text/plain": [
       "<Figure size 640x480 with 2 Axes>"
      ]
     },
     "metadata": {},
     "output_type": "display_data"
    }
   ],
   "source": [
    "sns.heatmap(df.isnull())\n",
    "plt.show()"
   ]
  },
  {
   "cell_type": "markdown",
   "id": "39e8f2ca",
   "metadata": {},
   "source": [
    "- after drop data we lose more data "
   ]
  },
  {
   "cell_type": "markdown",
   "id": "76fa7c04",
   "metadata": {},
   "source": [
    "# Handling_Missing_Values\n",
    "  -  Part 2"
   ]
  },
  {
   "cell_type": "code",
   "execution_count": 28,
   "id": "e32904b5",
   "metadata": {},
   "outputs": [],
   "source": [
    "train_path = pd.read_csv(\"c:/Users/hp/Downloads/train_u6lujuX_CVtuZ9i.csv\")\n",
    "df = train_path\n"
   ]
  },
  {
   "cell_type": "code",
   "execution_count": 30,
   "id": "ba5c5459",
   "metadata": {},
   "outputs": [
    {
     "data": {
      "application/vnd.microsoft.datawrangler.viewer.v0+json": {
       "columns": [
        {
         "name": "index",
         "rawType": "object",
         "type": "string"
        },
        {
         "name": "0",
         "rawType": "int64",
         "type": "integer"
        }
       ],
       "ref": "3605334b-ff34-4979-8b46-ac6ffbb48231",
       "rows": [
        [
         "Loan_ID",
         "0"
        ],
        [
         "Gender",
         "13"
        ],
        [
         "Married",
         "3"
        ],
        [
         "Dependents",
         "15"
        ],
        [
         "Education",
         "0"
        ],
        [
         "Self_Employed",
         "32"
        ],
        [
         "ApplicantIncome",
         "0"
        ],
        [
         "CoapplicantIncome",
         "0"
        ],
        [
         "LoanAmount",
         "22"
        ],
        [
         "Loan_Amount_Term",
         "14"
        ],
        [
         "Credit_History",
         "50"
        ],
        [
         "Property_Area",
         "0"
        ],
        [
         "Loan_Status",
         "0"
        ]
       ],
       "shape": {
        "columns": 1,
        "rows": 13
       }
      },
      "text/plain": [
       "Loan_ID               0\n",
       "Gender               13\n",
       "Married               3\n",
       "Dependents           15\n",
       "Education             0\n",
       "Self_Employed        32\n",
       "ApplicantIncome       0\n",
       "CoapplicantIncome     0\n",
       "LoanAmount           22\n",
       "Loan_Amount_Term     14\n",
       "Credit_History       50\n",
       "Property_Area         0\n",
       "Loan_Status           0\n",
       "dtype: int64"
      ]
     },
     "execution_count": 30,
     "metadata": {},
     "output_type": "execute_result"
    }
   ],
   "source": [
    "df.isnull().sum()"
   ]
  },
  {
   "cell_type": "code",
   "execution_count": 32,
   "id": "43ed895e",
   "metadata": {},
   "outputs": [
    {
     "name": "stdout",
     "output_type": "stream",
     "text": [
      "<class 'pandas.core.frame.DataFrame'>\n",
      "RangeIndex: 614 entries, 0 to 613\n",
      "Data columns (total 13 columns):\n",
      " #   Column             Non-Null Count  Dtype  \n",
      "---  ------             --------------  -----  \n",
      " 0   Loan_ID            614 non-null    object \n",
      " 1   Gender             601 non-null    object \n",
      " 2   Married            611 non-null    object \n",
      " 3   Dependents         599 non-null    object \n",
      " 4   Education          614 non-null    object \n",
      " 5   Self_Employed      582 non-null    object \n",
      " 6   ApplicantIncome    614 non-null    int64  \n",
      " 7   CoapplicantIncome  614 non-null    float64\n",
      " 8   LoanAmount         592 non-null    float64\n",
      " 9   Loan_Amount_Term   600 non-null    float64\n",
      " 10  Credit_History     564 non-null    float64\n",
      " 11  Property_Area      614 non-null    object \n",
      " 12  Loan_Status        614 non-null    object \n",
      "dtypes: float64(4), int64(1), object(8)\n",
      "memory usage: 62.5+ KB\n"
     ]
    }
   ],
   "source": [
    "df.info()"
   ]
  },
  {
   "cell_type": "markdown",
   "id": "d39aaf9e",
   "metadata": {},
   "source": [
    "# Backfill and frowardfiiling "
   ]
  },
  {
   "cell_type": "code",
   "execution_count": null,
   "id": "0dab0b2a",
   "metadata": {},
   "outputs": [],
   "source": [
    "df.fillna(method=\"ffill\",axis=1)\n",
    "df.fillna(method=\"bfill\",axis=1)"
   ]
  },
  {
   "cell_type": "code",
   "execution_count": 34,
   "id": "36939f39",
   "metadata": {},
   "outputs": [],
   "source": [
    "df[\"Gender\"].fillna(df[\"Gender\"].mode()[0],inplace=True)"
   ]
  },
  {
   "cell_type": "code",
   "execution_count": 36,
   "id": "dc835484",
   "metadata": {},
   "outputs": [
    {
     "data": {
      "application/vnd.microsoft.datawrangler.viewer.v0+json": {
       "columns": [
        {
         "name": "index",
         "rawType": "object",
         "type": "string"
        },
        {
         "name": "0",
         "rawType": "int64",
         "type": "integer"
        }
       ],
       "ref": "fe49f344-57a6-458b-a1d1-7989879131fd",
       "rows": [
        [
         "Loan_ID",
         "0"
        ],
        [
         "Gender",
         "0"
        ],
        [
         "Married",
         "3"
        ],
        [
         "Dependents",
         "15"
        ],
        [
         "Education",
         "0"
        ],
        [
         "Self_Employed",
         "32"
        ],
        [
         "Property_Area",
         "0"
        ],
        [
         "Loan_Status",
         "0"
        ]
       ],
       "shape": {
        "columns": 1,
        "rows": 8
       }
      },
      "text/plain": [
       "Loan_ID           0\n",
       "Gender            0\n",
       "Married           3\n",
       "Dependents       15\n",
       "Education         0\n",
       "Self_Employed    32\n",
       "Property_Area     0\n",
       "Loan_Status       0\n",
       "dtype: int64"
      ]
     },
     "execution_count": 36,
     "metadata": {},
     "output_type": "execute_result"
    }
   ],
   "source": [
    "df.select_dtypes(include=\"object\").isnull().sum()"
   ]
  },
  {
   "cell_type": "markdown",
   "id": "2c19eed0",
   "metadata": {},
   "source": [
    "# Use loop function"
   ]
  },
  {
   "cell_type": "markdown",
   "id": "145b5b87",
   "metadata": {},
   "source": [
    "# Fill_Categorical_data"
   ]
  },
  {
   "cell_type": "code",
   "execution_count": 40,
   "id": "e312710a",
   "metadata": {},
   "outputs": [
    {
     "name": "stderr",
     "output_type": "stream",
     "text": [
      "C:\\Users\\hp\\AppData\\Local\\Temp\\ipykernel_13168\\79449066.py:2: FutureWarning: A value is trying to be set on a copy of a DataFrame or Series through chained assignment using an inplace method.\n",
      "The behavior will change in pandas 3.0. This inplace method will never work because the intermediate object on which we are setting values always behaves as a copy.\n",
      "\n",
      "For example, when doing 'df[col].method(value, inplace=True)', try using 'df.method({col: value}, inplace=True)' or df[col] = df[col].method(value) instead, to perform the operation inplace on the original object.\n",
      "\n",
      "\n",
      "  df[i].fillna(df[i].mode()[0],inplace=True)\n"
     ]
    }
   ],
   "source": [
    "for i in df.select_dtypes(include=\"object\").columns:\n",
    "    df[i].fillna(df[i].mode()[0],inplace=True)\n",
    "\n"
   ]
  },
  {
   "cell_type": "code",
   "execution_count": 56,
   "id": "0d907bda",
   "metadata": {},
   "outputs": [],
   "source": [
    "train_path ['LoanAmount'] = train_path ['LoanAmount'].fillna(train_path['LoanAmount'].mean())\n",
    "train_path ['Loan_Amount_Term'] = train_path ['Loan_Amount_Term'].fillna(train_path['Loan_Amount_Term'].mean())\n",
    "train_path ['Credit_History'] = train_path ['Credit_History'].fillna(train_path['Credit_History'].mean())"
   ]
  },
  {
   "cell_type": "code",
   "execution_count": 57,
   "id": "272a2859",
   "metadata": {},
   "outputs": [
    {
     "data": {
      "application/vnd.microsoft.datawrangler.viewer.v0+json": {
       "columns": [
        {
         "name": "index",
         "rawType": "object",
         "type": "string"
        },
        {
         "name": "0",
         "rawType": "int64",
         "type": "integer"
        }
       ],
       "ref": "94d5ae91-6fc2-4914-8072-278f56e5ed91",
       "rows": [
        [
         "Loan_ID",
         "0"
        ],
        [
         "Gender",
         "0"
        ],
        [
         "Married",
         "0"
        ],
        [
         "Dependents",
         "0"
        ],
        [
         "Education",
         "0"
        ],
        [
         "Self_Employed",
         "0"
        ],
        [
         "ApplicantIncome",
         "0"
        ],
        [
         "CoapplicantIncome",
         "0"
        ],
        [
         "LoanAmount",
         "0"
        ],
        [
         "Loan_Amount_Term",
         "0"
        ],
        [
         "Credit_History",
         "0"
        ],
        [
         "Property_Area",
         "0"
        ],
        [
         "Loan_Status",
         "0"
        ]
       ],
       "shape": {
        "columns": 1,
        "rows": 13
       }
      },
      "text/plain": [
       "Loan_ID              0\n",
       "Gender               0\n",
       "Married              0\n",
       "Dependents           0\n",
       "Education            0\n",
       "Self_Employed        0\n",
       "ApplicantIncome      0\n",
       "CoapplicantIncome    0\n",
       "LoanAmount           0\n",
       "Loan_Amount_Term     0\n",
       "Credit_History       0\n",
       "Property_Area        0\n",
       "Loan_Status          0\n",
       "dtype: int64"
      ]
     },
     "execution_count": 57,
     "metadata": {},
     "output_type": "execute_result"
    }
   ],
   "source": [
    "df.isnull().sum()"
   ]
  },
  {
   "cell_type": "markdown",
   "id": "2cf007a4",
   "metadata": {},
   "source": [
    "# Use SimpleImputer to fillna"
   ]
  },
  {
   "cell_type": "code",
   "execution_count": 44,
   "id": "e13656bf",
   "metadata": {},
   "outputs": [
    {
     "data": {
      "text/plain": [
       "Index(['CoapplicantIncome', 'LoanAmount', 'Loan_Amount_Term',\n",
       "       'Credit_History'],\n",
       "      dtype='object')"
      ]
     },
     "execution_count": 44,
     "metadata": {},
     "output_type": "execute_result"
    }
   ],
   "source": [
    "df.select_dtypes(include=\"Float64\").columns"
   ]
  },
  {
   "cell_type": "code",
   "execution_count": 54,
   "id": "26fdb712",
   "metadata": {},
   "outputs": [],
   "source": [
    "from sklearn.impute import SimpleImputer\n",
    "\n"
   ]
  },
  {
   "cell_type": "code",
   "execution_count": 55,
   "id": "b08c50e6",
   "metadata": {},
   "outputs": [],
   "source": [
    "si = SimpleImputer(strategy=\"mean\")\n",
    "arr = si.fit_transform(df[['CoapplicantIncome', 'LoanAmount', 'Loan_Amount_Term',\n",
    "       'Credit_History']])"
   ]
  },
  {
   "cell_type": "code",
   "execution_count": 61,
   "id": "ad46f8a3",
   "metadata": {},
   "outputs": [
    {
     "data": {
      "text/plain": [
       "<Axes: >"
      ]
     },
     "execution_count": 61,
     "metadata": {},
     "output_type": "execute_result"
    },
    {
     "data": {
      "image/png": "[encoded data removed]",
      "text/plain": [
       "<Figure size 640x480 with 2 Axes>"
      ]
     },
     "metadata": {},
     "output_type": "display_data"
    }
   ],
   "source": [
    "sns.heatmap(df.isnull(),cmap='viridis')"
   ]
  },
  {
   "cell_type": "markdown",
   "id": "b7245cd8",
   "metadata": {},
   "source": [
    "# One_Hot_Encoding"
   ]
  },
  {
   "cell_type": "code",
   "execution_count": 62,
   "id": "542e4958",
   "metadata": {},
   "outputs": [],
   "source": [
    "enc_data= df[[\"Gender\", \"Married\"]]"
   ]
  },
  {
   "cell_type": "code",
   "execution_count": 63,
   "id": "53ae8bbe",
   "metadata": {},
   "outputs": [
    {
     "data": {
      "application/vnd.microsoft.datawrangler.viewer.v0+json": {
       "columns": [
        {
         "name": "index",
         "rawType": "int64",
         "type": "integer"
        },
        {
         "name": "Gender_Female",
         "rawType": "bool",
         "type": "boolean"
        },
        {
         "name": "Gender_Male",
         "rawType": "bool",
         "type": "boolean"
        },
        {
         "name": "Married_No",
         "rawType": "bool",
         "type": "boolean"
        },
        {
         "name": "Married_Yes",
         "rawType": "bool",
         "type": "boolean"
        }
       ],
       "ref": "c63894f8-398c-4297-b340-a68963c4b095",
       "rows": [
        [
         "0",
         "False",
         "True",
         "True",
         "False"
        ],
        [
         "1",
         "False",
         "True",
         "False",
         "True"
        ],
        [
         "2",
         "False",
         "True",
         "False",
         "True"
        ],
        [
         "3",
         "False",
         "True",
         "False",
         "True"
        ],
        [
         "4",
         "False",
         "True",
         "True",
         "False"
        ],
        [
         "5",
         "False",
         "True",
         "False",
         "True"
        ],
        [
         "6",
         "False",
         "True",
         "False",
         "True"
        ],
        [
         "7",
         "False",
         "True",
         "False",
         "True"
        ],
        [
         "8",
         "False",
         "True",
         "False",
         "True"
        ],
        [
         "9",
         "False",
         "True",
         "False",
         "True"
        ],
        [
         "10",
         "False",
         "True",
         "False",
         "True"
        ],
        [
         "11",
         "False",
         "True",
         "False",
         "True"
        ],
        [
         "12",
         "False",
         "True",
         "False",
         "True"
        ],
        [
         "13",
         "False",
         "True",
         "True",
         "False"
        ],
        [
         "14",
         "False",
         "True",
         "False",
         "True"
        ],
        [
         "15",
         "False",
         "True",
         "True",
         "False"
        ],
        [
         "16",
         "False",
         "True",
         "True",
         "False"
        ],
        [
         "17",
         "True",
         "False",
         "True",
         "False"
        ],
        [
         "18",
         "False",
         "True",
         "False",
         "True"
        ],
        [
         "19",
         "False",
         "True",
         "False",
         "True"
        ],
        [
         "20",
         "False",
         "True",
         "False",
         "True"
        ],
        [
         "21",
         "False",
         "True",
         "False",
         "True"
        ],
        [
         "22",
         "False",
         "True",
         "False",
         "True"
        ],
        [
         "23",
         "False",
         "True",
         "False",
         "True"
        ],
        [
         "24",
         "False",
         "True",
         "False",
         "True"
        ],
        [
         "25",
         "False",
         "True",
         "False",
         "True"
        ],
        [
         "26",
         "False",
         "True",
         "False",
         "True"
        ],
        [
         "27",
         "False",
         "True",
         "False",
         "True"
        ],
        [
         "28",
         "False",
         "True",
         "True",
         "False"
        ],
        [
         "29",
         "True",
         "False",
         "True",
         "False"
        ],
        [
         "30",
         "False",
         "True",
         "False",
         "True"
        ],
        [
         "31",
         "False",
         "True",
         "True",
         "False"
        ],
        [
         "32",
         "False",
         "True",
         "True",
         "False"
        ],
        [
         "33",
         "False",
         "True",
         "False",
         "True"
        ],
        [
         "34",
         "False",
         "True",
         "True",
         "False"
        ],
        [
         "35",
         "False",
         "True",
         "False",
         "True"
        ],
        [
         "36",
         "False",
         "True",
         "False",
         "True"
        ],
        [
         "37",
         "True",
         "False",
         "False",
         "True"
        ],
        [
         "38",
         "False",
         "True",
         "True",
         "False"
        ],
        [
         "39",
         "False",
         "True",
         "True",
         "False"
        ],
        [
         "40",
         "False",
         "True",
         "True",
         "False"
        ],
        [
         "41",
         "False",
         "True",
         "True",
         "False"
        ],
        [
         "42",
         "False",
         "True",
         "False",
         "True"
        ],
        [
         "43",
         "False",
         "True",
         "False",
         "True"
        ],
        [
         "44",
         "False",
         "True",
         "False",
         "True"
        ],
        [
         "45",
         "True",
         "False",
         "True",
         "False"
        ],
        [
         "46",
         "False",
         "True",
         "False",
         "True"
        ],
        [
         "47",
         "False",
         "True",
         "False",
         "True"
        ],
        [
         "48",
         "True",
         "False",
         "False",
         "True"
        ],
        [
         "49",
         "True",
         "False",
         "True",
         "False"
        ]
       ],
       "shape": {
        "columns": 4,
        "rows": 614
       }
      },
      "text/html": [
       "<div>\n",
       "<style scoped>\n",
       "    .dataframe tbody tr th:only-of-type {\n",
       "        vertical-align: middle;\n",
       "    }\n",
       "\n",
       "    .dataframe tbody tr th {\n",
       "        vertical-align: top;\n",
       "    }\n",
       "\n",
       "    .dataframe thead th {\n",
       "        text-align: right;\n",
       "    }\n",
       "</style>\n",
       "<table border=\"1\" class=\"dataframe\">\n",
       "  <thead>\n",
       "    <tr style=\"text-align: right;\">\n",
       "      <th></th>\n",
       "      <th>Gender_Female</th>\n",
       "      <th>Gender_Male</th>\n",
       "      <th>Married_No</th>\n",
       "      <th>Married_Yes</th>\n",
       "    </tr>\n",
       "  </thead>\n",
       "  <tbody>\n",
       "    <tr>\n",
       "      <th>0</th>\n",
       "      <td>False</td>\n",
       "      <td>True</td>\n",
       "      <td>True</td>\n",
       "      <td>False</td>\n",
       "    </tr>\n",
       "    <tr>\n",
       "      <th>1</th>\n",
       "      <td>False</td>\n",
       "      <td>True</td>\n",
       "      <td>False</td>\n",
       "      <td>True</td>\n",
       "    </tr>\n",
       "    <tr>\n",
       "      <th>2</th>\n",
       "      <td>False</td>\n",
       "      <td>True</td>\n",
       "      <td>False</td>\n",
       "      <td>True</td>\n",
       "    </tr>\n",
       "    <tr>\n",
       "      <th>3</th>\n",
       "      <td>False</td>\n",
       "      <td>True</td>\n",
       "      <td>False</td>\n",
       "      <td>True</td>\n",
       "    </tr>\n",
       "    <tr>\n",
       "      <th>4</th>\n",
       "      <td>False</td>\n",
       "      <td>True</td>\n",
       "      <td>True</td>\n",
       "      <td>False</td>\n",
       "    </tr>\n",
       "    <tr>\n",
       "      <th>...</th>\n",
       "      <td>...</td>\n",
       "      <td>...</td>\n",
       "      <td>...</td>\n",
       "      <td>...</td>\n",
       "    </tr>\n",
       "    <tr>\n",
       "      <th>609</th>\n",
       "      <td>True</td>\n",
       "      <td>False</td>\n",
       "      <td>True</td>\n",
       "      <td>False</td>\n",
       "    </tr>\n",
       "    <tr>\n",
       "      <th>610</th>\n",
       "      <td>False</td>\n",
       "      <td>True</td>\n",
       "      <td>False</td>\n",
       "      <td>True</td>\n",
       "    </tr>\n",
       "    <tr>\n",
       "      <th>611</th>\n",
       "      <td>False</td>\n",
       "      <td>True</td>\n",
       "      <td>False</td>\n",
       "      <td>True</td>\n",
       "    </tr>\n",
       "    <tr>\n",
       "      <th>612</th>\n",
       "      <td>False</td>\n",
       "      <td>True</td>\n",
       "      <td>False</td>\n",
       "      <td>True</td>\n",
       "    </tr>\n",
       "    <tr>\n",
       "      <th>613</th>\n",
       "      <td>True</td>\n",
       "      <td>False</td>\n",
       "      <td>True</td>\n",
       "      <td>False</td>\n",
       "    </tr>\n",
       "  </tbody>\n",
       "</table>\n",
       "<p>614 rows × 4 columns</p>\n",
       "</div>"
      ],
      "text/plain": [
       "     Gender_Female  Gender_Male  Married_No  Married_Yes\n",
       "0            False         True        True        False\n",
       "1            False         True       False         True\n",
       "2            False         True       False         True\n",
       "3            False         True       False         True\n",
       "4            False         True        True        False\n",
       "..             ...          ...         ...          ...\n",
       "609           True        False        True        False\n",
       "610          False         True       False         True\n",
       "611          False         True       False         True\n",
       "612          False         True       False         True\n",
       "613           True        False        True        False\n",
       "\n",
       "[614 rows x 4 columns]"
      ]
     },
     "execution_count": 63,
     "metadata": {},
     "output_type": "execute_result"
    }
   ],
   "source": [
    "pd.get_dummies(enc_data)"
   ]
  },
  {
   "cell_type": "code",
   "execution_count": 68,
   "id": "0535b49c",
   "metadata": {},
   "outputs": [
    {
     "name": "stdout",
     "output_type": "stream",
     "text": [
      "<class 'pandas.core.frame.DataFrame'>\n",
      "RangeIndex: 614 entries, 0 to 613\n",
      "Data columns (total 4 columns):\n",
      " #   Column         Non-Null Count  Dtype\n",
      "---  ------         --------------  -----\n",
      " 0   Gender_Female  614 non-null    bool \n",
      " 1   Gender_Male    614 non-null    bool \n",
      " 2   Married_No     614 non-null    bool \n",
      " 3   Married_Yes    614 non-null    bool \n",
      "dtypes: bool(4)\n",
      "memory usage: 2.5 KB\n"
     ]
    }
   ],
   "source": [
    "pd.get_dummies(enc_data).info()"
   ]
  },
  {
   "cell_type": "code",
   "execution_count": 64,
   "id": "03d7d3fe",
   "metadata": {},
   "outputs": [
    {
     "name": "stdout",
     "output_type": "stream",
     "text": [
      "Requirement already satisfied: scikit-learn in c:\\users\\hp\\appdata\\local\\programs\\python\\python312\\lib\\site-packages (1.6.1)\n",
      "Requirement already satisfied: numpy>=1.19.5 in c:\\users\\hp\\appdata\\local\\programs\\python\\python312\\lib\\site-packages (from scikit-learn) (2.3.2)\n",
      "Requirement already satisfied: scipy>=1.6.0 in c:\\users\\hp\\appdata\\local\\programs\\python\\python312\\lib\\site-packages (from scikit-learn) (1.15.2)\n",
      "Requirement already satisfied: joblib>=1.2.0 in c:\\users\\hp\\appdata\\local\\programs\\python\\python312\\lib\\site-packages (from scikit-learn) (1.4.2)\n",
      "Requirement already satisfied: threadpoolctl>=3.1.0 in c:\\users\\hp\\appdata\\local\\programs\\python\\python312\\lib\\site-packages (from scikit-learn) (3.6.0)\n",
      "Note: you may need to restart the kernel to use updated packages.\n"
     ]
    },
    {
     "name": "stderr",
     "output_type": "stream",
     "text": [
      "\n",
      "[notice] A new release of pip is available: 24.0 -> 25.2\n",
      "[notice] To update, run: python.exe -m pip install --upgrade pip\n"
     ]
    }
   ],
   "source": [
    "pip install scikit-learn"
   ]
  },
  {
   "cell_type": "code",
   "execution_count": 66,
   "id": "8ed0315e",
   "metadata": {},
   "outputs": [],
   "source": [
    "from sklearn.preprocessing import OneHotEncoder"
   ]
  },
  {
   "cell_type": "code",
   "execution_count": 72,
   "id": "be5b8a4e",
   "metadata": {},
   "outputs": [
    {
     "data": {
      "text/plain": [
       "array([[1., 0.],\n",
       "       [1., 1.],\n",
       "       [1., 1.],\n",
       "       ...,\n",
       "       [1., 1.],\n",
       "       [1., 1.],\n",
       "       [0., 0.]], shape=(614, 2))"
      ]
     },
     "execution_count": 72,
     "metadata": {},
     "output_type": "execute_result"
    }
   ],
   "source": [
    "oh = OneHotEncoder(drop=\"first\")\n",
    "ar = oh.fit_transform(enc_data).toarray()\n",
    "ar"
   ]
  },
  {
   "cell_type": "code",
   "execution_count": 74,
   "id": "60ef50f9",
   "metadata": {},
   "outputs": [
    {
     "data": {
      "application/vnd.microsoft.datawrangler.viewer.v0+json": {
       "columns": [
        {
         "name": "index",
         "rawType": "int64",
         "type": "integer"
        },
        {
         "name": "Gender_Male",
         "rawType": "float64",
         "type": "float"
        },
        {
         "name": "Married_Yes",
         "rawType": "float64",
         "type": "float"
        }
       ],
       "ref": "dbaf0dfb-c37b-44c8-b667-5854f26e181c",
       "rows": [
        [
         "0",
         "1.0",
         "0.0"
        ],
        [
         "1",
         "1.0",
         "1.0"
        ],
        [
         "2",
         "1.0",
         "1.0"
        ],
        [
         "3",
         "1.0",
         "1.0"
        ],
        [
         "4",
         "1.0",
         "0.0"
        ],
        [
         "5",
         "1.0",
         "1.0"
        ],
        [
         "6",
         "1.0",
         "1.0"
        ],
        [
         "7",
         "1.0",
         "1.0"
        ],
        [
         "8",
         "1.0",
         "1.0"
        ],
        [
         "9",
         "1.0",
         "1.0"
        ],
        [
         "10",
         "1.0",
         "1.0"
        ],
        [
         "11",
         "1.0",
         "1.0"
        ],
        [
         "12",
         "1.0",
         "1.0"
        ],
        [
         "13",
         "1.0",
         "0.0"
        ],
        [
         "14",
         "1.0",
         "1.0"
        ],
        [
         "15",
         "1.0",
         "0.0"
        ],
        [
         "16",
         "1.0",
         "0.0"
        ],
        [
         "17",
         "0.0",
         "0.0"
        ],
        [
         "18",
         "1.0",
         "1.0"
        ],
        [
         "19",
         "1.0",
         "1.0"
        ],
        [
         "20",
         "1.0",
         "1.0"
        ],
        [
         "21",
         "1.0",
         "1.0"
        ],
        [
         "22",
         "1.0",
         "1.0"
        ],
        [
         "23",
         "1.0",
         "1.0"
        ],
        [
         "24",
         "1.0",
         "1.0"
        ],
        [
         "25",
         "1.0",
         "1.0"
        ],
        [
         "26",
         "1.0",
         "1.0"
        ],
        [
         "27",
         "1.0",
         "1.0"
        ],
        [
         "28",
         "1.0",
         "0.0"
        ],
        [
         "29",
         "0.0",
         "0.0"
        ],
        [
         "30",
         "1.0",
         "1.0"
        ],
        [
         "31",
         "1.0",
         "0.0"
        ],
        [
         "32",
         "1.0",
         "0.0"
        ],
        [
         "33",
         "1.0",
         "1.0"
        ],
        [
         "34",
         "1.0",
         "0.0"
        ],
        [
         "35",
         "1.0",
         "1.0"
        ],
        [
         "36",
         "1.0",
         "1.0"
        ],
        [
         "37",
         "0.0",
         "1.0"
        ],
        [
         "38",
         "1.0",
         "0.0"
        ],
        [
         "39",
         "1.0",
         "0.0"
        ],
        [
         "40",
         "1.0",
         "0.0"
        ],
        [
         "41",
         "1.0",
         "0.0"
        ],
        [
         "42",
         "1.0",
         "1.0"
        ],
        [
         "43",
         "1.0",
         "1.0"
        ],
        [
         "44",
         "1.0",
         "1.0"
        ],
        [
         "45",
         "0.0",
         "0.0"
        ],
        [
         "46",
         "1.0",
         "1.0"
        ],
        [
         "47",
         "1.0",
         "1.0"
        ],
        [
         "48",
         "0.0",
         "1.0"
        ],
        [
         "49",
         "0.0",
         "0.0"
        ]
       ],
       "shape": {
        "columns": 2,
        "rows": 614
       }
      },
      "text/html": [
       "<div>\n",
       "<style scoped>\n",
       "    .dataframe tbody tr th:only-of-type {\n",
       "        vertical-align: middle;\n",
       "    }\n",
       "\n",
       "    .dataframe tbody tr th {\n",
       "        vertical-align: top;\n",
       "    }\n",
       "\n",
       "    .dataframe thead th {\n",
       "        text-align: right;\n",
       "    }\n",
       "</style>\n",
       "<table border=\"1\" class=\"dataframe\">\n",
       "  <thead>\n",
       "    <tr style=\"text-align: right;\">\n",
       "      <th></th>\n",
       "      <th>Gender_Male</th>\n",
       "      <th>Married_Yes</th>\n",
       "    </tr>\n",
       "  </thead>\n",
       "  <tbody>\n",
       "    <tr>\n",
       "      <th>0</th>\n",
       "      <td>1.0</td>\n",
       "      <td>0.0</td>\n",
       "    </tr>\n",
       "    <tr>\n",
       "      <th>1</th>\n",
       "      <td>1.0</td>\n",
       "      <td>1.0</td>\n",
       "    </tr>\n",
       "    <tr>\n",
       "      <th>2</th>\n",
       "      <td>1.0</td>\n",
       "      <td>1.0</td>\n",
       "    </tr>\n",
       "    <tr>\n",
       "      <th>3</th>\n",
       "      <td>1.0</td>\n",
       "      <td>1.0</td>\n",
       "    </tr>\n",
       "    <tr>\n",
       "      <th>4</th>\n",
       "      <td>1.0</td>\n",
       "      <td>0.0</td>\n",
       "    </tr>\n",
       "    <tr>\n",
       "      <th>...</th>\n",
       "      <td>...</td>\n",
       "      <td>...</td>\n",
       "    </tr>\n",
       "    <tr>\n",
       "      <th>609</th>\n",
       "      <td>0.0</td>\n",
       "      <td>0.0</td>\n",
       "    </tr>\n",
       "    <tr>\n",
       "      <th>610</th>\n",
       "      <td>1.0</td>\n",
       "      <td>1.0</td>\n",
       "    </tr>\n",
       "    <tr>\n",
       "      <th>611</th>\n",
       "      <td>1.0</td>\n",
       "      <td>1.0</td>\n",
       "    </tr>\n",
       "    <tr>\n",
       "      <th>612</th>\n",
       "      <td>1.0</td>\n",
       "      <td>1.0</td>\n",
       "    </tr>\n",
       "    <tr>\n",
       "      <th>613</th>\n",
       "      <td>0.0</td>\n",
       "      <td>0.0</td>\n",
       "    </tr>\n",
       "  </tbody>\n",
       "</table>\n",
       "<p>614 rows × 2 columns</p>\n",
       "</div>"
      ],
      "text/plain": [
       "     Gender_Male  Married_Yes\n",
       "0            1.0          0.0\n",
       "1            1.0          1.0\n",
       "2            1.0          1.0\n",
       "3            1.0          1.0\n",
       "4            1.0          0.0\n",
       "..           ...          ...\n",
       "609          0.0          0.0\n",
       "610          1.0          1.0\n",
       "611          1.0          1.0\n",
       "612          1.0          1.0\n",
       "613          0.0          0.0\n",
       "\n",
       "[614 rows x 2 columns]"
      ]
     },
     "execution_count": 74,
     "metadata": {},
     "output_type": "execute_result"
    }
   ],
   "source": [
    "pd.DataFrame(ar,columns=[\"Gender_Male\", \"Married_Yes\"])"
   ]
  },
  {
   "cell_type": "markdown",
   "id": "6f7f6f1b",
   "metadata": {},
   "source": [
    "# Label_Encoding\n",
    " - perforn on nominal data "
   ]
  },
  {
   "cell_type": "code",
   "execution_count": 75,
   "id": "32042311",
   "metadata": {},
   "outputs": [
    {
     "data": {
      "application/vnd.microsoft.datawrangler.viewer.v0+json": {
       "columns": [
        {
         "name": "index",
         "rawType": "int64",
         "type": "integer"
        },
        {
         "name": "name",
         "rawType": "object",
         "type": "string"
        }
       ],
       "ref": "a6dd4790-61ae-47a0-84a7-477e3338aaf9",
       "rows": [
        [
         "0",
         "Comsats"
        ],
        [
         "1",
         "cow"
        ],
        [
         "2",
         "cat"
        ],
        [
         "3",
         "dog"
        ],
        [
         "4",
         "black"
        ]
       ],
       "shape": {
        "columns": 1,
        "rows": 5
       }
      },
      "text/html": [
       "<div>\n",
       "<style scoped>\n",
       "    .dataframe tbody tr th:only-of-type {\n",
       "        vertical-align: middle;\n",
       "    }\n",
       "\n",
       "    .dataframe tbody tr th {\n",
       "        vertical-align: top;\n",
       "    }\n",
       "\n",
       "    .dataframe thead th {\n",
       "        text-align: right;\n",
       "    }\n",
       "</style>\n",
       "<table border=\"1\" class=\"dataframe\">\n",
       "  <thead>\n",
       "    <tr style=\"text-align: right;\">\n",
       "      <th></th>\n",
       "      <th>name</th>\n",
       "    </tr>\n",
       "  </thead>\n",
       "  <tbody>\n",
       "    <tr>\n",
       "      <th>0</th>\n",
       "      <td>Comsats</td>\n",
       "    </tr>\n",
       "    <tr>\n",
       "      <th>1</th>\n",
       "      <td>cow</td>\n",
       "    </tr>\n",
       "    <tr>\n",
       "      <th>2</th>\n",
       "      <td>cat</td>\n",
       "    </tr>\n",
       "    <tr>\n",
       "      <th>3</th>\n",
       "      <td>dog</td>\n",
       "    </tr>\n",
       "    <tr>\n",
       "      <th>4</th>\n",
       "      <td>black</td>\n",
       "    </tr>\n",
       "  </tbody>\n",
       "</table>\n",
       "</div>"
      ],
      "text/plain": [
       "      name\n",
       "0  Comsats\n",
       "1      cow\n",
       "2      cat\n",
       "3      dog\n",
       "4    black"
      ]
     },
     "execution_count": 75,
     "metadata": {},
     "output_type": "execute_result"
    }
   ],
   "source": [
    "df1 = pd.DataFrame({\"name\": [\"Comsats\",\"cow\",\"cat\",\"dog\",\"black\"]})\n",
    "df1"
   ]
  },
  {
   "cell_type": "code",
   "execution_count": 76,
   "id": "da4da02f",
   "metadata": {},
   "outputs": [],
   "source": [
    "from sklearn.preprocessing import LabelEncoder\n"
   ]
  },
  {
   "cell_type": "code",
   "execution_count": 81,
   "id": "f214f1a3",
   "metadata": {},
   "outputs": [
    {
     "data": {
      "application/vnd.microsoft.datawrangler.viewer.v0+json": {
       "columns": [
        {
         "name": "index",
         "rawType": "int64",
         "type": "integer"
        },
        {
         "name": "name",
         "rawType": "object",
         "type": "string"
        },
        {
         "name": "en_name",
         "rawType": "int64",
         "type": "integer"
        }
       ],
       "ref": "07ca4cf3-7596-416f-a2bf-b2d4ab9f07c9",
       "rows": [
        [
         "0",
         "Comsats",
         "0"
        ],
        [
         "1",
         "cow",
         "3"
        ],
        [
         "2",
         "cat",
         "2"
        ],
        [
         "3",
         "dog",
         "4"
        ],
        [
         "4",
         "black",
         "1"
        ]
       ],
       "shape": {
        "columns": 2,
        "rows": 5
       }
      },
      "text/html": [
       "<div>\n",
       "<style scoped>\n",
       "    .dataframe tbody tr th:only-of-type {\n",
       "        vertical-align: middle;\n",
       "    }\n",
       "\n",
       "    .dataframe tbody tr th {\n",
       "        vertical-align: top;\n",
       "    }\n",
       "\n",
       "    .dataframe thead th {\n",
       "        text-align: right;\n",
       "    }\n",
       "</style>\n",
       "<table border=\"1\" class=\"dataframe\">\n",
       "  <thead>\n",
       "    <tr style=\"text-align: right;\">\n",
       "      <th></th>\n",
       "      <th>name</th>\n",
       "      <th>en_name</th>\n",
       "    </tr>\n",
       "  </thead>\n",
       "  <tbody>\n",
       "    <tr>\n",
       "      <th>0</th>\n",
       "      <td>Comsats</td>\n",
       "      <td>0</td>\n",
       "    </tr>\n",
       "    <tr>\n",
       "      <th>1</th>\n",
       "      <td>cow</td>\n",
       "      <td>3</td>\n",
       "    </tr>\n",
       "    <tr>\n",
       "      <th>2</th>\n",
       "      <td>cat</td>\n",
       "      <td>2</td>\n",
       "    </tr>\n",
       "    <tr>\n",
       "      <th>3</th>\n",
       "      <td>dog</td>\n",
       "      <td>4</td>\n",
       "    </tr>\n",
       "    <tr>\n",
       "      <th>4</th>\n",
       "      <td>black</td>\n",
       "      <td>1</td>\n",
       "    </tr>\n",
       "  </tbody>\n",
       "</table>\n",
       "</div>"
      ],
      "text/plain": [
       "      name  en_name\n",
       "0  Comsats        0\n",
       "1      cow        3\n",
       "2      cat        2\n",
       "3      dog        4\n",
       "4    black        1"
      ]
     },
     "execution_count": 81,
     "metadata": {},
     "output_type": "execute_result"
    }
   ],
   "source": [
    "le = LabelEncoder()\n",
    "df1[\"en_name\"] = le.fit_transform(df1[\"name\"])\n",
    "df1"
   ]
  },
  {
   "cell_type": "code",
   "execution_count": 89,
   "id": "ecb8c8c7",
   "metadata": {},
   "outputs": [
    {
     "data": {
      "text/html": [
       "<style>#sk-container-id-1 {\n",
       "  /* Definition of color scheme common for light and dark mode */\n",
       "  --sklearn-color-text: #000;\n",
       "  --sklearn-color-text-muted: #666;\n",
       "  --sklearn-color-line: gray;\n",
       "  /* Definition of color scheme for unfitted estimators */\n",
       "  --sklearn-color-unfitted-level-0: #fff5e6;\n",
       "  --sklearn-color-unfitted-level-1: #f6e4d2;\n",
       "  --sklearn-color-unfitted-level-2: #ffe0b3;\n",
       "  --sklearn-color-unfitted-level-3: chocolate;\n",
       "  /* Definition of color scheme for fitted estimators */\n",
       "  --sklearn-color-fitted-level-0: #f0f8ff;\n",
       "  --sklearn-color-fitted-level-1: #d4ebff;\n",
       "  --sklearn-color-fitted-level-2: #b3dbfd;\n",
       "  --sklearn-color-fitted-level-3: cornflowerblue;\n",
       "\n",
       "  /* Specific color for light theme */\n",
       "  --sklearn-color-text-on-default-background: var(--sg-text-color, var(--theme-code-foreground, var(--jp-content-font-color1, black)));\n",
       "  --sklearn-color-background: var(--sg-background-color, var(--theme-background, var(--jp-layout-color0, white)));\n",
       "  --sklearn-color-border-box: var(--sg-text-color, var(--theme-code-foreground, var(--jp-content-font-color1, black)));\n",
       "  --sklearn-color-icon: #696969;\n",
       "\n",
       "  @media (prefers-color-scheme: dark) {\n",
       "    /* Redefinition of color scheme for dark theme */\n",
       "    --sklearn-color-text-on-default-background: var(--sg-text-color, var(--theme-code-foreground, var(--jp-content-font-color1, white)));\n",
       "    --sklearn-color-background: var(--sg-background-color, var(--theme-background, var(--jp-layout-color0, #111)));\n",
       "    --sklearn-color-border-box: var(--sg-text-color, var(--theme-code-foreground, var(--jp-content-font-color1, white)));\n",
       "    --sklearn-color-icon: #878787;\n",
       "  }\n",
       "}\n",
       "\n",
       "#sk-container-id-1 {\n",
       "  color: var(--sklearn-color-text);\n",
       "}\n",
       "\n",
       "#sk-container-id-1 pre {\n",
       "  padding: 0;\n",
       "}\n",
       "\n",
       "#sk-container-id-1 input.sk-hidden--visually {\n",
       "  border: 0;\n",
       "  clip: rect(1px 1px 1px 1px);\n",
       "  clip: rect(1px, 1px, 1px, 1px);\n",
       "  height: 1px;\n",
       "  margin: -1px;\n",
       "  overflow: hidden;\n",
       "  padding: 0;\n",
       "  position: absolute;\n",
       "  width: 1px;\n",
       "}\n",
       "\n",
       "#sk-container-id-1 div.sk-dashed-wrapped {\n",
       "  border: 1px dashed var(--sklearn-color-line);\n",
       "  margin: 0 0.4em 0.5em 0.4em;\n",
       "  box-sizing: border-box;\n",
       "  padding-bottom: 0.4em;\n",
       "  background-color: var(--sklearn-color-background);\n",
       "}\n",
       "\n",
       "#sk-container-id-1 div.sk-container {\n",
       "  /* jupyter's `normalize.less` sets `[hidden] { display: none; }`\n",
       "     but bootstrap.min.css set `[hidden] { display: none !important; }`\n",
       "     so we also need the `!important` here to be able to override the\n",
       "     default hidden behavior on the sphinx rendered scikit-learn.org.\n",
       "     See: https://github.com/scikit-learn/scikit-learn/issues/21755 */\n",
       "  display: inline-block !important;\n",
       "  position: relative;\n",
       "}\n",
       "\n",
       "#sk-container-id-1 div.sk-text-repr-fallback {\n",
       "  display: none;\n",
       "}\n",
       "\n",
       "div.sk-parallel-item,\n",
       "div.sk-serial,\n",
       "div.sk-item {\n",
       "  /* draw centered vertical line to link estimators */\n",
       "  background-image: linear-gradient(var(--sklearn-color-text-on-default-background), var(--sklearn-color-text-on-default-background));\n",
       "  background-size: 2px 100%;\n",
       "  background-repeat: no-repeat;\n",
       "  background-position: center center;\n",
       "}\n",
       "\n",
       "/* Parallel-specific style estimator block */\n",
       "\n",
       "#sk-container-id-1 div.sk-parallel-item::after {\n",
       "  content: \"\";\n",
       "  width: 100%;\n",
       "  border-bottom: 2px solid var(--sklearn-color-text-on-default-background);\n",
       "  flex-grow: 1;\n",
       "}\n",
       "\n",
       "#sk-container-id-1 div.sk-parallel {\n",
       "  display: flex;\n",
       "  align-items: stretch;\n",
       "  justify-content: center;\n",
       "  background-color: var(--sklearn-color-background);\n",
       "  position: relative;\n",
       "}\n",
       "\n",
       "#sk-container-id-1 div.sk-parallel-item {\n",
       "  display: flex;\n",
       "  flex-direction: column;\n",
       "}\n",
       "\n",
       "#sk-container-id-1 div.sk-parallel-item:first-child::after {\n",
       "  align-self: flex-end;\n",
       "  width: 50%;\n",
       "}\n",
       "\n",
       "#sk-container-id-1 div.sk-parallel-item:last-child::after {\n",
       "  align-self: flex-start;\n",
       "  width: 50%;\n",
       "}\n",
       "\n",
       "#sk-container-id-1 div.sk-parallel-item:only-child::after {\n",
       "  width: 0;\n",
       "}\n",
       "\n",
       "/* Serial-specific style estimator block */\n",
       "\n",
       "#sk-container-id-1 div.sk-serial {\n",
       "  display: flex;\n",
       "  flex-direction: column;\n",
       "  align-items: center;\n",
       "  background-color: var(--sklearn-color-background);\n",
       "  padding-right: 1em;\n",
       "  padding-left: 1em;\n",
       "}\n",
       "\n",
       "\n",
       "/* Toggleable style: style used for estimator/Pipeline/ColumnTransformer box that is\n",
       "clickable and can be expanded/collapsed.\n",
       "- Pipeline and ColumnTransformer use this feature and define the default style\n",
       "- Estimators will overwrite some part of the style using the `sk-estimator` class\n",
       "*/\n",
       "\n",
       "/* Pipeline and ColumnTransformer style (default) */\n",
       "\n",
       "#sk-container-id-1 div.sk-toggleable {\n",
       "  /* Default theme specific background. It is overwritten whether we have a\n",
       "  specific estimator or a Pipeline/ColumnTransformer */\n",
       "  background-color: var(--sklearn-color-background);\n",
       "}\n",
       "\n",
       "/* Toggleable label */\n",
       "#sk-container-id-1 label.sk-toggleable__label {\n",
       "  cursor: pointer;\n",
       "  display: flex;\n",
       "  width: 100%;\n",
       "  margin-bottom: 0;\n",
       "  padding: 0.5em;\n",
       "  box-sizing: border-box;\n",
       "  text-align: center;\n",
       "  align-items: start;\n",
       "  justify-content: space-between;\n",
       "  gap: 0.5em;\n",
       "}\n",
       "\n",
       "#sk-container-id-1 label.sk-toggleable__label .caption {\n",
       "  font-size: 0.6rem;\n",
       "  font-weight: lighter;\n",
       "  color: var(--sklearn-color-text-muted);\n",
       "}\n",
       "\n",
       "#sk-container-id-1 label.sk-toggleable__label-arrow:before {\n",
       "  /* Arrow on the left of the label */\n",
       "  content: \"▸\";\n",
       "  float: left;\n",
       "  margin-right: 0.25em;\n",
       "  color: var(--sklearn-color-icon);\n",
       "}\n",
       "\n",
       "#sk-container-id-1 label.sk-toggleable__label-arrow:hover:before {\n",
       "  color: var(--sklearn-color-text);\n",
       "}\n",
       "\n",
       "/* Toggleable content - dropdown */\n",
       "\n",
       "#sk-container-id-1 div.sk-toggleable__content {\n",
       "  max-height: 0;\n",
       "  max-width: 0;\n",
       "  overflow: hidden;\n",
       "  text-align: left;\n",
       "  /* unfitted */\n",
       "  background-color: var(--sklearn-color-unfitted-level-0);\n",
       "}\n",
       "\n",
       "#sk-container-id-1 div.sk-toggleable__content.fitted {\n",
       "  /* fitted */\n",
       "  background-color: var(--sklearn-color-fitted-level-0);\n",
       "}\n",
       "\n",
       "#sk-container-id-1 div.sk-toggleable__content pre {\n",
       "  margin: 0.2em;\n",
       "  border-radius: 0.25em;\n",
       "  color: var(--sklearn-color-text);\n",
       "  /* unfitted */\n",
       "  background-color: var(--sklearn-color-unfitted-level-0);\n",
       "}\n",
       "\n",
       "#sk-container-id-1 div.sk-toggleable__content.fitted pre {\n",
       "  /* unfitted */\n",
       "  background-color: var(--sklearn-color-fitted-level-0);\n",
       "}\n",
       "\n",
       "#sk-container-id-1 input.sk-toggleable__control:checked~div.sk-toggleable__content {\n",
       "  /* Expand drop-down */\n",
       "  max-height: 200px;\n",
       "  max-width: 100%;\n",
       "  overflow: auto;\n",
       "}\n",
       "\n",
       "#sk-container-id-1 input.sk-toggleable__control:checked~label.sk-toggleable__label-arrow:before {\n",
       "  content: \"▾\";\n",
       "}\n",
       "\n",
       "/* Pipeline/ColumnTransformer-specific style */\n",
       "\n",
       "#sk-container-id-1 div.sk-label input.sk-toggleable__control:checked~label.sk-toggleable__label {\n",
       "  color: var(--sklearn-color-text);\n",
       "  background-color: var(--sklearn-color-unfitted-level-2);\n",
       "}\n",
       "\n",
       "#sk-container-id-1 div.sk-label.fitted input.sk-toggleable__control:checked~label.sk-toggleable__label {\n",
       "  background-color: var(--sklearn-color-fitted-level-2);\n",
       "}\n",
       "\n",
       "/* Estimator-specific style */\n",
       "\n",
       "/* Colorize estimator box */\n",
       "#sk-container-id-1 div.sk-estimator input.sk-toggleable__control:checked~label.sk-toggleable__label {\n",
       "  /* unfitted */\n",
       "  background-color: var(--sklearn-color-unfitted-level-2);\n",
       "}\n",
       "\n",
       "#sk-container-id-1 div.sk-estimator.fitted input.sk-toggleable__control:checked~label.sk-toggleable__label {\n",
       "  /* fitted */\n",
       "  background-color: var(--sklearn-color-fitted-level-2);\n",
       "}\n",
       "\n",
       "#sk-container-id-1 div.sk-label label.sk-toggleable__label,\n",
       "#sk-container-id-1 div.sk-label label {\n",
       "  /* The background is the default theme color */\n",
       "  color: var(--sklearn-color-text-on-default-background);\n",
       "}\n",
       "\n",
       "/* On hover, darken the color of the background */\n",
       "#sk-container-id-1 div.sk-label:hover label.sk-toggleable__label {\n",
       "  color: var(--sklearn-color-text);\n",
       "  background-color: var(--sklearn-color-unfitted-level-2);\n",
       "}\n",
       "\n",
       "/* Label box, darken color on hover, fitted */\n",
       "#sk-container-id-1 div.sk-label.fitted:hover label.sk-toggleable__label.fitted {\n",
       "  color: var(--sklearn-color-text);\n",
       "  background-color: var(--sklearn-color-fitted-level-2);\n",
       "}\n",
       "\n",
       "/* Estimator label */\n",
       "\n",
       "#sk-container-id-1 div.sk-label label {\n",
       "  font-family: monospace;\n",
       "  font-weight: bold;\n",
       "  display: inline-block;\n",
       "  line-height: 1.2em;\n",
       "}\n",
       "\n",
       "#sk-container-id-1 div.sk-label-container {\n",
       "  text-align: center;\n",
       "}\n",
       "\n",
       "/* Estimator-specific */\n",
       "#sk-container-id-1 div.sk-estimator {\n",
       "  font-family: monospace;\n",
       "  border: 1px dotted var(--sklearn-color-border-box);\n",
       "  border-radius: 0.25em;\n",
       "  box-sizing: border-box;\n",
       "  margin-bottom: 0.5em;\n",
       "  /* unfitted */\n",
       "  background-color: var(--sklearn-color-unfitted-level-0);\n",
       "}\n",
       "\n",
       "#sk-container-id-1 div.sk-estimator.fitted {\n",
       "  /* fitted */\n",
       "  background-color: var(--sklearn-color-fitted-level-0);\n",
       "}\n",
       "\n",
       "/* on hover */\n",
       "#sk-container-id-1 div.sk-estimator:hover {\n",
       "  /* unfitted */\n",
       "  background-color: var(--sklearn-color-unfitted-level-2);\n",
       "}\n",
       "\n",
       "#sk-container-id-1 div.sk-estimator.fitted:hover {\n",
       "  /* fitted */\n",
       "  background-color: var(--sklearn-color-fitted-level-2);\n",
       "}\n",
       "\n",
       "/* Specification for estimator info (e.g. \"i\" and \"?\") */\n",
       "\n",
       "/* Common style for \"i\" and \"?\" */\n",
       "\n",
       ".sk-estimator-doc-link,\n",
       "a:link.sk-estimator-doc-link,\n",
       "a:visited.sk-estimator-doc-link {\n",
       "  float: right;\n",
       "  font-size: smaller;\n",
       "  line-height: 1em;\n",
       "  font-family: monospace;\n",
       "  background-color: var(--sklearn-color-background);\n",
       "  border-radius: 1em;\n",
       "  height: 1em;\n",
       "  width: 1em;\n",
       "  text-decoration: none !important;\n",
       "  margin-left: 0.5em;\n",
       "  text-align: center;\n",
       "  /* unfitted */\n",
       "  border: var(--sklearn-color-unfitted-level-1) 1pt solid;\n",
       "  color: var(--sklearn-color-unfitted-level-1);\n",
       "}\n",
       "\n",
       ".sk-estimator-doc-link.fitted,\n",
       "a:link.sk-estimator-doc-link.fitted,\n",
       "a:visited.sk-estimator-doc-link.fitted {\n",
       "  /* fitted */\n",
       "  border: var(--sklearn-color-fitted-level-1) 1pt solid;\n",
       "  color: var(--sklearn-color-fitted-level-1);\n",
       "}\n",
       "\n",
       "/* On hover */\n",
       "div.sk-estimator:hover .sk-estimator-doc-link:hover,\n",
       ".sk-estimator-doc-link:hover,\n",
       "div.sk-label-container:hover .sk-estimator-doc-link:hover,\n",
       ".sk-estimator-doc-link:hover {\n",
       "  /* unfitted */\n",
       "  background-color: var(--sklearn-color-unfitted-level-3);\n",
       "  color: var(--sklearn-color-background);\n",
       "  text-decoration: none;\n",
       "}\n",
       "\n",
       "div.sk-estimator.fitted:hover .sk-estimator-doc-link.fitted:hover,\n",
       ".sk-estimator-doc-link.fitted:hover,\n",
       "div.sk-label-container:hover .sk-estimator-doc-link.fitted:hover,\n",
       ".sk-estimator-doc-link.fitted:hover {\n",
       "  /* fitted */\n",
       "  background-color: var(--sklearn-color-fitted-level-3);\n",
       "  color: var(--sklearn-color-background);\n",
       "  text-decoration: none;\n",
       "}\n",
       "\n",
       "/* Span, style for the box shown on hovering the info icon */\n",
       ".sk-estimator-doc-link span {\n",
       "  display: none;\n",
       "  z-index: 9999;\n",
       "  position: relative;\n",
       "  font-weight: normal;\n",
       "  right: .2ex;\n",
       "  padding: .5ex;\n",
       "  margin: .5ex;\n",
       "  width: min-content;\n",
       "  min-width: 20ex;\n",
       "  max-width: 50ex;\n",
       "  color: var(--sklearn-color-text);\n",
       "  box-shadow: 2pt 2pt 4pt #999;\n",
       "  /* unfitted */\n",
       "  background: var(--sklearn-color-unfitted-level-0);\n",
       "  border: .5pt solid var(--sklearn-color-unfitted-level-3);\n",
       "}\n",
       "\n",
       ".sk-estimator-doc-link.fitted span {\n",
       "  /* fitted */\n",
       "  background: var(--sklearn-color-fitted-level-0);\n",
       "  border: var(--sklearn-color-fitted-level-3);\n",
       "}\n",
       "\n",
       ".sk-estimator-doc-link:hover span {\n",
       "  display: block;\n",
       "}\n",
       "\n",
       "/* \"?\"-specific style due to the `<a>` HTML tag */\n",
       "\n",
       "#sk-container-id-1 a.estimator_doc_link {\n",
       "  float: right;\n",
       "  font-size: 1rem;\n",
       "  line-height: 1em;\n",
       "  font-family: monospace;\n",
       "  background-color: var(--sklearn-color-background);\n",
       "  border-radius: 1rem;\n",
       "  height: 1rem;\n",
       "  width: 1rem;\n",
       "  text-decoration: none;\n",
       "  /* unfitted */\n",
       "  color: var(--sklearn-color-unfitted-level-1);\n",
       "  border: var(--sklearn-color-unfitted-level-1) 1pt solid;\n",
       "}\n",
       "\n",
       "#sk-container-id-1 a.estimator_doc_link.fitted {\n",
       "  /* fitted */\n",
       "  border: var(--sklearn-color-fitted-level-1) 1pt solid;\n",
       "  color: var(--sklearn-color-fitted-level-1);\n",
       "}\n",
       "\n",
       "/* On hover */\n",
       "#sk-container-id-1 a.estimator_doc_link:hover {\n",
       "  /* unfitted */\n",
       "  background-color: var(--sklearn-color-unfitted-level-3);\n",
       "  color: var(--sklearn-color-background);\n",
       "  text-decoration: none;\n",
       "}\n",
       "\n",
       "#sk-container-id-1 a.estimator_doc_link.fitted:hover {\n",
       "  /* fitted */\n",
       "  background-color: var(--sklearn-color-fitted-level-3);\n",
       "}\n",
       "</style><div id=\"sk-container-id-1\" class=\"sk-top-container\"><div class=\"sk-text-repr-fallback\"><pre>LabelEncoder()</pre><b>In a Jupyter environment, please rerun this cell to show the HTML representation or trust the notebook. <br />On GitHub, the HTML representation is unable to render, please try loading this page with nbviewer.org.</b></div><div class=\"sk-container\" hidden><div class=\"sk-item\"><div class=\"sk-estimator fitted sk-toggleable\"><input class=\"sk-toggleable__control sk-hidden--visually\" id=\"sk-estimator-id-1\" type=\"checkbox\" checked><label for=\"sk-estimator-id-1\" class=\"sk-toggleable__label fitted sk-toggleable__label-arrow\"><div><div>LabelEncoder</div></div><div><a class=\"sk-estimator-doc-link fitted\" rel=\"noreferrer\" target=\"_blank\" href=\"https://scikit-learn.org/1.6/modules/generated/sklearn.preprocessing.LabelEncoder.html\">?<span>Documentation for LabelEncoder</span></a><span class=\"sk-estimator-doc-link fitted\">i<span>Fitted</span></span></div></label><div class=\"sk-toggleable__content fitted\"><pre>LabelEncoder()</pre></div> </div></div></div></div>"
      ],
      "text/plain": [
       "LabelEncoder()"
      ]
     },
     "execution_count": 89,
     "metadata": {},
     "output_type": "execute_result"
    }
   ],
   "source": [
    "la = LabelEncoder()\n",
    "la.fit(df[\"Property_Area\"])\n"
   ]
  },
  {
   "cell_type": "code",
   "execution_count": 87,
   "id": "44b33d9b",
   "metadata": {},
   "outputs": [
    {
     "data": {
      "text/plain": [
       "array([2, 0, 2, 2, 2, 2, 2, 1, 2, 1, 2, 2, 2, 0, 2, 2, 2, 2, 0, 2, 2, 2,\n",
       "       1, 0, 1, 1, 1, 2, 2, 1, 2, 2, 0, 1, 0, 2, 2, 1, 2, 1, 2, 2, 2, 1,\n",
       "       2, 2, 2, 2, 2, 1, 1, 1, 1, 2, 2, 1, 1, 0, 2, 2, 2, 2, 0, 0, 1, 1,\n",
       "       2, 2, 2, 1, 2, 1, 1, 1, 1, 2, 2, 2, 1, 1, 1, 1, 2, 1, 2, 1, 1, 1,\n",
       "       2, 1, 1, 1, 2, 1, 1, 2, 1, 1, 1, 1, 2, 1, 2, 1, 2, 2, 2, 0, 2, 1,\n",
       "       2, 1, 0, 1, 1, 0, 1, 2, 0, 2, 0, 1, 1, 1, 0, 0, 0, 0, 2, 0, 2, 2,\n",
       "       1, 1, 1, 1, 0, 2, 1, 0, 0, 2, 1, 1, 2, 1, 2, 2, 0, 1, 0, 0, 2, 0,\n",
       "       2, 1, 0, 2, 0, 1, 1, 2, 1, 0, 2, 0, 0, 0, 1, 1, 0, 2, 0, 1, 1, 0,\n",
       "       0, 1, 1, 2, 2, 0, 1, 1, 1, 1, 0, 0, 0, 0, 0, 1, 2, 1, 0, 1, 0, 2,\n",
       "       1, 2, 1, 1, 2, 2, 1, 1, 2, 0, 2, 1, 1, 1, 2, 0, 2, 1, 0, 1, 1, 1,\n",
       "       2, 1, 1, 1, 1, 0, 2, 1, 1, 0, 1, 0, 0, 1, 1, 0, 2, 2, 0, 1, 0, 2,\n",
       "       2, 0, 1, 2, 2, 2, 1, 2, 1, 2, 0, 1, 2, 0, 0, 2, 0, 1, 2, 1, 1, 0,\n",
       "       1, 0, 1, 2, 0, 2, 2, 2, 0, 1, 1, 1, 1, 2, 1, 0, 2, 1, 2, 2, 0, 0,\n",
       "       1, 0, 1, 0, 0, 1, 2, 2, 1, 2, 1, 2, 0, 2, 2, 1, 0, 2, 0, 2, 0, 2,\n",
       "       0, 0, 1, 1, 0, 0, 0, 2, 1, 2, 1, 0, 1, 1, 0, 0, 0, 0, 0, 1, 2, 2,\n",
       "       2, 1, 2, 2, 2, 1, 0, 0, 2, 1, 0, 0, 2, 1, 0, 1, 0, 2, 1, 0, 1, 0,\n",
       "       0, 0, 1, 2, 0, 2, 2, 1, 1, 1, 2, 2, 0, 0, 1, 0, 1, 0, 1, 1, 0, 2,\n",
       "       2, 2, 0, 1, 2, 2, 1, 1, 2, 2, 2, 2, 1, 2, 2, 0, 0, 0, 2, 1, 2, 1,\n",
       "       2, 2, 0, 1, 2, 0, 1, 1, 0, 1, 2, 0, 1, 0, 1, 2, 0, 0, 1, 2, 2, 2,\n",
       "       0, 1, 0, 2, 2, 2, 1, 0, 0, 1, 0, 2, 1, 0, 1, 1, 2, 1, 1, 2, 2, 0,\n",
       "       1, 0, 1, 1, 0, 0, 0, 0, 0, 1, 0, 2, 0, 0, 1, 1, 2, 2, 0, 1, 1, 2,\n",
       "       0, 1, 1, 0, 2, 1, 1, 2, 1, 0, 1, 2, 0, 0, 1, 1, 1, 2, 0, 0, 1, 1,\n",
       "       1, 0, 0, 2, 1, 2, 1, 2, 0, 1, 0, 1, 0, 2, 1, 0, 0, 1, 1, 0, 1, 0,\n",
       "       2, 2, 2, 2, 0, 1, 2, 1, 0, 0, 1, 1, 1, 0, 1, 1, 0, 0, 1, 0, 1, 1,\n",
       "       1, 1, 0, 2, 0, 1, 2, 0, 2, 1, 0, 0, 1, 1, 1, 2, 1, 0, 1, 0, 1, 0,\n",
       "       0, 0, 2, 2, 0, 1, 2, 1, 1, 1, 1, 1, 0, 1, 2, 0, 2, 0, 2, 2, 2, 2,\n",
       "       2, 1, 1, 2, 1, 2, 0, 2, 1, 2, 1, 0, 0, 0, 2, 1, 1, 1, 1, 1, 1, 0,\n",
       "       2, 0, 0, 1, 0, 2, 2, 0, 2, 0, 1, 2, 1, 0, 0, 0, 0, 2, 2, 1])"
      ]
     },
     "execution_count": 87,
     "metadata": {},
     "output_type": "execute_result"
    }
   ],
   "source": [
    "la = LabelEncoder()\n",
    "la.fit_transform(df[\"Property_Area\"])\n"
   ]
  },
  {
   "cell_type": "markdown",
   "id": "dfba64fd",
   "metadata": {},
   "source": [
    "# Ordinal_Encoding "
   ]
  },
  {
   "cell_type": "code",
   "execution_count": 90,
   "id": "166081bd",
   "metadata": {},
   "outputs": [],
   "source": [
    "df2 = pd.DataFrame({\"size\":[\"s\",\"m\",\"l\",\"xl\",\"s\",\"m\",\"l\",\"xl\",\"m\"]})"
   ]
  },
  {
   "cell_type": "code",
   "execution_count": 91,
   "id": "9ef3d6ff",
   "metadata": {},
   "outputs": [],
   "source": [
    "ord_data = [[\"s\",\"m\",\"l\",\"xl\"]]"
   ]
  },
  {
   "cell_type": "code",
   "execution_count": 92,
   "id": "dbfa1bb6",
   "metadata": {},
   "outputs": [],
   "source": [
    "from sklearn.preprocessing import OrdinalEncoder"
   ]
  },
  {
   "cell_type": "code",
   "execution_count": 93,
   "id": "9fb62621",
   "metadata": {},
   "outputs": [
    {
     "data": {
      "text/html": [
       "<style>#sk-container-id-2 {\n",
       "  /* Definition of color scheme common for light and dark mode */\n",
       "  --sklearn-color-text: #000;\n",
       "  --sklearn-color-text-muted: #666;\n",
       "  --sklearn-color-line: gray;\n",
       "  /* Definition of color scheme for unfitted estimators */\n",
       "  --sklearn-color-unfitted-level-0: #fff5e6;\n",
       "  --sklearn-color-unfitted-level-1: #f6e4d2;\n",
       "  --sklearn-color-unfitted-level-2: #ffe0b3;\n",
       "  --sklearn-color-unfitted-level-3: chocolate;\n",
       "  /* Definition of color scheme for fitted estimators */\n",
       "  --sklearn-color-fitted-level-0: #f0f8ff;\n",
       "  --sklearn-color-fitted-level-1: #d4ebff;\n",
       "  --sklearn-color-fitted-level-2: #b3dbfd;\n",
       "  --sklearn-color-fitted-level-3: cornflowerblue;\n",
       "\n",
       "  /* Specific color for light theme */\n",
       "  --sklearn-color-text-on-default-background: var(--sg-text-color, var(--theme-code-foreground, var(--jp-content-font-color1, black)));\n",
       "  --sklearn-color-background: var(--sg-background-color, var(--theme-background, var(--jp-layout-color0, white)));\n",
       "  --sklearn-color-border-box: var(--sg-text-color, var(--theme-code-foreground, var(--jp-content-font-color1, black)));\n",
       "  --sklearn-color-icon: #696969;\n",
       "\n",
       "  @media (prefers-color-scheme: dark) {\n",
       "    /* Redefinition of color scheme for dark theme */\n",
       "    --sklearn-color-text-on-default-background: var(--sg-text-color, var(--theme-code-foreground, var(--jp-content-font-color1, white)));\n",
       "    --sklearn-color-background: var(--sg-background-color, var(--theme-background, var(--jp-layout-color0, #111)));\n",
       "    --sklearn-color-border-box: var(--sg-text-color, var(--theme-code-foreground, var(--jp-content-font-color1, white)));\n",
       "    --sklearn-color-icon: #878787;\n",
       "  }\n",
       "}\n",
       "\n",
       "#sk-container-id-2 {\n",
       "  color: var(--sklearn-color-text);\n",
       "}\n",
       "\n",
       "#sk-container-id-2 pre {\n",
       "  padding: 0;\n",
       "}\n",
       "\n",
       "#sk-container-id-2 input.sk-hidden--visually {\n",
       "  border: 0;\n",
       "  clip: rect(1px 1px 1px 1px);\n",
       "  clip: rect(1px, 1px, 1px, 1px);\n",
       "  height: 1px;\n",
       "  margin: -1px;\n",
       "  overflow: hidden;\n",
       "  padding: 0;\n",
       "  position: absolute;\n",
       "  width: 1px;\n",
       "}\n",
       "\n",
       "#sk-container-id-2 div.sk-dashed-wrapped {\n",
       "  border: 1px dashed var(--sklearn-color-line);\n",
       "  margin: 0 0.4em 0.5em 0.4em;\n",
       "  box-sizing: border-box;\n",
       "  padding-bottom: 0.4em;\n",
       "  background-color: var(--sklearn-color-background);\n",
       "}\n",
       "\n",
       "#sk-container-id-2 div.sk-container {\n",
       "  /* jupyter's `normalize.less` sets `[hidden] { display: none; }`\n",
       "     but bootstrap.min.css set `[hidden] { display: none !important; }`\n",
       "     so we also need the `!important` here to be able to override the\n",
       "     default hidden behavior on the sphinx rendered scikit-learn.org.\n",
       "     See: https://github.com/scikit-learn/scikit-learn/issues/21755 */\n",
       "  display: inline-block !important;\n",
       "  position: relative;\n",
       "}\n",
       "\n",
       "#sk-container-id-2 div.sk-text-repr-fallback {\n",
       "  display: none;\n",
       "}\n",
       "\n",
       "div.sk-parallel-item,\n",
       "div.sk-serial,\n",
       "div.sk-item {\n",
       "  /* draw centered vertical line to link estimators */\n",
       "  background-image: linear-gradient(var(--sklearn-color-text-on-default-background), var(--sklearn-color-text-on-default-background));\n",
       "  background-size: 2px 100%;\n",
       "  background-repeat: no-repeat;\n",
       "  background-position: center center;\n",
       "}\n",
       "\n",
       "/* Parallel-specific style estimator block */\n",
       "\n",
       "#sk-container-id-2 div.sk-parallel-item::after {\n",
       "  content: \"\";\n",
       "  width: 100%;\n",
       "  border-bottom: 2px solid var(--sklearn-color-text-on-default-background);\n",
       "  flex-grow: 1;\n",
       "}\n",
       "\n",
       "#sk-container-id-2 div.sk-parallel {\n",
       "  display: flex;\n",
       "  align-items: stretch;\n",
       "  justify-content: center;\n",
       "  background-color: var(--sklearn-color-background);\n",
       "  position: relative;\n",
       "}\n",
       "\n",
       "#sk-container-id-2 div.sk-parallel-item {\n",
       "  display: flex;\n",
       "  flex-direction: column;\n",
       "}\n",
       "\n",
       "#sk-container-id-2 div.sk-parallel-item:first-child::after {\n",
       "  align-self: flex-end;\n",
       "  width: 50%;\n",
       "}\n",
       "\n",
       "#sk-container-id-2 div.sk-parallel-item:last-child::after {\n",
       "  align-self: flex-start;\n",
       "  width: 50%;\n",
       "}\n",
       "\n",
       "#sk-container-id-2 div.sk-parallel-item:only-child::after {\n",
       "  width: 0;\n",
       "}\n",
       "\n",
       "/* Serial-specific style estimator block */\n",
       "\n",
       "#sk-container-id-2 div.sk-serial {\n",
       "  display: flex;\n",
       "  flex-direction: column;\n",
       "  align-items: center;\n",
       "  background-color: var(--sklearn-color-background);\n",
       "  padding-right: 1em;\n",
       "  padding-left: 1em;\n",
       "}\n",
       "\n",
       "\n",
       "/* Toggleable style: style used for estimator/Pipeline/ColumnTransformer box that is\n",
       "clickable and can be expanded/collapsed.\n",
       "- Pipeline and ColumnTransformer use this feature and define the default style\n",
       "- Estimators will overwrite some part of the style using the `sk-estimator` class\n",
       "*/\n",
       "\n",
       "/* Pipeline and ColumnTransformer style (default) */\n",
       "\n",
       "#sk-container-id-2 div.sk-toggleable {\n",
       "  /* Default theme specific background. It is overwritten whether we have a\n",
       "  specific estimator or a Pipeline/ColumnTransformer */\n",
       "  background-color: var(--sklearn-color-background);\n",
       "}\n",
       "\n",
       "/* Toggleable label */\n",
       "#sk-container-id-2 label.sk-toggleable__label {\n",
       "  cursor: pointer;\n",
       "  display: flex;\n",
       "  width: 100%;\n",
       "  margin-bottom: 0;\n",
       "  padding: 0.5em;\n",
       "  box-sizing: border-box;\n",
       "  text-align: center;\n",
       "  align-items: start;\n",
       "  justify-content: space-between;\n",
       "  gap: 0.5em;\n",
       "}\n",
       "\n",
       "#sk-container-id-2 label.sk-toggleable__label .caption {\n",
       "  font-size: 0.6rem;\n",
       "  font-weight: lighter;\n",
       "  color: var(--sklearn-color-text-muted);\n",
       "}\n",
       "\n",
       "#sk-container-id-2 label.sk-toggleable__label-arrow:before {\n",
       "  /* Arrow on the left of the label */\n",
       "  content: \"▸\";\n",
       "  float: left;\n",
       "  margin-right: 0.25em;\n",
       "  color: var(--sklearn-color-icon);\n",
       "}\n",
       "\n",
       "#sk-container-id-2 label.sk-toggleable__label-arrow:hover:before {\n",
       "  color: var(--sklearn-color-text);\n",
       "}\n",
       "\n",
       "/* Toggleable content - dropdown */\n",
       "\n",
       "#sk-container-id-2 div.sk-toggleable__content {\n",
       "  max-height: 0;\n",
       "  max-width: 0;\n",
       "  overflow: hidden;\n",
       "  text-align: left;\n",
       "  /* unfitted */\n",
       "  background-color: var(--sklearn-color-unfitted-level-0);\n",
       "}\n",
       "\n",
       "#sk-container-id-2 div.sk-toggleable__content.fitted {\n",
       "  /* fitted */\n",
       "  background-color: var(--sklearn-color-fitted-level-0);\n",
       "}\n",
       "\n",
       "#sk-container-id-2 div.sk-toggleable__content pre {\n",
       "  margin: 0.2em;\n",
       "  border-radius: 0.25em;\n",
       "  color: var(--sklearn-color-text);\n",
       "  /* unfitted */\n",
       "  background-color: var(--sklearn-color-unfitted-level-0);\n",
       "}\n",
       "\n",
       "#sk-container-id-2 div.sk-toggleable__content.fitted pre {\n",
       "  /* unfitted */\n",
       "  background-color: var(--sklearn-color-fitted-level-0);\n",
       "}\n",
       "\n",
       "#sk-container-id-2 input.sk-toggleable__control:checked~div.sk-toggleable__content {\n",
       "  /* Expand drop-down */\n",
       "  max-height: 200px;\n",
       "  max-width: 100%;\n",
       "  overflow: auto;\n",
       "}\n",
       "\n",
       "#sk-container-id-2 input.sk-toggleable__control:checked~label.sk-toggleable__label-arrow:before {\n",
       "  content: \"▾\";\n",
       "}\n",
       "\n",
       "/* Pipeline/ColumnTransformer-specific style */\n",
       "\n",
       "#sk-container-id-2 div.sk-label input.sk-toggleable__control:checked~label.sk-toggleable__label {\n",
       "  color: var(--sklearn-color-text);\n",
       "  background-color: var(--sklearn-color-unfitted-level-2);\n",
       "}\n",
       "\n",
       "#sk-container-id-2 div.sk-label.fitted input.sk-toggleable__control:checked~label.sk-toggleable__label {\n",
       "  background-color: var(--sklearn-color-fitted-level-2);\n",
       "}\n",
       "\n",
       "/* Estimator-specific style */\n",
       "\n",
       "/* Colorize estimator box */\n",
       "#sk-container-id-2 div.sk-estimator input.sk-toggleable__control:checked~label.sk-toggleable__label {\n",
       "  /* unfitted */\n",
       "  background-color: var(--sklearn-color-unfitted-level-2);\n",
       "}\n",
       "\n",
       "#sk-container-id-2 div.sk-estimator.fitted input.sk-toggleable__control:checked~label.sk-toggleable__label {\n",
       "  /* fitted */\n",
       "  background-color: var(--sklearn-color-fitted-level-2);\n",
       "}\n",
       "\n",
       "#sk-container-id-2 div.sk-label label.sk-toggleable__label,\n",
       "#sk-container-id-2 div.sk-label label {\n",
       "  /* The background is the default theme color */\n",
       "  color: var(--sklearn-color-text-on-default-background);\n",
       "}\n",
       "\n",
       "/* On hover, darken the color of the background */\n",
       "#sk-container-id-2 div.sk-label:hover label.sk-toggleable__label {\n",
       "  color: var(--sklearn-color-text);\n",
       "  background-color: var(--sklearn-color-unfitted-level-2);\n",
       "}\n",
       "\n",
       "/* Label box, darken color on hover, fitted */\n",
       "#sk-container-id-2 div.sk-label.fitted:hover label.sk-toggleable__label.fitted {\n",
       "  color: var(--sklearn-color-text);\n",
       "  background-color: var(--sklearn-color-fitted-level-2);\n",
       "}\n",
       "\n",
       "/* Estimator label */\n",
       "\n",
       "#sk-container-id-2 div.sk-label label {\n",
       "  font-family: monospace;\n",
       "  font-weight: bold;\n",
       "  display: inline-block;\n",
       "  line-height: 1.2em;\n",
       "}\n",
       "\n",
       "#sk-container-id-2 div.sk-label-container {\n",
       "  text-align: center;\n",
       "}\n",
       "\n",
       "/* Estimator-specific */\n",
       "#sk-container-id-2 div.sk-estimator {\n",
       "  font-family: monospace;\n",
       "  border: 1px dotted var(--sklearn-color-border-box);\n",
       "  border-radius: 0.25em;\n",
       "  box-sizing: border-box;\n",
       "  margin-bottom: 0.5em;\n",
       "  /* unfitted */\n",
       "  background-color: var(--sklearn-color-unfitted-level-0);\n",
       "}\n",
       "\n",
       "#sk-container-id-2 div.sk-estimator.fitted {\n",
       "  /* fitted */\n",
       "  background-color: var(--sklearn-color-fitted-level-0);\n",
       "}\n",
       "\n",
       "/* on hover */\n",
       "#sk-container-id-2 div.sk-estimator:hover {\n",
       "  /* unfitted */\n",
       "  background-color: var(--sklearn-color-unfitted-level-2);\n",
       "}\n",
       "\n",
       "#sk-container-id-2 div.sk-estimator.fitted:hover {\n",
       "  /* fitted */\n",
       "  background-color: var(--sklearn-color-fitted-level-2);\n",
       "}\n",
       "\n",
       "/* Specification for estimator info (e.g. \"i\" and \"?\") */\n",
       "\n",
       "/* Common style for \"i\" and \"?\" */\n",
       "\n",
       ".sk-estimator-doc-link,\n",
       "a:link.sk-estimator-doc-link,\n",
       "a:visited.sk-estimator-doc-link {\n",
       "  float: right;\n",
       "  font-size: smaller;\n",
       "  line-height: 1em;\n",
       "  font-family: monospace;\n",
       "  background-color: var(--sklearn-color-background);\n",
       "  border-radius: 1em;\n",
       "  height: 1em;\n",
       "  width: 1em;\n",
       "  text-decoration: none !important;\n",
       "  margin-left: 0.5em;\n",
       "  text-align: center;\n",
       "  /* unfitted */\n",
       "  border: var(--sklearn-color-unfitted-level-1) 1pt solid;\n",
       "  color: var(--sklearn-color-unfitted-level-1);\n",
       "}\n",
       "\n",
       ".sk-estimator-doc-link.fitted,\n",
       "a:link.sk-estimator-doc-link.fitted,\n",
       "a:visited.sk-estimator-doc-link.fitted {\n",
       "  /* fitted */\n",
       "  border: var(--sklearn-color-fitted-level-1) 1pt solid;\n",
       "  color: var(--sklearn-color-fitted-level-1);\n",
       "}\n",
       "\n",
       "/* On hover */\n",
       "div.sk-estimator:hover .sk-estimator-doc-link:hover,\n",
       ".sk-estimator-doc-link:hover,\n",
       "div.sk-label-container:hover .sk-estimator-doc-link:hover,\n",
       ".sk-estimator-doc-link:hover {\n",
       "  /* unfitted */\n",
       "  background-color: var(--sklearn-color-unfitted-level-3);\n",
       "  color: var(--sklearn-color-background);\n",
       "  text-decoration: none;\n",
       "}\n",
       "\n",
       "div.sk-estimator.fitted:hover .sk-estimator-doc-link.fitted:hover,\n",
       ".sk-estimator-doc-link.fitted:hover,\n",
       "div.sk-label-container:hover .sk-estimator-doc-link.fitted:hover,\n",
       ".sk-estimator-doc-link.fitted:hover {\n",
       "  /* fitted */\n",
       "  background-color: var(--sklearn-color-fitted-level-3);\n",
       "  color: var(--sklearn-color-background);\n",
       "  text-decoration: none;\n",
       "}\n",
       "\n",
       "/* Span, style for the box shown on hovering the info icon */\n",
       ".sk-estimator-doc-link span {\n",
       "  display: none;\n",
       "  z-index: 9999;\n",
       "  position: relative;\n",
       "  font-weight: normal;\n",
       "  right: .2ex;\n",
       "  padding: .5ex;\n",
       "  margin: .5ex;\n",
       "  width: min-content;\n",
       "  min-width: 20ex;\n",
       "  max-width: 50ex;\n",
       "  color: var(--sklearn-color-text);\n",
       "  box-shadow: 2pt 2pt 4pt #999;\n",
       "  /* unfitted */\n",
       "  background: var(--sklearn-color-unfitted-level-0);\n",
       "  border: .5pt solid var(--sklearn-color-unfitted-level-3);\n",
       "}\n",
       "\n",
       ".sk-estimator-doc-link.fitted span {\n",
       "  /* fitted */\n",
       "  background: var(--sklearn-color-fitted-level-0);\n",
       "  border: var(--sklearn-color-fitted-level-3);\n",
       "}\n",
       "\n",
       ".sk-estimator-doc-link:hover span {\n",
       "  display: block;\n",
       "}\n",
       "\n",
       "/* \"?\"-specific style due to the `<a>` HTML tag */\n",
       "\n",
       "#sk-container-id-2 a.estimator_doc_link {\n",
       "  float: right;\n",
       "  font-size: 1rem;\n",
       "  line-height: 1em;\n",
       "  font-family: monospace;\n",
       "  background-color: var(--sklearn-color-background);\n",
       "  border-radius: 1rem;\n",
       "  height: 1rem;\n",
       "  width: 1rem;\n",
       "  text-decoration: none;\n",
       "  /* unfitted */\n",
       "  color: var(--sklearn-color-unfitted-level-1);\n",
       "  border: var(--sklearn-color-unfitted-level-1) 1pt solid;\n",
       "}\n",
       "\n",
       "#sk-container-id-2 a.estimator_doc_link.fitted {\n",
       "  /* fitted */\n",
       "  border: var(--sklearn-color-fitted-level-1) 1pt solid;\n",
       "  color: var(--sklearn-color-fitted-level-1);\n",
       "}\n",
       "\n",
       "/* On hover */\n",
       "#sk-container-id-2 a.estimator_doc_link:hover {\n",
       "  /* unfitted */\n",
       "  background-color: var(--sklearn-color-unfitted-level-3);\n",
       "  color: var(--sklearn-color-background);\n",
       "  text-decoration: none;\n",
       "}\n",
       "\n",
       "#sk-container-id-2 a.estimator_doc_link.fitted:hover {\n",
       "  /* fitted */\n",
       "  background-color: var(--sklearn-color-fitted-level-3);\n",
       "}\n",
       "</style><div id=\"sk-container-id-2\" class=\"sk-top-container\"><div class=\"sk-text-repr-fallback\"><pre>OrdinalEncoder(categories=[[&#x27;s&#x27;, &#x27;m&#x27;, &#x27;l&#x27;, &#x27;xl&#x27;]])</pre><b>In a Jupyter environment, please rerun this cell to show the HTML representation or trust the notebook. <br />On GitHub, the HTML representation is unable to render, please try loading this page with nbviewer.org.</b></div><div class=\"sk-container\" hidden><div class=\"sk-item\"><div class=\"sk-estimator fitted sk-toggleable\"><input class=\"sk-toggleable__control sk-hidden--visually\" id=\"sk-estimator-id-2\" type=\"checkbox\" checked><label for=\"sk-estimator-id-2\" class=\"sk-toggleable__label fitted sk-toggleable__label-arrow\"><div><div>OrdinalEncoder</div></div><div><a class=\"sk-estimator-doc-link fitted\" rel=\"noreferrer\" target=\"_blank\" href=\"https://scikit-learn.org/1.6/modules/generated/sklearn.preprocessing.OrdinalEncoder.html\">?<span>Documentation for OrdinalEncoder</span></a><span class=\"sk-estimator-doc-link fitted\">i<span>Fitted</span></span></div></label><div class=\"sk-toggleable__content fitted\"><pre>OrdinalEncoder(categories=[[&#x27;s&#x27;, &#x27;m&#x27;, &#x27;l&#x27;, &#x27;xl&#x27;]])</pre></div> </div></div></div></div>"
      ],
      "text/plain": [
       "OrdinalEncoder(categories=[['s', 'm', 'l', 'xl']])"
      ]
     },
     "execution_count": 93,
     "metadata": {},
     "output_type": "execute_result"
    }
   ],
   "source": [
    "oe = OrdinalEncoder(categories=ord_data)\n",
    "oe.fit(df2[['size']])"
   ]
  },
  {
   "cell_type": "markdown",
   "id": "0dfd9765",
   "metadata": {},
   "source": [
    "# Outliers"
   ]
  },
  {
   "cell_type": "code",
   "execution_count": 94,
   "id": "ce99c4e6",
   "metadata": {},
   "outputs": [
    {
     "data": {
      "application/vnd.microsoft.datawrangler.viewer.v0+json": {
       "columns": [
        {
         "name": "index",
         "rawType": "object",
         "type": "string"
        },
        {
         "name": "ApplicantIncome",
         "rawType": "float64",
         "type": "float"
        },
        {
         "name": "CoapplicantIncome",
         "rawType": "float64",
         "type": "float"
        },
        {
         "name": "LoanAmount",
         "rawType": "float64",
         "type": "float"
        },
        {
         "name": "Loan_Amount_Term",
         "rawType": "float64",
         "type": "float"
        },
        {
         "name": "Credit_History",
         "rawType": "float64",
         "type": "float"
        }
       ],
       "ref": "a400426d-abc7-42f5-9f87-2d6ca22c2723",
       "rows": [
        [
         "count",
         "614.0",
         "614.0",
         "614.0",
         "614.0",
         "614.0"
        ],
        [
         "mean",
         "5403.459283387622",
         "1621.2457980271008",
         "146.41216216216216",
         "342.0",
         "0.8421985815602836"
        ],
        [
         "std",
         "6109.041673387178",
         "2926.2483692241885",
         "84.03746768319648",
         "64.37248862679246",
         "0.3496809866561488"
        ],
        [
         "min",
         "150.0",
         "0.0",
         "9.0",
         "12.0",
         "0.0"
        ],
        [
         "25%",
         "2877.5",
         "0.0",
         "100.25",
         "360.0",
         "1.0"
        ],
        [
         "50%",
         "3812.5",
         "1188.5",
         "129.0",
         "360.0",
         "1.0"
        ],
        [
         "75%",
         "5795.0",
         "2297.25",
         "164.75",
         "360.0",
         "1.0"
        ],
        [
         "max",
         "81000.0",
         "41667.0",
         "700.0",
         "480.0",
         "1.0"
        ]
       ],
       "shape": {
        "columns": 5,
        "rows": 8
       }
      },
      "text/html": [
       "<div>\n",
       "<style scoped>\n",
       "    .dataframe tbody tr th:only-of-type {\n",
       "        vertical-align: middle;\n",
       "    }\n",
       "\n",
       "    .dataframe tbody tr th {\n",
       "        vertical-align: top;\n",
       "    }\n",
       "\n",
       "    .dataframe thead th {\n",
       "        text-align: right;\n",
       "    }\n",
       "</style>\n",
       "<table border=\"1\" class=\"dataframe\">\n",
       "  <thead>\n",
       "    <tr style=\"text-align: right;\">\n",
       "      <th></th>\n",
       "      <th>ApplicantIncome</th>\n",
       "      <th>CoapplicantIncome</th>\n",
       "      <th>LoanAmount</th>\n",
       "      <th>Loan_Amount_Term</th>\n",
       "      <th>Credit_History</th>\n",
       "    </tr>\n",
       "  </thead>\n",
       "  <tbody>\n",
       "    <tr>\n",
       "      <th>count</th>\n",
       "      <td>614.000000</td>\n",
       "      <td>614.000000</td>\n",
       "      <td>614.000000</td>\n",
       "      <td>614.000000</td>\n",
       "      <td>614.000000</td>\n",
       "    </tr>\n",
       "    <tr>\n",
       "      <th>mean</th>\n",
       "      <td>5403.459283</td>\n",
       "      <td>1621.245798</td>\n",
       "      <td>146.412162</td>\n",
       "      <td>342.000000</td>\n",
       "      <td>0.842199</td>\n",
       "    </tr>\n",
       "    <tr>\n",
       "      <th>std</th>\n",
       "      <td>6109.041673</td>\n",
       "      <td>2926.248369</td>\n",
       "      <td>84.037468</td>\n",
       "      <td>64.372489</td>\n",
       "      <td>0.349681</td>\n",
       "    </tr>\n",
       "    <tr>\n",
       "      <th>min</th>\n",
       "      <td>150.000000</td>\n",
       "      <td>0.000000</td>\n",
       "      <td>9.000000</td>\n",
       "      <td>12.000000</td>\n",
       "      <td>0.000000</td>\n",
       "    </tr>\n",
       "    <tr>\n",
       "      <th>25%</th>\n",
       "      <td>2877.500000</td>\n",
       "      <td>0.000000</td>\n",
       "      <td>100.250000</td>\n",
       "      <td>360.000000</td>\n",
       "      <td>1.000000</td>\n",
       "    </tr>\n",
       "    <tr>\n",
       "      <th>50%</th>\n",
       "      <td>3812.500000</td>\n",
       "      <td>1188.500000</td>\n",
       "      <td>129.000000</td>\n",
       "      <td>360.000000</td>\n",
       "      <td>1.000000</td>\n",
       "    </tr>\n",
       "    <tr>\n",
       "      <th>75%</th>\n",
       "      <td>5795.000000</td>\n",
       "      <td>2297.250000</td>\n",
       "      <td>164.750000</td>\n",
       "      <td>360.000000</td>\n",
       "      <td>1.000000</td>\n",
       "    </tr>\n",
       "    <tr>\n",
       "      <th>max</th>\n",
       "      <td>81000.000000</td>\n",
       "      <td>41667.000000</td>\n",
       "      <td>700.000000</td>\n",
       "      <td>480.000000</td>\n",
       "      <td>1.000000</td>\n",
       "    </tr>\n",
       "  </tbody>\n",
       "</table>\n",
       "</div>"
      ],
      "text/plain": [
       "       ApplicantIncome  CoapplicantIncome  LoanAmount  Loan_Amount_Term  \\\n",
       "count       614.000000         614.000000  614.000000        614.000000   \n",
       "mean       5403.459283        1621.245798  146.412162        342.000000   \n",
       "std        6109.041673        2926.248369   84.037468         64.372489   \n",
       "min         150.000000           0.000000    9.000000         12.000000   \n",
       "25%        2877.500000           0.000000  100.250000        360.000000   \n",
       "50%        3812.500000        1188.500000  129.000000        360.000000   \n",
       "75%        5795.000000        2297.250000  164.750000        360.000000   \n",
       "max       81000.000000       41667.000000  700.000000        480.000000   \n",
       "\n",
       "       Credit_History  \n",
       "count      614.000000  \n",
       "mean         0.842199  \n",
       "std          0.349681  \n",
       "min          0.000000  \n",
       "25%          1.000000  \n",
       "50%          1.000000  \n",
       "75%          1.000000  \n",
       "max          1.000000  "
      ]
     },
     "execution_count": 94,
     "metadata": {},
     "output_type": "execute_result"
    }
   ],
   "source": [
    "df.describe()"
   ]
  },
  {
   "cell_type": "code",
   "execution_count": 95,
   "id": "a8555261",
   "metadata": {},
   "outputs": [
    {
     "data": {
      "text/plain": [
       "<Axes: xlabel='CoapplicantIncome'>"
      ]
     },
     "execution_count": 95,
     "metadata": {},
     "output_type": "execute_result"
    },
    {
     "data": {
      "image/png": "[encoded data removed]",
      "text/plain": [
       "<Figure size 640x480 with 1 Axes>"
      ]
     },
     "metadata": {},
     "output_type": "display_data"
    }
   ],
   "source": [
    "sns.boxplot(x = \"CoapplicantIncome\",data=df)"
   ]
  },
  {
   "cell_type": "code",
   "execution_count": 97,
   "id": "9d115ad9",
   "metadata": {},
   "outputs": [
    {
     "data": {
      "image/png": "[encoded data removed]",
      "text/plain": [
       "<Figure size 500x500 with 1 Axes>"
      ]
     },
     "metadata": {},
     "output_type": "display_data"
    }
   ],
   "source": [
    "sns.displot(x=\"CoapplicantIncome\",data=df)\n",
    "plt.show()"
   ]
  },
  {
   "cell_type": "code",
   "execution_count": 98,
   "id": "07bd5f25",
   "metadata": {},
   "outputs": [],
   "source": [
    "z_score = (df[\"CoapplicantIncome\"] - df[\"CoapplicantIncome\"].mean())/(df[\"CoapplicantIncome\"].std())"
   ]
  },
  {
   "cell_type": "code",
   "execution_count": 104,
   "id": "3d111610",
   "metadata": {},
   "outputs": [],
   "source": [
    "df['z_score'] = z_score"
   ]
  },
  {
   "cell_type": "code",
   "execution_count": 107,
   "id": "6c20edb2",
   "metadata": {},
   "outputs": [
    {
     "data": {
      "application/vnd.microsoft.datawrangler.viewer.v0+json": {
       "columns": [
        {
         "name": "index",
         "rawType": "int64",
         "type": "integer"
        },
        {
         "name": "Loan_ID",
         "rawType": "object",
         "type": "string"
        },
        {
         "name": "Gender",
         "rawType": "object",
         "type": "string"
        },
        {
         "name": "Married",
         "rawType": "object",
         "type": "string"
        },
        {
         "name": "Dependents",
         "rawType": "object",
         "type": "string"
        },
        {
         "name": "Education",
         "rawType": "object",
         "type": "string"
        },
        {
         "name": "Self_Employed",
         "rawType": "object",
         "type": "string"
        },
        {
         "name": "ApplicantIncome",
         "rawType": "int64",
         "type": "integer"
        },
        {
         "name": "CoapplicantIncome",
         "rawType": "float64",
         "type": "float"
        },
        {
         "name": "LoanAmount",
         "rawType": "float64",
         "type": "float"
        },
        {
         "name": "Loan_Amount_Term",
         "rawType": "float64",
         "type": "float"
        },
        {
         "name": "Credit_History",
         "rawType": "float64",
         "type": "float"
        },
        {
         "name": "Property_Area",
         "rawType": "object",
         "type": "string"
        },
        {
         "name": "Loan_Status",
         "rawType": "object",
         "type": "string"
        },
        {
         "name": "z_score",
         "rawType": "float64",
         "type": "float"
        }
       ],
       "ref": "a28747a5-0a01-4771-8de3-015cbfb6c0fc",
       "rows": [
        [
         "0",
         "LP001002",
         "Male",
         "No",
         "0",
         "Graduate",
         "No",
         "5849",
         "0.0",
         "146.41216216216216",
         "360.0",
         "1.0",
         "Urban",
         "Y",
         "-0.5540356092387769"
        ],
        [
         "1",
         "LP001003",
         "Male",
         "Yes",
         "1",
         "Graduate",
         "No",
         "4583",
         "1508.0",
         "128.0",
         "360.0",
         "1.0",
         "Rural",
         "N",
         "-0.03869999526291909"
        ],
        [
         "2",
         "LP001005",
         "Male",
         "Yes",
         "0",
         "Graduate",
         "Yes",
         "3000",
         "0.0",
         "66.0",
         "360.0",
         "1.0",
         "Urban",
         "Y",
         "-0.5540356092387769"
        ],
        [
         "3",
         "LP001006",
         "Male",
         "Yes",
         "0",
         "Not Graduate",
         "No",
         "2583",
         "2358.0",
         "120.0",
         "360.0",
         "1.0",
         "Urban",
         "Y",
         "0.2517743229595472"
        ],
        [
         "4",
         "LP001008",
         "Male",
         "No",
         "0",
         "Graduate",
         "No",
         "6000",
         "0.0",
         "141.0",
         "360.0",
         "1.0",
         "Urban",
         "Y",
         "-0.5540356092387769"
        ],
        [
         "5",
         "LP001011",
         "Male",
         "Yes",
         "2",
         "Graduate",
         "Yes",
         "5417",
         "4196.0",
         "267.0",
         "360.0",
         "1.0",
         "Urban",
         "Y",
         "0.8798823193041272"
        ],
        [
         "6",
         "LP001013",
         "Male",
         "Yes",
         "0",
         "Not Graduate",
         "No",
         "2333",
         "1516.0",
         "95.0",
         "360.0",
         "1.0",
         "Urban",
         "Y",
         "-0.035966119326707645"
        ],
        [
         "7",
         "LP001014",
         "Male",
         "Yes",
         "3+",
         "Graduate",
         "No",
         "3036",
         "2504.0",
         "158.0",
         "360.0",
         "0.0",
         "Semiurban",
         "N",
         "0.30166755879540613"
        ],
        [
         "8",
         "LP001018",
         "Male",
         "Yes",
         "2",
         "Graduate",
         "No",
         "4006",
         "1526.0",
         "168.0",
         "360.0",
         "1.0",
         "Urban",
         "Y",
         "-0.03254877440644333"
        ],
        [
         "10",
         "LP001024",
         "Male",
         "Yes",
         "2",
         "Graduate",
         "No",
         "3200",
         "700.0",
         "70.0",
         "360.0",
         "1.0",
         "Urban",
         "Y",
         "-0.3148214648202753"
        ],
        [
         "11",
         "LP001027",
         "Male",
         "Yes",
         "2",
         "Graduate",
         "No",
         "2500",
         "1840.0",
         "109.0",
         "360.0",
         "1.0",
         "Urban",
         "Y",
         "0.07475585608985598"
        ],
        [
         "12",
         "LP001028",
         "Male",
         "Yes",
         "2",
         "Graduate",
         "No",
         "3073",
         "8106.0",
         "200.0",
         "360.0",
         "1.0",
         "Urban",
         "Y",
         "2.216064183127472"
        ],
        [
         "13",
         "LP001029",
         "Male",
         "No",
         "0",
         "Graduate",
         "No",
         "1853",
         "2840.0",
         "114.0",
         "360.0",
         "1.0",
         "Rural",
         "N",
         "0.41649034811628693"
        ],
        [
         "14",
         "LP001030",
         "Male",
         "Yes",
         "2",
         "Graduate",
         "No",
         "1299",
         "1086.0",
         "17.0",
         "120.0",
         "1.0",
         "Urban",
         "Y",
         "-0.18291195089807294"
        ],
        [
         "15",
         "LP001032",
         "Male",
         "No",
         "0",
         "Graduate",
         "No",
         "4950",
         "0.0",
         "125.0",
         "360.0",
         "1.0",
         "Urban",
         "Y",
         "-0.5540356092387769"
        ],
        [
         "16",
         "LP001034",
         "Male",
         "No",
         "1",
         "Not Graduate",
         "No",
         "3596",
         "0.0",
         "100.0",
         "240.0",
         "0.8421985815602837",
         "Urban",
         "Y",
         "-0.5540356092387769"
        ],
        [
         "17",
         "LP001036",
         "Female",
         "No",
         "0",
         "Graduate",
         "No",
         "3510",
         "0.0",
         "76.0",
         "360.0",
         "0.0",
         "Urban",
         "N",
         "-0.5540356092387769"
        ],
        [
         "18",
         "LP001038",
         "Male",
         "Yes",
         "0",
         "Not Graduate",
         "No",
         "4887",
         "0.0",
         "133.0",
         "360.0",
         "1.0",
         "Rural",
         "N",
         "-0.5540356092387769"
        ],
        [
         "19",
         "LP001041",
         "Male",
         "Yes",
         "0",
         "Graduate",
         "No",
         "2600",
         "3500.0",
         "115.0",
         "342.0",
         "1.0",
         "Urban",
         "Y",
         "0.6420351128537314"
        ],
        [
         "20",
         "LP001043",
         "Male",
         "Yes",
         "0",
         "Not Graduate",
         "No",
         "7660",
         "0.0",
         "104.0",
         "360.0",
         "0.0",
         "Urban",
         "N",
         "-0.5540356092387769"
        ],
        [
         "21",
         "LP001046",
         "Male",
         "Yes",
         "1",
         "Graduate",
         "No",
         "5955",
         "5625.0",
         "315.0",
         "360.0",
         "1.0",
         "Urban",
         "Y",
         "1.368220908409897"
        ],
        [
         "22",
         "LP001047",
         "Male",
         "Yes",
         "0",
         "Not Graduate",
         "No",
         "2600",
         "1911.0",
         "116.0",
         "360.0",
         "0.0",
         "Semiurban",
         "N",
         "0.09901900502373258"
        ],
        [
         "23",
         "LP001050",
         "Male",
         "Yes",
         "2",
         "Not Graduate",
         "No",
         "3365",
         "1917.0",
         "112.0",
         "360.0",
         "0.0",
         "Rural",
         "N",
         "0.10106941197589116"
        ],
        [
         "24",
         "LP001052",
         "Male",
         "Yes",
         "1",
         "Graduate",
         "No",
         "3717",
         "2925.0",
         "151.0",
         "360.0",
         "0.8421985815602837",
         "Semiurban",
         "N",
         "0.44553777993853355"
        ],
        [
         "25",
         "LP001066",
         "Male",
         "Yes",
         "0",
         "Graduate",
         "Yes",
         "9560",
         "0.0",
         "191.0",
         "360.0",
         "1.0",
         "Semiurban",
         "Y",
         "-0.5540356092387769"
        ],
        [
         "26",
         "LP001068",
         "Male",
         "Yes",
         "0",
         "Graduate",
         "No",
         "2799",
         "2253.0",
         "122.0",
         "360.0",
         "1.0",
         "Semiurban",
         "Y",
         "0.21589220129677195"
        ],
        [
         "27",
         "LP001073",
         "Male",
         "Yes",
         "2",
         "Not Graduate",
         "No",
         "4226",
         "1040.0",
         "110.0",
         "360.0",
         "1.0",
         "Urban",
         "Y",
         "-0.19863173753128877"
        ],
        [
         "28",
         "LP001086",
         "Male",
         "No",
         "0",
         "Not Graduate",
         "No",
         "1442",
         "0.0",
         "35.0",
         "360.0",
         "1.0",
         "Urban",
         "N",
         "-0.5540356092387769"
        ],
        [
         "29",
         "LP001087",
         "Female",
         "No",
         "2",
         "Graduate",
         "No",
         "3750",
         "2083.0",
         "120.0",
         "360.0",
         "1.0",
         "Semiurban",
         "Y",
         "0.15779733765227869"
        ],
        [
         "30",
         "LP001091",
         "Male",
         "Yes",
         "1",
         "Graduate",
         "No",
         "4166",
         "3369.0",
         "201.0",
         "360.0",
         "0.8421985815602837",
         "Urban",
         "N",
         "0.5972678943982689"
        ],
        [
         "31",
         "LP001095",
         "Male",
         "No",
         "0",
         "Graduate",
         "No",
         "3167",
         "0.0",
         "74.0",
         "360.0",
         "1.0",
         "Urban",
         "N",
         "-0.5540356092387769"
        ],
        [
         "32",
         "LP001097",
         "Male",
         "No",
         "1",
         "Graduate",
         "Yes",
         "4692",
         "0.0",
         "106.0",
         "360.0",
         "1.0",
         "Rural",
         "N",
         "-0.5540356092387769"
        ],
        [
         "33",
         "LP001098",
         "Male",
         "Yes",
         "0",
         "Graduate",
         "No",
         "3500",
         "1667.0",
         "114.0",
         "360.0",
         "1.0",
         "Semiurban",
         "Y",
         "0.015635788969283426"
        ],
        [
         "34",
         "LP001100",
         "Male",
         "No",
         "3+",
         "Graduate",
         "No",
         "12500",
         "3000.0",
         "320.0",
         "360.0",
         "1.0",
         "Rural",
         "N",
         "0.47116786684051587"
        ],
        [
         "35",
         "LP001106",
         "Male",
         "Yes",
         "0",
         "Graduate",
         "No",
         "2275",
         "2067.0",
         "146.41216216216216",
         "360.0",
         "1.0",
         "Urban",
         "Y",
         "0.1523295857798558"
        ],
        [
         "36",
         "LP001109",
         "Male",
         "Yes",
         "0",
         "Graduate",
         "No",
         "1828",
         "1330.0",
         "100.0",
         "342.0",
         "0.0",
         "Urban",
         "N",
         "-0.0995287348436238"
        ],
        [
         "37",
         "LP001112",
         "Female",
         "Yes",
         "0",
         "Graduate",
         "No",
         "3667",
         "1459.0",
         "144.0",
         "360.0",
         "1.0",
         "Semiurban",
         "Y",
         "-0.055444985372214206"
        ],
        [
         "38",
         "LP001114",
         "Male",
         "No",
         "0",
         "Graduate",
         "No",
         "4166",
         "7210.0",
         "184.0",
         "360.0",
         "1.0",
         "Urban",
         "Y",
         "1.9098700782717901"
        ],
        [
         "39",
         "LP001116",
         "Male",
         "No",
         "0",
         "Not Graduate",
         "No",
         "3748",
         "1668.0",
         "110.0",
         "360.0",
         "1.0",
         "Semiurban",
         "Y",
         "0.01597752346130986"
        ],
        [
         "40",
         "LP001119",
         "Male",
         "No",
         "0",
         "Graduate",
         "No",
         "3600",
         "0.0",
         "80.0",
         "360.0",
         "1.0",
         "Urban",
         "N",
         "-0.5540356092387769"
        ],
        [
         "41",
         "LP001120",
         "Male",
         "No",
         "0",
         "Graduate",
         "No",
         "1800",
         "1213.0",
         "47.0",
         "360.0",
         "1.0",
         "Urban",
         "Y",
         "-0.13951167041071622"
        ],
        [
         "42",
         "LP001123",
         "Male",
         "Yes",
         "0",
         "Graduate",
         "No",
         "2400",
         "0.0",
         "75.0",
         "360.0",
         "0.8421985815602837",
         "Urban",
         "Y",
         "-0.5540356092387769"
        ],
        [
         "43",
         "LP001131",
         "Male",
         "Yes",
         "0",
         "Graduate",
         "No",
         "3941",
         "2336.0",
         "134.0",
         "360.0",
         "1.0",
         "Semiurban",
         "Y",
         "0.24425616413496573"
        ],
        [
         "44",
         "LP001136",
         "Male",
         "Yes",
         "0",
         "Not Graduate",
         "Yes",
         "4695",
         "0.0",
         "96.0",
         "342.0",
         "1.0",
         "Urban",
         "Y",
         "-0.5540356092387769"
        ],
        [
         "45",
         "LP001137",
         "Female",
         "No",
         "0",
         "Graduate",
         "No",
         "3410",
         "0.0",
         "88.0",
         "342.0",
         "1.0",
         "Urban",
         "Y",
         "-0.5540356092387769"
        ],
        [
         "46",
         "LP001138",
         "Male",
         "Yes",
         "1",
         "Graduate",
         "No",
         "5649",
         "0.0",
         "44.0",
         "360.0",
         "1.0",
         "Urban",
         "Y",
         "-0.5540356092387769"
        ],
        [
         "47",
         "LP001144",
         "Male",
         "Yes",
         "0",
         "Graduate",
         "No",
         "5821",
         "0.0",
         "144.0",
         "360.0",
         "1.0",
         "Urban",
         "Y",
         "-0.5540356092387769"
        ],
        [
         "48",
         "LP001146",
         "Female",
         "Yes",
         "0",
         "Graduate",
         "No",
         "2645",
         "3440.0",
         "120.0",
         "360.0",
         "0.0",
         "Urban",
         "N",
         "0.6215310433321455"
        ],
        [
         "49",
         "LP001151",
         "Female",
         "No",
         "0",
         "Graduate",
         "No",
         "4000",
         "2275.0",
         "144.0",
         "360.0",
         "1.0",
         "Semiurban",
         "Y",
         "0.22341036012135343"
        ],
        [
         "50",
         "LP001155",
         "Female",
         "Yes",
         "0",
         "Not Graduate",
         "No",
         "1928",
         "1644.0",
         "100.0",
         "360.0",
         "1.0",
         "Semiurban",
         "Y",
         "0.007775895652675515"
        ]
       ],
       "shape": {
        "columns": 14,
        "rows": 608
       }
      },
      "text/html": [
       "<div>\n",
       "<style scoped>\n",
       "    .dataframe tbody tr th:only-of-type {\n",
       "        vertical-align: middle;\n",
       "    }\n",
       "\n",
       "    .dataframe tbody tr th {\n",
       "        vertical-align: top;\n",
       "    }\n",
       "\n",
       "    .dataframe thead th {\n",
       "        text-align: right;\n",
       "    }\n",
       "</style>\n",
       "<table border=\"1\" class=\"dataframe\">\n",
       "  <thead>\n",
       "    <tr style=\"text-align: right;\">\n",
       "      <th></th>\n",
       "      <th>Loan_ID</th>\n",
       "      <th>Gender</th>\n",
       "      <th>Married</th>\n",
       "      <th>Dependents</th>\n",
       "      <th>Education</th>\n",
       "      <th>Self_Employed</th>\n",
       "      <th>ApplicantIncome</th>\n",
       "      <th>CoapplicantIncome</th>\n",
       "      <th>LoanAmount</th>\n",
       "      <th>Loan_Amount_Term</th>\n",
       "      <th>Credit_History</th>\n",
       "      <th>Property_Area</th>\n",
       "      <th>Loan_Status</th>\n",
       "      <th>z_score</th>\n",
       "    </tr>\n",
       "  </thead>\n",
       "  <tbody>\n",
       "    <tr>\n",
       "      <th>0</th>\n",
       "      <td>LP001002</td>\n",
       "      <td>Male</td>\n",
       "      <td>No</td>\n",
       "      <td>0</td>\n",
       "      <td>Graduate</td>\n",
       "      <td>No</td>\n",
       "      <td>5849</td>\n",
       "      <td>0.0</td>\n",
       "      <td>146.412162</td>\n",
       "      <td>360.0</td>\n",
       "      <td>1.0</td>\n",
       "      <td>Urban</td>\n",
       "      <td>Y</td>\n",
       "      <td>-0.554036</td>\n",
       "    </tr>\n",
       "    <tr>\n",
       "      <th>1</th>\n",
       "      <td>LP001003</td>\n",
       "      <td>Male</td>\n",
       "      <td>Yes</td>\n",
       "      <td>1</td>\n",
       "      <td>Graduate</td>\n",
       "      <td>No</td>\n",
       "      <td>4583</td>\n",
       "      <td>1508.0</td>\n",
       "      <td>128.000000</td>\n",
       "      <td>360.0</td>\n",
       "      <td>1.0</td>\n",
       "      <td>Rural</td>\n",
       "      <td>N</td>\n",
       "      <td>-0.038700</td>\n",
       "    </tr>\n",
       "    <tr>\n",
       "      <th>2</th>\n",
       "      <td>LP001005</td>\n",
       "      <td>Male</td>\n",
       "      <td>Yes</td>\n",
       "      <td>0</td>\n",
       "      <td>Graduate</td>\n",
       "      <td>Yes</td>\n",
       "      <td>3000</td>\n",
       "      <td>0.0</td>\n",
       "      <td>66.000000</td>\n",
       "      <td>360.0</td>\n",
       "      <td>1.0</td>\n",
       "      <td>Urban</td>\n",
       "      <td>Y</td>\n",
       "      <td>-0.554036</td>\n",
       "    </tr>\n",
       "    <tr>\n",
       "      <th>3</th>\n",
       "      <td>LP001006</td>\n",
       "      <td>Male</td>\n",
       "      <td>Yes</td>\n",
       "      <td>0</td>\n",
       "      <td>Not Graduate</td>\n",
       "      <td>No</td>\n",
       "      <td>2583</td>\n",
       "      <td>2358.0</td>\n",
       "      <td>120.000000</td>\n",
       "      <td>360.0</td>\n",
       "      <td>1.0</td>\n",
       "      <td>Urban</td>\n",
       "      <td>Y</td>\n",
       "      <td>0.251774</td>\n",
       "    </tr>\n",
       "    <tr>\n",
       "      <th>4</th>\n",
       "      <td>LP001008</td>\n",
       "      <td>Male</td>\n",
       "      <td>No</td>\n",
       "      <td>0</td>\n",
       "      <td>Graduate</td>\n",
       "      <td>No</td>\n",
       "      <td>6000</td>\n",
       "      <td>0.0</td>\n",
       "      <td>141.000000</td>\n",
       "      <td>360.0</td>\n",
       "      <td>1.0</td>\n",
       "      <td>Urban</td>\n",
       "      <td>Y</td>\n",
       "      <td>-0.554036</td>\n",
       "    </tr>\n",
       "    <tr>\n",
       "      <th>...</th>\n",
       "      <td>...</td>\n",
       "      <td>...</td>\n",
       "      <td>...</td>\n",
       "      <td>...</td>\n",
       "      <td>...</td>\n",
       "      <td>...</td>\n",
       "      <td>...</td>\n",
       "      <td>...</td>\n",
       "      <td>...</td>\n",
       "      <td>...</td>\n",
       "      <td>...</td>\n",
       "      <td>...</td>\n",
       "      <td>...</td>\n",
       "      <td>...</td>\n",
       "    </tr>\n",
       "    <tr>\n",
       "      <th>609</th>\n",
       "      <td>LP002978</td>\n",
       "      <td>Female</td>\n",
       "      <td>No</td>\n",
       "      <td>0</td>\n",
       "      <td>Graduate</td>\n",
       "      <td>No</td>\n",
       "      <td>2900</td>\n",
       "      <td>0.0</td>\n",
       "      <td>71.000000</td>\n",
       "      <td>360.0</td>\n",
       "      <td>1.0</td>\n",
       "      <td>Rural</td>\n",
       "      <td>Y</td>\n",
       "      <td>-0.554036</td>\n",
       "    </tr>\n",
       "    <tr>\n",
       "      <th>610</th>\n",
       "      <td>LP002979</td>\n",
       "      <td>Male</td>\n",
       "      <td>Yes</td>\n",
       "      <td>3+</td>\n",
       "      <td>Graduate</td>\n",
       "      <td>No</td>\n",
       "      <td>4106</td>\n",
       "      <td>0.0</td>\n",
       "      <td>40.000000</td>\n",
       "      <td>180.0</td>\n",
       "      <td>1.0</td>\n",
       "      <td>Rural</td>\n",
       "      <td>Y</td>\n",
       "      <td>-0.554036</td>\n",
       "    </tr>\n",
       "    <tr>\n",
       "      <th>611</th>\n",
       "      <td>LP002983</td>\n",
       "      <td>Male</td>\n",
       "      <td>Yes</td>\n",
       "      <td>1</td>\n",
       "      <td>Graduate</td>\n",
       "      <td>No</td>\n",
       "      <td>8072</td>\n",
       "      <td>240.0</td>\n",
       "      <td>253.000000</td>\n",
       "      <td>360.0</td>\n",
       "      <td>1.0</td>\n",
       "      <td>Urban</td>\n",
       "      <td>Y</td>\n",
       "      <td>-0.472019</td>\n",
       "    </tr>\n",
       "    <tr>\n",
       "      <th>612</th>\n",
       "      <td>LP002984</td>\n",
       "      <td>Male</td>\n",
       "      <td>Yes</td>\n",
       "      <td>2</td>\n",
       "      <td>Graduate</td>\n",
       "      <td>No</td>\n",
       "      <td>7583</td>\n",
       "      <td>0.0</td>\n",
       "      <td>187.000000</td>\n",
       "      <td>360.0</td>\n",
       "      <td>1.0</td>\n",
       "      <td>Urban</td>\n",
       "      <td>Y</td>\n",
       "      <td>-0.554036</td>\n",
       "    </tr>\n",
       "    <tr>\n",
       "      <th>613</th>\n",
       "      <td>LP002990</td>\n",
       "      <td>Female</td>\n",
       "      <td>No</td>\n",
       "      <td>0</td>\n",
       "      <td>Graduate</td>\n",
       "      <td>Yes</td>\n",
       "      <td>4583</td>\n",
       "      <td>0.0</td>\n",
       "      <td>133.000000</td>\n",
       "      <td>360.0</td>\n",
       "      <td>0.0</td>\n",
       "      <td>Semiurban</td>\n",
       "      <td>N</td>\n",
       "      <td>-0.554036</td>\n",
       "    </tr>\n",
       "  </tbody>\n",
       "</table>\n",
       "<p>608 rows × 14 columns</p>\n",
       "</div>"
      ],
      "text/plain": [
       "      Loan_ID  Gender Married Dependents     Education Self_Employed  \\\n",
       "0    LP001002    Male      No          0      Graduate            No   \n",
       "1    LP001003    Male     Yes          1      Graduate            No   \n",
       "2    LP001005    Male     Yes          0      Graduate           Yes   \n",
       "3    LP001006    Male     Yes          0  Not Graduate            No   \n",
       "4    LP001008    Male      No          0      Graduate            No   \n",
       "..        ...     ...     ...        ...           ...           ...   \n",
       "609  LP002978  Female      No          0      Graduate            No   \n",
       "610  LP002979    Male     Yes         3+      Graduate            No   \n",
       "611  LP002983    Male     Yes          1      Graduate            No   \n",
       "612  LP002984    Male     Yes          2      Graduate            No   \n",
       "613  LP002990  Female      No          0      Graduate           Yes   \n",
       "\n",
       "     ApplicantIncome  CoapplicantIncome  LoanAmount  Loan_Amount_Term  \\\n",
       "0               5849                0.0  146.412162             360.0   \n",
       "1               4583             1508.0  128.000000             360.0   \n",
       "2               3000                0.0   66.000000             360.0   \n",
       "3               2583             2358.0  120.000000             360.0   \n",
       "4               6000                0.0  141.000000             360.0   \n",
       "..               ...                ...         ...               ...   \n",
       "609             2900                0.0   71.000000             360.0   \n",
       "610             4106                0.0   40.000000             180.0   \n",
       "611             8072              240.0  253.000000             360.0   \n",
       "612             7583                0.0  187.000000             360.0   \n",
       "613             4583                0.0  133.000000             360.0   \n",
       "\n",
       "     Credit_History Property_Area Loan_Status   z_score  \n",
       "0               1.0         Urban           Y -0.554036  \n",
       "1               1.0         Rural           N -0.038700  \n",
       "2               1.0         Urban           Y -0.554036  \n",
       "3               1.0         Urban           Y  0.251774  \n",
       "4               1.0         Urban           Y -0.554036  \n",
       "..              ...           ...         ...       ...  \n",
       "609             1.0         Rural           Y -0.554036  \n",
       "610             1.0         Rural           Y -0.554036  \n",
       "611             1.0         Urban           Y -0.472019  \n",
       "612             1.0         Urban           Y -0.554036  \n",
       "613             0.0     Semiurban           N -0.554036  \n",
       "\n",
       "[608 rows x 14 columns]"
      ]
     },
     "execution_count": 107,
     "metadata": {},
     "output_type": "execute_result"
    }
   ],
   "source": [
    "df[df[\"z_score\"]<3]"
   ]
  },
  {
   "cell_type": "markdown",
   "id": "ff3d9816",
   "metadata": {},
   "source": [
    "# Feature_Scaling\n",
    "- 1.standarization\n",
    "- 2.Normalization"
   ]
  },
  {
   "cell_type": "code",
   "execution_count": 110,
   "id": "90d03d05",
   "metadata": {},
   "outputs": [
    {
     "data": {
      "application/vnd.microsoft.datawrangler.viewer.v0+json": {
       "columns": [
        {
         "name": "index",
         "rawType": "object",
         "type": "string"
        },
        {
         "name": "ApplicantIncome",
         "rawType": "float64",
         "type": "float"
        },
        {
         "name": "CoapplicantIncome",
         "rawType": "float64",
         "type": "float"
        },
        {
         "name": "LoanAmount",
         "rawType": "float64",
         "type": "float"
        },
        {
         "name": "Loan_Amount_Term",
         "rawType": "float64",
         "type": "float"
        },
        {
         "name": "Credit_History",
         "rawType": "float64",
         "type": "float"
        },
        {
         "name": "z_score",
         "rawType": "float64",
         "type": "float"
        }
       ],
       "ref": "c0dae144-ae05-4479-8e1e-a16ec135c003",
       "rows": [
        [
         "count",
         "614.0",
         "614.0",
         "614.0",
         "614.0",
         "614.0",
         "614.0"
        ],
        [
         "mean",
         "5403.459283387622",
         "1621.2457980271008",
         "146.41216216216216",
         "342.0",
         "0.8421985815602836",
         "4.628942903974594e-17"
        ],
        [
         "std",
         "6109.041673387178",
         "2926.2483692241885",
         "84.03746768319648",
         "64.37248862679246",
         "0.3496809866561488",
         "1.0"
        ],
        [
         "min",
         "150.0",
         "0.0",
         "9.0",
         "12.0",
         "0.0",
         "-0.5540356092387769"
        ],
        [
         "25%",
         "2877.5",
         "0.0",
         "100.25",
         "360.0",
         "1.0",
         "-0.5540356092387769"
        ],
        [
         "50%",
         "3812.5",
         "1188.5",
         "129.0",
         "360.0",
         "1.0",
         "-0.14788416546536376"
        ],
        [
         "75%",
         "5795.0",
         "2297.25",
         "164.75",
         "360.0",
         "1.0",
         "0.23101395256894153"
        ],
        [
         "max",
         "81000.0",
         "41667.0",
         "700.0",
         "480.0",
         "1.0",
         "13.68501547002652"
        ]
       ],
       "shape": {
        "columns": 6,
        "rows": 8
       }
      },
      "text/html": [
       "<div>\n",
       "<style scoped>\n",
       "    .dataframe tbody tr th:only-of-type {\n",
       "        vertical-align: middle;\n",
       "    }\n",
       "\n",
       "    .dataframe tbody tr th {\n",
       "        vertical-align: top;\n",
       "    }\n",
       "\n",
       "    .dataframe thead th {\n",
       "        text-align: right;\n",
       "    }\n",
       "</style>\n",
       "<table border=\"1\" class=\"dataframe\">\n",
       "  <thead>\n",
       "    <tr style=\"text-align: right;\">\n",
       "      <th></th>\n",
       "      <th>ApplicantIncome</th>\n",
       "      <th>CoapplicantIncome</th>\n",
       "      <th>LoanAmount</th>\n",
       "      <th>Loan_Amount_Term</th>\n",
       "      <th>Credit_History</th>\n",
       "      <th>z_score</th>\n",
       "    </tr>\n",
       "  </thead>\n",
       "  <tbody>\n",
       "    <tr>\n",
       "      <th>count</th>\n",
       "      <td>614.000000</td>\n",
       "      <td>614.000000</td>\n",
       "      <td>614.000000</td>\n",
       "      <td>614.000000</td>\n",
       "      <td>614.000000</td>\n",
       "      <td>6.140000e+02</td>\n",
       "    </tr>\n",
       "    <tr>\n",
       "      <th>mean</th>\n",
       "      <td>5403.459283</td>\n",
       "      <td>1621.245798</td>\n",
       "      <td>146.412162</td>\n",
       "      <td>342.000000</td>\n",
       "      <td>0.842199</td>\n",
       "      <td>4.628943e-17</td>\n",
       "    </tr>\n",
       "    <tr>\n",
       "      <th>std</th>\n",
       "      <td>6109.041673</td>\n",
       "      <td>2926.248369</td>\n",
       "      <td>84.037468</td>\n",
       "      <td>64.372489</td>\n",
       "      <td>0.349681</td>\n",
       "      <td>1.000000e+00</td>\n",
       "    </tr>\n",
       "    <tr>\n",
       "      <th>min</th>\n",
       "      <td>150.000000</td>\n",
       "      <td>0.000000</td>\n",
       "      <td>9.000000</td>\n",
       "      <td>12.000000</td>\n",
       "      <td>0.000000</td>\n",
       "      <td>-5.540356e-01</td>\n",
       "    </tr>\n",
       "    <tr>\n",
       "      <th>25%</th>\n",
       "      <td>2877.500000</td>\n",
       "      <td>0.000000</td>\n",
       "      <td>100.250000</td>\n",
       "      <td>360.000000</td>\n",
       "      <td>1.000000</td>\n",
       "      <td>-5.540356e-01</td>\n",
       "    </tr>\n",
       "    <tr>\n",
       "      <th>50%</th>\n",
       "      <td>3812.500000</td>\n",
       "      <td>1188.500000</td>\n",
       "      <td>129.000000</td>\n",
       "      <td>360.000000</td>\n",
       "      <td>1.000000</td>\n",
       "      <td>-1.478842e-01</td>\n",
       "    </tr>\n",
       "    <tr>\n",
       "      <th>75%</th>\n",
       "      <td>5795.000000</td>\n",
       "      <td>2297.250000</td>\n",
       "      <td>164.750000</td>\n",
       "      <td>360.000000</td>\n",
       "      <td>1.000000</td>\n",
       "      <td>2.310140e-01</td>\n",
       "    </tr>\n",
       "    <tr>\n",
       "      <th>max</th>\n",
       "      <td>81000.000000</td>\n",
       "      <td>41667.000000</td>\n",
       "      <td>700.000000</td>\n",
       "      <td>480.000000</td>\n",
       "      <td>1.000000</td>\n",
       "      <td>1.368502e+01</td>\n",
       "    </tr>\n",
       "  </tbody>\n",
       "</table>\n",
       "</div>"
      ],
      "text/plain": [
       "       ApplicantIncome  CoapplicantIncome  LoanAmount  Loan_Amount_Term  \\\n",
       "count       614.000000         614.000000  614.000000        614.000000   \n",
       "mean       5403.459283        1621.245798  146.412162        342.000000   \n",
       "std        6109.041673        2926.248369   84.037468         64.372489   \n",
       "min         150.000000           0.000000    9.000000         12.000000   \n",
       "25%        2877.500000           0.000000  100.250000        360.000000   \n",
       "50%        3812.500000        1188.500000  129.000000        360.000000   \n",
       "75%        5795.000000        2297.250000  164.750000        360.000000   \n",
       "max       81000.000000       41667.000000  700.000000        480.000000   \n",
       "\n",
       "       Credit_History       z_score  \n",
       "count      614.000000  6.140000e+02  \n",
       "mean         0.842199  4.628943e-17  \n",
       "std          0.349681  1.000000e+00  \n",
       "min          0.000000 -5.540356e-01  \n",
       "25%          1.000000 -5.540356e-01  \n",
       "50%          1.000000 -1.478842e-01  \n",
       "75%          1.000000  2.310140e-01  \n",
       "max          1.000000  1.368502e+01  "
      ]
     },
     "execution_count": 110,
     "metadata": {},
     "output_type": "execute_result"
    }
   ],
   "source": [
    "df.describe()"
   ]
  },
  {
   "cell_type": "code",
   "execution_count": 112,
   "id": "c103e676",
   "metadata": {},
   "outputs": [],
   "source": [
    "from sklearn.preprocessing import StandardScaler"
   ]
  },
  {
   "cell_type": "code",
   "execution_count": 113,
   "id": "870476ef",
   "metadata": {},
   "outputs": [
    {
     "data": {
      "text/html": [
       "<style>#sk-container-id-3 {\n",
       "  /* Definition of color scheme common for light and dark mode */\n",
       "  --sklearn-color-text: #000;\n",
       "  --sklearn-color-text-muted: #666;\n",
       "  --sklearn-color-line: gray;\n",
       "  /* Definition of color scheme for unfitted estimators */\n",
       "  --sklearn-color-unfitted-level-0: #fff5e6;\n",
       "  --sklearn-color-unfitted-level-1: #f6e4d2;\n",
       "  --sklearn-color-unfitted-level-2: #ffe0b3;\n",
       "  --sklearn-color-unfitted-level-3: chocolate;\n",
       "  /* Definition of color scheme for fitted estimators */\n",
       "  --sklearn-color-fitted-level-0: #f0f8ff;\n",
       "  --sklearn-color-fitted-level-1: #d4ebff;\n",
       "  --sklearn-color-fitted-level-2: #b3dbfd;\n",
       "  --sklearn-color-fitted-level-3: cornflowerblue;\n",
       "\n",
       "  /* Specific color for light theme */\n",
       "  --sklearn-color-text-on-default-background: var(--sg-text-color, var(--theme-code-foreground, var(--jp-content-font-color1, black)));\n",
       "  --sklearn-color-background: var(--sg-background-color, var(--theme-background, var(--jp-layout-color0, white)));\n",
       "  --sklearn-color-border-box: var(--sg-text-color, var(--theme-code-foreground, var(--jp-content-font-color1, black)));\n",
       "  --sklearn-color-icon: #696969;\n",
       "\n",
       "  @media (prefers-color-scheme: dark) {\n",
       "    /* Redefinition of color scheme for dark theme */\n",
       "    --sklearn-color-text-on-default-background: var(--sg-text-color, var(--theme-code-foreground, var(--jp-content-font-color1, white)));\n",
       "    --sklearn-color-background: var(--sg-background-color, var(--theme-background, var(--jp-layout-color0, #111)));\n",
       "    --sklearn-color-border-box: var(--sg-text-color, var(--theme-code-foreground, var(--jp-content-font-color1, white)));\n",
       "    --sklearn-color-icon: #878787;\n",
       "  }\n",
       "}\n",
       "\n",
       "#sk-container-id-3 {\n",
       "  color: var(--sklearn-color-text);\n",
       "}\n",
       "\n",
       "#sk-container-id-3 pre {\n",
       "  padding: 0;\n",
       "}\n",
       "\n",
       "#sk-container-id-3 input.sk-hidden--visually {\n",
       "  border: 0;\n",
       "  clip: rect(1px 1px 1px 1px);\n",
       "  clip: rect(1px, 1px, 1px, 1px);\n",
       "  height: 1px;\n",
       "  margin: -1px;\n",
       "  overflow: hidden;\n",
       "  padding: 0;\n",
       "  position: absolute;\n",
       "  width: 1px;\n",
       "}\n",
       "\n",
       "#sk-container-id-3 div.sk-dashed-wrapped {\n",
       "  border: 1px dashed var(--sklearn-color-line);\n",
       "  margin: 0 0.4em 0.5em 0.4em;\n",
       "  box-sizing: border-box;\n",
       "  padding-bottom: 0.4em;\n",
       "  background-color: var(--sklearn-color-background);\n",
       "}\n",
       "\n",
       "#sk-container-id-3 div.sk-container {\n",
       "  /* jupyter's `normalize.less` sets `[hidden] { display: none; }`\n",
       "     but bootstrap.min.css set `[hidden] { display: none !important; }`\n",
       "     so we also need the `!important` here to be able to override the\n",
       "     default hidden behavior on the sphinx rendered scikit-learn.org.\n",
       "     See: https://github.com/scikit-learn/scikit-learn/issues/21755 */\n",
       "  display: inline-block !important;\n",
       "  position: relative;\n",
       "}\n",
       "\n",
       "#sk-container-id-3 div.sk-text-repr-fallback {\n",
       "  display: none;\n",
       "}\n",
       "\n",
       "div.sk-parallel-item,\n",
       "div.sk-serial,\n",
       "div.sk-item {\n",
       "  /* draw centered vertical line to link estimators */\n",
       "  background-image: linear-gradient(var(--sklearn-color-text-on-default-background), var(--sklearn-color-text-on-default-background));\n",
       "  background-size: 2px 100%;\n",
       "  background-repeat: no-repeat;\n",
       "  background-position: center center;\n",
       "}\n",
       "\n",
       "/* Parallel-specific style estimator block */\n",
       "\n",
       "#sk-container-id-3 div.sk-parallel-item::after {\n",
       "  content: \"\";\n",
       "  width: 100%;\n",
       "  border-bottom: 2px solid var(--sklearn-color-text-on-default-background);\n",
       "  flex-grow: 1;\n",
       "}\n",
       "\n",
       "#sk-container-id-3 div.sk-parallel {\n",
       "  display: flex;\n",
       "  align-items: stretch;\n",
       "  justify-content: center;\n",
       "  background-color: var(--sklearn-color-background);\n",
       "  position: relative;\n",
       "}\n",
       "\n",
       "#sk-container-id-3 div.sk-parallel-item {\n",
       "  display: flex;\n",
       "  flex-direction: column;\n",
       "}\n",
       "\n",
       "#sk-container-id-3 div.sk-parallel-item:first-child::after {\n",
       "  align-self: flex-end;\n",
       "  width: 50%;\n",
       "}\n",
       "\n",
       "#sk-container-id-3 div.sk-parallel-item:last-child::after {\n",
       "  align-self: flex-start;\n",
       "  width: 50%;\n",
       "}\n",
       "\n",
       "#sk-container-id-3 div.sk-parallel-item:only-child::after {\n",
       "  width: 0;\n",
       "}\n",
       "\n",
       "/* Serial-specific style estimator block */\n",
       "\n",
       "#sk-container-id-3 div.sk-serial {\n",
       "  display: flex;\n",
       "  flex-direction: column;\n",
       "  align-items: center;\n",
       "  background-color: var(--sklearn-color-background);\n",
       "  padding-right: 1em;\n",
       "  padding-left: 1em;\n",
       "}\n",
       "\n",
       "\n",
       "/* Toggleable style: style used for estimator/Pipeline/ColumnTransformer box that is\n",
       "clickable and can be expanded/collapsed.\n",
       "- Pipeline and ColumnTransformer use this feature and define the default style\n",
       "- Estimators will overwrite some part of the style using the `sk-estimator` class\n",
       "*/\n",
       "\n",
       "/* Pipeline and ColumnTransformer style (default) */\n",
       "\n",
       "#sk-container-id-3 div.sk-toggleable {\n",
       "  /* Default theme specific background. It is overwritten whether we have a\n",
       "  specific estimator or a Pipeline/ColumnTransformer */\n",
       "  background-color: var(--sklearn-color-background);\n",
       "}\n",
       "\n",
       "/* Toggleable label */\n",
       "#sk-container-id-3 label.sk-toggleable__label {\n",
       "  cursor: pointer;\n",
       "  display: flex;\n",
       "  width: 100%;\n",
       "  margin-bottom: 0;\n",
       "  padding: 0.5em;\n",
       "  box-sizing: border-box;\n",
       "  text-align: center;\n",
       "  align-items: start;\n",
       "  justify-content: space-between;\n",
       "  gap: 0.5em;\n",
       "}\n",
       "\n",
       "#sk-container-id-3 label.sk-toggleable__label .caption {\n",
       "  font-size: 0.6rem;\n",
       "  font-weight: lighter;\n",
       "  color: var(--sklearn-color-text-muted);\n",
       "}\n",
       "\n",
       "#sk-container-id-3 label.sk-toggleable__label-arrow:before {\n",
       "  /* Arrow on the left of the label */\n",
       "  content: \"▸\";\n",
       "  float: left;\n",
       "  margin-right: 0.25em;\n",
       "  color: var(--sklearn-color-icon);\n",
       "}\n",
       "\n",
       "#sk-container-id-3 label.sk-toggleable__label-arrow:hover:before {\n",
       "  color: var(--sklearn-color-text);\n",
       "}\n",
       "\n",
       "/* Toggleable content - dropdown */\n",
       "\n",
       "#sk-container-id-3 div.sk-toggleable__content {\n",
       "  max-height: 0;\n",
       "  max-width: 0;\n",
       "  overflow: hidden;\n",
       "  text-align: left;\n",
       "  /* unfitted */\n",
       "  background-color: var(--sklearn-color-unfitted-level-0);\n",
       "}\n",
       "\n",
       "#sk-container-id-3 div.sk-toggleable__content.fitted {\n",
       "  /* fitted */\n",
       "  background-color: var(--sklearn-color-fitted-level-0);\n",
       "}\n",
       "\n",
       "#sk-container-id-3 div.sk-toggleable__content pre {\n",
       "  margin: 0.2em;\n",
       "  border-radius: 0.25em;\n",
       "  color: var(--sklearn-color-text);\n",
       "  /* unfitted */\n",
       "  background-color: var(--sklearn-color-unfitted-level-0);\n",
       "}\n",
       "\n",
       "#sk-container-id-3 div.sk-toggleable__content.fitted pre {\n",
       "  /* unfitted */\n",
       "  background-color: var(--sklearn-color-fitted-level-0);\n",
       "}\n",
       "\n",
       "#sk-container-id-3 input.sk-toggleable__control:checked~div.sk-toggleable__content {\n",
       "  /* Expand drop-down */\n",
       "  max-height: 200px;\n",
       "  max-width: 100%;\n",
       "  overflow: auto;\n",
       "}\n",
       "\n",
       "#sk-container-id-3 input.sk-toggleable__control:checked~label.sk-toggleable__label-arrow:before {\n",
       "  content: \"▾\";\n",
       "}\n",
       "\n",
       "/* Pipeline/ColumnTransformer-specific style */\n",
       "\n",
       "#sk-container-id-3 div.sk-label input.sk-toggleable__control:checked~label.sk-toggleable__label {\n",
       "  color: var(--sklearn-color-text);\n",
       "  background-color: var(--sklearn-color-unfitted-level-2);\n",
       "}\n",
       "\n",
       "#sk-container-id-3 div.sk-label.fitted input.sk-toggleable__control:checked~label.sk-toggleable__label {\n",
       "  background-color: var(--sklearn-color-fitted-level-2);\n",
       "}\n",
       "\n",
       "/* Estimator-specific style */\n",
       "\n",
       "/* Colorize estimator box */\n",
       "#sk-container-id-3 div.sk-estimator input.sk-toggleable__control:checked~label.sk-toggleable__label {\n",
       "  /* unfitted */\n",
       "  background-color: var(--sklearn-color-unfitted-level-2);\n",
       "}\n",
       "\n",
       "#sk-container-id-3 div.sk-estimator.fitted input.sk-toggleable__control:checked~label.sk-toggleable__label {\n",
       "  /* fitted */\n",
       "  background-color: var(--sklearn-color-fitted-level-2);\n",
       "}\n",
       "\n",
       "#sk-container-id-3 div.sk-label label.sk-toggleable__label,\n",
       "#sk-container-id-3 div.sk-label label {\n",
       "  /* The background is the default theme color */\n",
       "  color: var(--sklearn-color-text-on-default-background);\n",
       "}\n",
       "\n",
       "/* On hover, darken the color of the background */\n",
       "#sk-container-id-3 div.sk-label:hover label.sk-toggleable__label {\n",
       "  color: var(--sklearn-color-text);\n",
       "  background-color: var(--sklearn-color-unfitted-level-2);\n",
       "}\n",
       "\n",
       "/* Label box, darken color on hover, fitted */\n",
       "#sk-container-id-3 div.sk-label.fitted:hover label.sk-toggleable__label.fitted {\n",
       "  color: var(--sklearn-color-text);\n",
       "  background-color: var(--sklearn-color-fitted-level-2);\n",
       "}\n",
       "\n",
       "/* Estimator label */\n",
       "\n",
       "#sk-container-id-3 div.sk-label label {\n",
       "  font-family: monospace;\n",
       "  font-weight: bold;\n",
       "  display: inline-block;\n",
       "  line-height: 1.2em;\n",
       "}\n",
       "\n",
       "#sk-container-id-3 div.sk-label-container {\n",
       "  text-align: center;\n",
       "}\n",
       "\n",
       "/* Estimator-specific */\n",
       "#sk-container-id-3 div.sk-estimator {\n",
       "  font-family: monospace;\n",
       "  border: 1px dotted var(--sklearn-color-border-box);\n",
       "  border-radius: 0.25em;\n",
       "  box-sizing: border-box;\n",
       "  margin-bottom: 0.5em;\n",
       "  /* unfitted */\n",
       "  background-color: var(--sklearn-color-unfitted-level-0);\n",
       "}\n",
       "\n",
       "#sk-container-id-3 div.sk-estimator.fitted {\n",
       "  /* fitted */\n",
       "  background-color: var(--sklearn-color-fitted-level-0);\n",
       "}\n",
       "\n",
       "/* on hover */\n",
       "#sk-container-id-3 div.sk-estimator:hover {\n",
       "  /* unfitted */\n",
       "  background-color: var(--sklearn-color-unfitted-level-2);\n",
       "}\n",
       "\n",
       "#sk-container-id-3 div.sk-estimator.fitted:hover {\n",
       "  /* fitted */\n",
       "  background-color: var(--sklearn-color-fitted-level-2);\n",
       "}\n",
       "\n",
       "/* Specification for estimator info (e.g. \"i\" and \"?\") */\n",
       "\n",
       "/* Common style for \"i\" and \"?\" */\n",
       "\n",
       ".sk-estimator-doc-link,\n",
       "a:link.sk-estimator-doc-link,\n",
       "a:visited.sk-estimator-doc-link {\n",
       "  float: right;\n",
       "  font-size: smaller;\n",
       "  line-height: 1em;\n",
       "  font-family: monospace;\n",
       "  background-color: var(--sklearn-color-background);\n",
       "  border-radius: 1em;\n",
       "  height: 1em;\n",
       "  width: 1em;\n",
       "  text-decoration: none !important;\n",
       "  margin-left: 0.5em;\n",
       "  text-align: center;\n",
       "  /* unfitted */\n",
       "  border: var(--sklearn-color-unfitted-level-1) 1pt solid;\n",
       "  color: var(--sklearn-color-unfitted-level-1);\n",
       "}\n",
       "\n",
       ".sk-estimator-doc-link.fitted,\n",
       "a:link.sk-estimator-doc-link.fitted,\n",
       "a:visited.sk-estimator-doc-link.fitted {\n",
       "  /* fitted */\n",
       "  border: var(--sklearn-color-fitted-level-1) 1pt solid;\n",
       "  color: var(--sklearn-color-fitted-level-1);\n",
       "}\n",
       "\n",
       "/* On hover */\n",
       "div.sk-estimator:hover .sk-estimator-doc-link:hover,\n",
       ".sk-estimator-doc-link:hover,\n",
       "div.sk-label-container:hover .sk-estimator-doc-link:hover,\n",
       ".sk-estimator-doc-link:hover {\n",
       "  /* unfitted */\n",
       "  background-color: var(--sklearn-color-unfitted-level-3);\n",
       "  color: var(--sklearn-color-background);\n",
       "  text-decoration: none;\n",
       "}\n",
       "\n",
       "div.sk-estimator.fitted:hover .sk-estimator-doc-link.fitted:hover,\n",
       ".sk-estimator-doc-link.fitted:hover,\n",
       "div.sk-label-container:hover .sk-estimator-doc-link.fitted:hover,\n",
       ".sk-estimator-doc-link.fitted:hover {\n",
       "  /* fitted */\n",
       "  background-color: var(--sklearn-color-fitted-level-3);\n",
       "  color: var(--sklearn-color-background);\n",
       "  text-decoration: none;\n",
       "}\n",
       "\n",
       "/* Span, style for the box shown on hovering the info icon */\n",
       ".sk-estimator-doc-link span {\n",
       "  display: none;\n",
       "  z-index: 9999;\n",
       "  position: relative;\n",
       "  font-weight: normal;\n",
       "  right: .2ex;\n",
       "  padding: .5ex;\n",
       "  margin: .5ex;\n",
       "  width: min-content;\n",
       "  min-width: 20ex;\n",
       "  max-width: 50ex;\n",
       "  color: var(--sklearn-color-text);\n",
       "  box-shadow: 2pt 2pt 4pt #999;\n",
       "  /* unfitted */\n",
       "  background: var(--sklearn-color-unfitted-level-0);\n",
       "  border: .5pt solid var(--sklearn-color-unfitted-level-3);\n",
       "}\n",
       "\n",
       ".sk-estimator-doc-link.fitted span {\n",
       "  /* fitted */\n",
       "  background: var(--sklearn-color-fitted-level-0);\n",
       "  border: var(--sklearn-color-fitted-level-3);\n",
       "}\n",
       "\n",
       ".sk-estimator-doc-link:hover span {\n",
       "  display: block;\n",
       "}\n",
       "\n",
       "/* \"?\"-specific style due to the `<a>` HTML tag */\n",
       "\n",
       "#sk-container-id-3 a.estimator_doc_link {\n",
       "  float: right;\n",
       "  font-size: 1rem;\n",
       "  line-height: 1em;\n",
       "  font-family: monospace;\n",
       "  background-color: var(--sklearn-color-background);\n",
       "  border-radius: 1rem;\n",
       "  height: 1rem;\n",
       "  width: 1rem;\n",
       "  text-decoration: none;\n",
       "  /* unfitted */\n",
       "  color: var(--sklearn-color-unfitted-level-1);\n",
       "  border: var(--sklearn-color-unfitted-level-1) 1pt solid;\n",
       "}\n",
       "\n",
       "#sk-container-id-3 a.estimator_doc_link.fitted {\n",
       "  /* fitted */\n",
       "  border: var(--sklearn-color-fitted-level-1) 1pt solid;\n",
       "  color: var(--sklearn-color-fitted-level-1);\n",
       "}\n",
       "\n",
       "/* On hover */\n",
       "#sk-container-id-3 a.estimator_doc_link:hover {\n",
       "  /* unfitted */\n",
       "  background-color: var(--sklearn-color-unfitted-level-3);\n",
       "  color: var(--sklearn-color-background);\n",
       "  text-decoration: none;\n",
       "}\n",
       "\n",
       "#sk-container-id-3 a.estimator_doc_link.fitted:hover {\n",
       "  /* fitted */\n",
       "  background-color: var(--sklearn-color-fitted-level-3);\n",
       "}\n",
       "</style><div id=\"sk-container-id-3\" class=\"sk-top-container\"><div class=\"sk-text-repr-fallback\"><pre>StandardScaler()</pre><b>In a Jupyter environment, please rerun this cell to show the HTML representation or trust the notebook. <br />On GitHub, the HTML representation is unable to render, please try loading this page with nbviewer.org.</b></div><div class=\"sk-container\" hidden><div class=\"sk-item\"><div class=\"sk-estimator fitted sk-toggleable\"><input class=\"sk-toggleable__control sk-hidden--visually\" id=\"sk-estimator-id-3\" type=\"checkbox\" checked><label for=\"sk-estimator-id-3\" class=\"sk-toggleable__label fitted sk-toggleable__label-arrow\"><div><div>StandardScaler</div></div><div><a class=\"sk-estimator-doc-link fitted\" rel=\"noreferrer\" target=\"_blank\" href=\"https://scikit-learn.org/1.6/modules/generated/sklearn.preprocessing.StandardScaler.html\">?<span>Documentation for StandardScaler</span></a><span class=\"sk-estimator-doc-link fitted\">i<span>Fitted</span></span></div></label><div class=\"sk-toggleable__content fitted\"><pre>StandardScaler()</pre></div> </div></div></div></div>"
      ],
      "text/plain": [
       "StandardScaler()"
      ]
     },
     "execution_count": 113,
     "metadata": {},
     "output_type": "execute_result"
    }
   ],
   "source": [
    "ss = StandardScaler()\n",
    "ss.fit(df[[\"ApplicantIncome\"]])"
   ]
  },
  {
   "cell_type": "markdown",
   "id": "b2c4ec93",
   "metadata": {},
   "source": [
    "- data nature reamain same in feature  scalling "
   ]
  },
  {
   "cell_type": "markdown",
   "id": "1e04b410",
   "metadata": {},
   "source": [
    "# `Handle_Duplication_Data`"
   ]
  },
  {
   "cell_type": "code",
   "execution_count": 117,
   "id": "13373ef0",
   "metadata": {},
   "outputs": [
    {
     "data": {
      "application/vnd.microsoft.datawrangler.viewer.v0+json": {
       "columns": [
        {
         "name": "index",
         "rawType": "int64",
         "type": "integer"
        },
        {
         "name": "Loan_ID",
         "rawType": "object",
         "type": "string"
        },
        {
         "name": "Gender",
         "rawType": "object",
         "type": "string"
        },
        {
         "name": "Married",
         "rawType": "object",
         "type": "string"
        },
        {
         "name": "Dependents",
         "rawType": "object",
         "type": "string"
        },
        {
         "name": "Education",
         "rawType": "object",
         "type": "string"
        },
        {
         "name": "Self_Employed",
         "rawType": "object",
         "type": "string"
        },
        {
         "name": "ApplicantIncome",
         "rawType": "int64",
         "type": "integer"
        },
        {
         "name": "CoapplicantIncome",
         "rawType": "float64",
         "type": "float"
        },
        {
         "name": "LoanAmount",
         "rawType": "float64",
         "type": "float"
        },
        {
         "name": "Loan_Amount_Term",
         "rawType": "float64",
         "type": "float"
        },
        {
         "name": "Credit_History",
         "rawType": "float64",
         "type": "float"
        },
        {
         "name": "Property_Area",
         "rawType": "object",
         "type": "string"
        },
        {
         "name": "Loan_Status",
         "rawType": "object",
         "type": "string"
        },
        {
         "name": "z_score",
         "rawType": "float64",
         "type": "float"
        }
       ],
       "ref": "3c1a7183-1713-49fa-b32b-689ec0323b71",
       "rows": [
        [
         "0",
         "LP001002",
         "Male",
         "No",
         "0",
         "Graduate",
         "No",
         "5849",
         "0.0",
         "146.41216216216216",
         "360.0",
         "1.0",
         "Urban",
         "Y",
         "-0.5540356092387769"
        ],
        [
         "1",
         "LP001003",
         "Male",
         "Yes",
         "1",
         "Graduate",
         "No",
         "4583",
         "1508.0",
         "128.0",
         "360.0",
         "1.0",
         "Rural",
         "N",
         "-0.03869999526291909"
        ],
        [
         "2",
         "LP001005",
         "Male",
         "Yes",
         "0",
         "Graduate",
         "Yes",
         "3000",
         "0.0",
         "66.0",
         "360.0",
         "1.0",
         "Urban",
         "Y",
         "-0.5540356092387769"
        ],
        [
         "3",
         "LP001006",
         "Male",
         "Yes",
         "0",
         "Not Graduate",
         "No",
         "2583",
         "2358.0",
         "120.0",
         "360.0",
         "1.0",
         "Urban",
         "Y",
         "0.2517743229595472"
        ],
        [
         "4",
         "LP001008",
         "Male",
         "No",
         "0",
         "Graduate",
         "No",
         "6000",
         "0.0",
         "141.0",
         "360.0",
         "1.0",
         "Urban",
         "Y",
         "-0.5540356092387769"
        ],
        [
         "5",
         "LP001011",
         "Male",
         "Yes",
         "2",
         "Graduate",
         "Yes",
         "5417",
         "4196.0",
         "267.0",
         "360.0",
         "1.0",
         "Urban",
         "Y",
         "0.8798823193041272"
        ],
        [
         "6",
         "LP001013",
         "Male",
         "Yes",
         "0",
         "Not Graduate",
         "No",
         "2333",
         "1516.0",
         "95.0",
         "360.0",
         "1.0",
         "Urban",
         "Y",
         "-0.035966119326707645"
        ],
        [
         "7",
         "LP001014",
         "Male",
         "Yes",
         "3+",
         "Graduate",
         "No",
         "3036",
         "2504.0",
         "158.0",
         "360.0",
         "0.0",
         "Semiurban",
         "N",
         "0.30166755879540613"
        ],
        [
         "8",
         "LP001018",
         "Male",
         "Yes",
         "2",
         "Graduate",
         "No",
         "4006",
         "1526.0",
         "168.0",
         "360.0",
         "1.0",
         "Urban",
         "Y",
         "-0.03254877440644333"
        ],
        [
         "9",
         "LP001020",
         "Male",
         "Yes",
         "1",
         "Graduate",
         "No",
         "12841",
         "10968.0",
         "349.0",
         "360.0",
         "1.0",
         "Semiurban",
         "N",
         "3.1941082993071177"
        ],
        [
         "10",
         "LP001024",
         "Male",
         "Yes",
         "2",
         "Graduate",
         "No",
         "3200",
         "700.0",
         "70.0",
         "360.0",
         "1.0",
         "Urban",
         "Y",
         "-0.3148214648202753"
        ],
        [
         "11",
         "LP001027",
         "Male",
         "Yes",
         "2",
         "Graduate",
         "No",
         "2500",
         "1840.0",
         "109.0",
         "360.0",
         "1.0",
         "Urban",
         "Y",
         "0.07475585608985598"
        ],
        [
         "12",
         "LP001028",
         "Male",
         "Yes",
         "2",
         "Graduate",
         "No",
         "3073",
         "8106.0",
         "200.0",
         "360.0",
         "1.0",
         "Urban",
         "Y",
         "2.216064183127472"
        ],
        [
         "13",
         "LP001029",
         "Male",
         "No",
         "0",
         "Graduate",
         "No",
         "1853",
         "2840.0",
         "114.0",
         "360.0",
         "1.0",
         "Rural",
         "N",
         "0.41649034811628693"
        ],
        [
         "14",
         "LP001030",
         "Male",
         "Yes",
         "2",
         "Graduate",
         "No",
         "1299",
         "1086.0",
         "17.0",
         "120.0",
         "1.0",
         "Urban",
         "Y",
         "-0.18291195089807294"
        ],
        [
         "15",
         "LP001032",
         "Male",
         "No",
         "0",
         "Graduate",
         "No",
         "4950",
         "0.0",
         "125.0",
         "360.0",
         "1.0",
         "Urban",
         "Y",
         "-0.5540356092387769"
        ],
        [
         "16",
         "LP001034",
         "Male",
         "No",
         "1",
         "Not Graduate",
         "No",
         "3596",
         "0.0",
         "100.0",
         "240.0",
         "0.8421985815602837",
         "Urban",
         "Y",
         "-0.5540356092387769"
        ],
        [
         "17",
         "LP001036",
         "Female",
         "No",
         "0",
         "Graduate",
         "No",
         "3510",
         "0.0",
         "76.0",
         "360.0",
         "0.0",
         "Urban",
         "N",
         "-0.5540356092387769"
        ],
        [
         "18",
         "LP001038",
         "Male",
         "Yes",
         "0",
         "Not Graduate",
         "No",
         "4887",
         "0.0",
         "133.0",
         "360.0",
         "1.0",
         "Rural",
         "N",
         "-0.5540356092387769"
        ],
        [
         "19",
         "LP001041",
         "Male",
         "Yes",
         "0",
         "Graduate",
         "No",
         "2600",
         "3500.0",
         "115.0",
         "342.0",
         "1.0",
         "Urban",
         "Y",
         "0.6420351128537314"
        ],
        [
         "20",
         "LP001043",
         "Male",
         "Yes",
         "0",
         "Not Graduate",
         "No",
         "7660",
         "0.0",
         "104.0",
         "360.0",
         "0.0",
         "Urban",
         "N",
         "-0.5540356092387769"
        ],
        [
         "21",
         "LP001046",
         "Male",
         "Yes",
         "1",
         "Graduate",
         "No",
         "5955",
         "5625.0",
         "315.0",
         "360.0",
         "1.0",
         "Urban",
         "Y",
         "1.368220908409897"
        ],
        [
         "22",
         "LP001047",
         "Male",
         "Yes",
         "0",
         "Not Graduate",
         "No",
         "2600",
         "1911.0",
         "116.0",
         "360.0",
         "0.0",
         "Semiurban",
         "N",
         "0.09901900502373258"
        ],
        [
         "23",
         "LP001050",
         "Male",
         "Yes",
         "2",
         "Not Graduate",
         "No",
         "3365",
         "1917.0",
         "112.0",
         "360.0",
         "0.0",
         "Rural",
         "N",
         "0.10106941197589116"
        ],
        [
         "24",
         "LP001052",
         "Male",
         "Yes",
         "1",
         "Graduate",
         "No",
         "3717",
         "2925.0",
         "151.0",
         "360.0",
         "0.8421985815602837",
         "Semiurban",
         "N",
         "0.44553777993853355"
        ],
        [
         "25",
         "LP001066",
         "Male",
         "Yes",
         "0",
         "Graduate",
         "Yes",
         "9560",
         "0.0",
         "191.0",
         "360.0",
         "1.0",
         "Semiurban",
         "Y",
         "-0.5540356092387769"
        ],
        [
         "26",
         "LP001068",
         "Male",
         "Yes",
         "0",
         "Graduate",
         "No",
         "2799",
         "2253.0",
         "122.0",
         "360.0",
         "1.0",
         "Semiurban",
         "Y",
         "0.21589220129677195"
        ],
        [
         "27",
         "LP001073",
         "Male",
         "Yes",
         "2",
         "Not Graduate",
         "No",
         "4226",
         "1040.0",
         "110.0",
         "360.0",
         "1.0",
         "Urban",
         "Y",
         "-0.19863173753128877"
        ],
        [
         "28",
         "LP001086",
         "Male",
         "No",
         "0",
         "Not Graduate",
         "No",
         "1442",
         "0.0",
         "35.0",
         "360.0",
         "1.0",
         "Urban",
         "N",
         "-0.5540356092387769"
        ],
        [
         "29",
         "LP001087",
         "Female",
         "No",
         "2",
         "Graduate",
         "No",
         "3750",
         "2083.0",
         "120.0",
         "360.0",
         "1.0",
         "Semiurban",
         "Y",
         "0.15779733765227869"
        ],
        [
         "30",
         "LP001091",
         "Male",
         "Yes",
         "1",
         "Graduate",
         "No",
         "4166",
         "3369.0",
         "201.0",
         "360.0",
         "0.8421985815602837",
         "Urban",
         "N",
         "0.5972678943982689"
        ],
        [
         "31",
         "LP001095",
         "Male",
         "No",
         "0",
         "Graduate",
         "No",
         "3167",
         "0.0",
         "74.0",
         "360.0",
         "1.0",
         "Urban",
         "N",
         "-0.5540356092387769"
        ],
        [
         "32",
         "LP001097",
         "Male",
         "No",
         "1",
         "Graduate",
         "Yes",
         "4692",
         "0.0",
         "106.0",
         "360.0",
         "1.0",
         "Rural",
         "N",
         "-0.5540356092387769"
        ],
        [
         "33",
         "LP001098",
         "Male",
         "Yes",
         "0",
         "Graduate",
         "No",
         "3500",
         "1667.0",
         "114.0",
         "360.0",
         "1.0",
         "Semiurban",
         "Y",
         "0.015635788969283426"
        ],
        [
         "34",
         "LP001100",
         "Male",
         "No",
         "3+",
         "Graduate",
         "No",
         "12500",
         "3000.0",
         "320.0",
         "360.0",
         "1.0",
         "Rural",
         "N",
         "0.47116786684051587"
        ],
        [
         "35",
         "LP001106",
         "Male",
         "Yes",
         "0",
         "Graduate",
         "No",
         "2275",
         "2067.0",
         "146.41216216216216",
         "360.0",
         "1.0",
         "Urban",
         "Y",
         "0.1523295857798558"
        ],
        [
         "36",
         "LP001109",
         "Male",
         "Yes",
         "0",
         "Graduate",
         "No",
         "1828",
         "1330.0",
         "100.0",
         "342.0",
         "0.0",
         "Urban",
         "N",
         "-0.0995287348436238"
        ],
        [
         "37",
         "LP001112",
         "Female",
         "Yes",
         "0",
         "Graduate",
         "No",
         "3667",
         "1459.0",
         "144.0",
         "360.0",
         "1.0",
         "Semiurban",
         "Y",
         "-0.055444985372214206"
        ],
        [
         "38",
         "LP001114",
         "Male",
         "No",
         "0",
         "Graduate",
         "No",
         "4166",
         "7210.0",
         "184.0",
         "360.0",
         "1.0",
         "Urban",
         "Y",
         "1.9098700782717901"
        ],
        [
         "39",
         "LP001116",
         "Male",
         "No",
         "0",
         "Not Graduate",
         "No",
         "3748",
         "1668.0",
         "110.0",
         "360.0",
         "1.0",
         "Semiurban",
         "Y",
         "0.01597752346130986"
        ],
        [
         "40",
         "LP001119",
         "Male",
         "No",
         "0",
         "Graduate",
         "No",
         "3600",
         "0.0",
         "80.0",
         "360.0",
         "1.0",
         "Urban",
         "N",
         "-0.5540356092387769"
        ],
        [
         "41",
         "LP001120",
         "Male",
         "No",
         "0",
         "Graduate",
         "No",
         "1800",
         "1213.0",
         "47.0",
         "360.0",
         "1.0",
         "Urban",
         "Y",
         "-0.13951167041071622"
        ],
        [
         "42",
         "LP001123",
         "Male",
         "Yes",
         "0",
         "Graduate",
         "No",
         "2400",
         "0.0",
         "75.0",
         "360.0",
         "0.8421985815602837",
         "Urban",
         "Y",
         "-0.5540356092387769"
        ],
        [
         "43",
         "LP001131",
         "Male",
         "Yes",
         "0",
         "Graduate",
         "No",
         "3941",
         "2336.0",
         "134.0",
         "360.0",
         "1.0",
         "Semiurban",
         "Y",
         "0.24425616413496573"
        ],
        [
         "44",
         "LP001136",
         "Male",
         "Yes",
         "0",
         "Not Graduate",
         "Yes",
         "4695",
         "0.0",
         "96.0",
         "342.0",
         "1.0",
         "Urban",
         "Y",
         "-0.5540356092387769"
        ],
        [
         "45",
         "LP001137",
         "Female",
         "No",
         "0",
         "Graduate",
         "No",
         "3410",
         "0.0",
         "88.0",
         "342.0",
         "1.0",
         "Urban",
         "Y",
         "-0.5540356092387769"
        ],
        [
         "46",
         "LP001138",
         "Male",
         "Yes",
         "1",
         "Graduate",
         "No",
         "5649",
         "0.0",
         "44.0",
         "360.0",
         "1.0",
         "Urban",
         "Y",
         "-0.5540356092387769"
        ],
        [
         "47",
         "LP001144",
         "Male",
         "Yes",
         "0",
         "Graduate",
         "No",
         "5821",
         "0.0",
         "144.0",
         "360.0",
         "1.0",
         "Urban",
         "Y",
         "-0.5540356092387769"
        ],
        [
         "48",
         "LP001146",
         "Female",
         "Yes",
         "0",
         "Graduate",
         "No",
         "2645",
         "3440.0",
         "120.0",
         "360.0",
         "0.0",
         "Urban",
         "N",
         "0.6215310433321455"
        ],
        [
         "49",
         "LP001151",
         "Female",
         "No",
         "0",
         "Graduate",
         "No",
         "4000",
         "2275.0",
         "144.0",
         "360.0",
         "1.0",
         "Semiurban",
         "Y",
         "0.22341036012135343"
        ]
       ],
       "shape": {
        "columns": 14,
        "rows": 614
       }
      },
      "text/html": [
       "<div>\n",
       "<style scoped>\n",
       "    .dataframe tbody tr th:only-of-type {\n",
       "        vertical-align: middle;\n",
       "    }\n",
       "\n",
       "    .dataframe tbody tr th {\n",
       "        vertical-align: top;\n",
       "    }\n",
       "\n",
       "    .dataframe thead th {\n",
       "        text-align: right;\n",
       "    }\n",
       "</style>\n",
       "<table border=\"1\" class=\"dataframe\">\n",
       "  <thead>\n",
       "    <tr style=\"text-align: right;\">\n",
       "      <th></th>\n",
       "      <th>Loan_ID</th>\n",
       "      <th>Gender</th>\n",
       "      <th>Married</th>\n",
       "      <th>Dependents</th>\n",
       "      <th>Education</th>\n",
       "      <th>Self_Employed</th>\n",
       "      <th>ApplicantIncome</th>\n",
       "      <th>CoapplicantIncome</th>\n",
       "      <th>LoanAmount</th>\n",
       "      <th>Loan_Amount_Term</th>\n",
       "      <th>Credit_History</th>\n",
       "      <th>Property_Area</th>\n",
       "      <th>Loan_Status</th>\n",
       "      <th>z_score</th>\n",
       "    </tr>\n",
       "  </thead>\n",
       "  <tbody>\n",
       "    <tr>\n",
       "      <th>0</th>\n",
       "      <td>LP001002</td>\n",
       "      <td>Male</td>\n",
       "      <td>No</td>\n",
       "      <td>0</td>\n",
       "      <td>Graduate</td>\n",
       "      <td>No</td>\n",
       "      <td>5849</td>\n",
       "      <td>0.0</td>\n",
       "      <td>146.412162</td>\n",
       "      <td>360.0</td>\n",
       "      <td>1.0</td>\n",
       "      <td>Urban</td>\n",
       "      <td>Y</td>\n",
       "      <td>-0.554036</td>\n",
       "    </tr>\n",
       "    <tr>\n",
       "      <th>1</th>\n",
       "      <td>LP001003</td>\n",
       "      <td>Male</td>\n",
       "      <td>Yes</td>\n",
       "      <td>1</td>\n",
       "      <td>Graduate</td>\n",
       "      <td>No</td>\n",
       "      <td>4583</td>\n",
       "      <td>1508.0</td>\n",
       "      <td>128.000000</td>\n",
       "      <td>360.0</td>\n",
       "      <td>1.0</td>\n",
       "      <td>Rural</td>\n",
       "      <td>N</td>\n",
       "      <td>-0.038700</td>\n",
       "    </tr>\n",
       "    <tr>\n",
       "      <th>2</th>\n",
       "      <td>LP001005</td>\n",
       "      <td>Male</td>\n",
       "      <td>Yes</td>\n",
       "      <td>0</td>\n",
       "      <td>Graduate</td>\n",
       "      <td>Yes</td>\n",
       "      <td>3000</td>\n",
       "      <td>0.0</td>\n",
       "      <td>66.000000</td>\n",
       "      <td>360.0</td>\n",
       "      <td>1.0</td>\n",
       "      <td>Urban</td>\n",
       "      <td>Y</td>\n",
       "      <td>-0.554036</td>\n",
       "    </tr>\n",
       "    <tr>\n",
       "      <th>3</th>\n",
       "      <td>LP001006</td>\n",
       "      <td>Male</td>\n",
       "      <td>Yes</td>\n",
       "      <td>0</td>\n",
       "      <td>Not Graduate</td>\n",
       "      <td>No</td>\n",
       "      <td>2583</td>\n",
       "      <td>2358.0</td>\n",
       "      <td>120.000000</td>\n",
       "      <td>360.0</td>\n",
       "      <td>1.0</td>\n",
       "      <td>Urban</td>\n",
       "      <td>Y</td>\n",
       "      <td>0.251774</td>\n",
       "    </tr>\n",
       "    <tr>\n",
       "      <th>4</th>\n",
       "      <td>LP001008</td>\n",
       "      <td>Male</td>\n",
       "      <td>No</td>\n",
       "      <td>0</td>\n",
       "      <td>Graduate</td>\n",
       "      <td>No</td>\n",
       "      <td>6000</td>\n",
       "      <td>0.0</td>\n",
       "      <td>141.000000</td>\n",
       "      <td>360.0</td>\n",
       "      <td>1.0</td>\n",
       "      <td>Urban</td>\n",
       "      <td>Y</td>\n",
       "      <td>-0.554036</td>\n",
       "    </tr>\n",
       "    <tr>\n",
       "      <th>...</th>\n",
       "      <td>...</td>\n",
       "      <td>...</td>\n",
       "      <td>...</td>\n",
       "      <td>...</td>\n",
       "      <td>...</td>\n",
       "      <td>...</td>\n",
       "      <td>...</td>\n",
       "      <td>...</td>\n",
       "      <td>...</td>\n",
       "      <td>...</td>\n",
       "      <td>...</td>\n",
       "      <td>...</td>\n",
       "      <td>...</td>\n",
       "      <td>...</td>\n",
       "    </tr>\n",
       "    <tr>\n",
       "      <th>609</th>\n",
       "      <td>LP002978</td>\n",
       "      <td>Female</td>\n",
       "      <td>No</td>\n",
       "      <td>0</td>\n",
       "      <td>Graduate</td>\n",
       "      <td>No</td>\n",
       "      <td>2900</td>\n",
       "      <td>0.0</td>\n",
       "      <td>71.000000</td>\n",
       "      <td>360.0</td>\n",
       "      <td>1.0</td>\n",
       "      <td>Rural</td>\n",
       "      <td>Y</td>\n",
       "      <td>-0.554036</td>\n",
       "    </tr>\n",
       "    <tr>\n",
       "      <th>610</th>\n",
       "      <td>LP002979</td>\n",
       "      <td>Male</td>\n",
       "      <td>Yes</td>\n",
       "      <td>3+</td>\n",
       "      <td>Graduate</td>\n",
       "      <td>No</td>\n",
       "      <td>4106</td>\n",
       "      <td>0.0</td>\n",
       "      <td>40.000000</td>\n",
       "      <td>180.0</td>\n",
       "      <td>1.0</td>\n",
       "      <td>Rural</td>\n",
       "      <td>Y</td>\n",
       "      <td>-0.554036</td>\n",
       "    </tr>\n",
       "    <tr>\n",
       "      <th>611</th>\n",
       "      <td>LP002983</td>\n",
       "      <td>Male</td>\n",
       "      <td>Yes</td>\n",
       "      <td>1</td>\n",
       "      <td>Graduate</td>\n",
       "      <td>No</td>\n",
       "      <td>8072</td>\n",
       "      <td>240.0</td>\n",
       "      <td>253.000000</td>\n",
       "      <td>360.0</td>\n",
       "      <td>1.0</td>\n",
       "      <td>Urban</td>\n",
       "      <td>Y</td>\n",
       "      <td>-0.472019</td>\n",
       "    </tr>\n",
       "    <tr>\n",
       "      <th>612</th>\n",
       "      <td>LP002984</td>\n",
       "      <td>Male</td>\n",
       "      <td>Yes</td>\n",
       "      <td>2</td>\n",
       "      <td>Graduate</td>\n",
       "      <td>No</td>\n",
       "      <td>7583</td>\n",
       "      <td>0.0</td>\n",
       "      <td>187.000000</td>\n",
       "      <td>360.0</td>\n",
       "      <td>1.0</td>\n",
       "      <td>Urban</td>\n",
       "      <td>Y</td>\n",
       "      <td>-0.554036</td>\n",
       "    </tr>\n",
       "    <tr>\n",
       "      <th>613</th>\n",
       "      <td>LP002990</td>\n",
       "      <td>Female</td>\n",
       "      <td>No</td>\n",
       "      <td>0</td>\n",
       "      <td>Graduate</td>\n",
       "      <td>Yes</td>\n",
       "      <td>4583</td>\n",
       "      <td>0.0</td>\n",
       "      <td>133.000000</td>\n",
       "      <td>360.0</td>\n",
       "      <td>0.0</td>\n",
       "      <td>Semiurban</td>\n",
       "      <td>N</td>\n",
       "      <td>-0.554036</td>\n",
       "    </tr>\n",
       "  </tbody>\n",
       "</table>\n",
       "<p>614 rows × 14 columns</p>\n",
       "</div>"
      ],
      "text/plain": [
       "      Loan_ID  Gender Married Dependents     Education Self_Employed  \\\n",
       "0    LP001002    Male      No          0      Graduate            No   \n",
       "1    LP001003    Male     Yes          1      Graduate            No   \n",
       "2    LP001005    Male     Yes          0      Graduate           Yes   \n",
       "3    LP001006    Male     Yes          0  Not Graduate            No   \n",
       "4    LP001008    Male      No          0      Graduate            No   \n",
       "..        ...     ...     ...        ...           ...           ...   \n",
       "609  LP002978  Female      No          0      Graduate            No   \n",
       "610  LP002979    Male     Yes         3+      Graduate            No   \n",
       "611  LP002983    Male     Yes          1      Graduate            No   \n",
       "612  LP002984    Male     Yes          2      Graduate            No   \n",
       "613  LP002990  Female      No          0      Graduate           Yes   \n",
       "\n",
       "     ApplicantIncome  CoapplicantIncome  LoanAmount  Loan_Amount_Term  \\\n",
       "0               5849                0.0  146.412162             360.0   \n",
       "1               4583             1508.0  128.000000             360.0   \n",
       "2               3000                0.0   66.000000             360.0   \n",
       "3               2583             2358.0  120.000000             360.0   \n",
       "4               6000                0.0  141.000000             360.0   \n",
       "..               ...                ...         ...               ...   \n",
       "609             2900                0.0   71.000000             360.0   \n",
       "610             4106                0.0   40.000000             180.0   \n",
       "611             8072              240.0  253.000000             360.0   \n",
       "612             7583                0.0  187.000000             360.0   \n",
       "613             4583                0.0  133.000000             360.0   \n",
       "\n",
       "     Credit_History Property_Area Loan_Status   z_score  \n",
       "0               1.0         Urban           Y -0.554036  \n",
       "1               1.0         Rural           N -0.038700  \n",
       "2               1.0         Urban           Y -0.554036  \n",
       "3               1.0         Urban           Y  0.251774  \n",
       "4               1.0         Urban           Y -0.554036  \n",
       "..              ...           ...         ...       ...  \n",
       "609             1.0         Rural           Y -0.554036  \n",
       "610             1.0         Rural           Y -0.554036  \n",
       "611             1.0         Urban           Y -0.472019  \n",
       "612             1.0         Urban           Y -0.554036  \n",
       "613             0.0     Semiurban           N -0.554036  \n",
       "\n",
       "[614 rows x 14 columns]"
      ]
     },
     "execution_count": 117,
     "metadata": {},
     "output_type": "execute_result"
    }
   ],
   "source": [
    "df"
   ]
  },
  {
   "cell_type": "code",
   "execution_count": 118,
   "id": "6557a909",
   "metadata": {},
   "outputs": [
    {
     "data": {
      "application/vnd.microsoft.datawrangler.viewer.v0+json": {
       "columns": [
        {
         "name": "index",
         "rawType": "int64",
         "type": "integer"
        },
        {
         "name": "0",
         "rawType": "bool",
         "type": "boolean"
        }
       ],
       "ref": "1bb9b280-a963-4eff-98ea-43c8f6b6fe8c",
       "rows": [
        [
         "0",
         "False"
        ],
        [
         "1",
         "False"
        ],
        [
         "2",
         "False"
        ],
        [
         "3",
         "False"
        ],
        [
         "4",
         "False"
        ],
        [
         "5",
         "False"
        ],
        [
         "6",
         "False"
        ],
        [
         "7",
         "False"
        ],
        [
         "8",
         "False"
        ],
        [
         "9",
         "False"
        ],
        [
         "10",
         "False"
        ],
        [
         "11",
         "False"
        ],
        [
         "12",
         "False"
        ],
        [
         "13",
         "False"
        ],
        [
         "14",
         "False"
        ],
        [
         "15",
         "False"
        ],
        [
         "16",
         "False"
        ],
        [
         "17",
         "False"
        ],
        [
         "18",
         "False"
        ],
        [
         "19",
         "False"
        ],
        [
         "20",
         "False"
        ],
        [
         "21",
         "False"
        ],
        [
         "22",
         "False"
        ],
        [
         "23",
         "False"
        ],
        [
         "24",
         "False"
        ],
        [
         "25",
         "False"
        ],
        [
         "26",
         "False"
        ],
        [
         "27",
         "False"
        ],
        [
         "28",
         "False"
        ],
        [
         "29",
         "False"
        ],
        [
         "30",
         "False"
        ],
        [
         "31",
         "False"
        ],
        [
         "32",
         "False"
        ],
        [
         "33",
         "False"
        ],
        [
         "34",
         "False"
        ],
        [
         "35",
         "False"
        ],
        [
         "36",
         "False"
        ],
        [
         "37",
         "False"
        ],
        [
         "38",
         "False"
        ],
        [
         "39",
         "False"
        ],
        [
         "40",
         "False"
        ],
        [
         "41",
         "False"
        ],
        [
         "42",
         "False"
        ],
        [
         "43",
         "False"
        ],
        [
         "44",
         "False"
        ],
        [
         "45",
         "False"
        ],
        [
         "46",
         "False"
        ],
        [
         "47",
         "False"
        ],
        [
         "48",
         "False"
        ],
        [
         "49",
         "False"
        ]
       ],
       "shape": {
        "columns": 1,
        "rows": 614
       }
      },
      "text/plain": [
       "0      False\n",
       "1      False\n",
       "2      False\n",
       "3      False\n",
       "4      False\n",
       "       ...  \n",
       "609    False\n",
       "610    False\n",
       "611    False\n",
       "612    False\n",
       "613    False\n",
       "Length: 614, dtype: bool"
      ]
     },
     "execution_count": 118,
     "metadata": {},
     "output_type": "execute_result"
    }
   ],
   "source": [
    "df.duplicated()"
   ]
  },
  {
   "cell_type": "code",
   "execution_count": 119,
   "id": "7872eb8c",
   "metadata": {},
   "outputs": [],
   "source": [
    "df.drop_duplicates(inplace=True)"
   ]
  },
  {
   "cell_type": "code",
   "execution_count": 120,
   "id": "ab56adf1",
   "metadata": {},
   "outputs": [
    {
     "data": {
      "text/plain": [
       "(614, 14)"
      ]
     },
     "execution_count": 120,
     "metadata": {},
     "output_type": "execute_result"
    }
   ],
   "source": [
    "df.shape"
   ]
  },
  {
   "cell_type": "markdown",
   "id": "b311e2de",
   "metadata": {},
   "source": [
    "# `Exploratory Data Analysis `"
   ]
  },
  {
   "cell_type": "code",
   "execution_count": 124,
   "id": "58de948b",
   "metadata": {},
   "outputs": [
    {
     "name": "stderr",
     "output_type": "stream",
     "text": [
      "C:\\Users\\hp\\AppData\\Local\\Temp\\ipykernel_13168\\193395095.py:23: FutureWarning: \n",
      "\n",
      "Passing `palette` without assigning `hue` is deprecated and will be removed in v0.14.0. Assign the `x` variable to `hue` and set `legend=False` for the same effect.\n",
      "\n",
      "  sns.barplot(x=y.index, y=y.values, palette=colors).set_title(col)\n",
      "C:\\Users\\hp\\AppData\\Local\\Temp\\ipykernel_13168\\193395095.py:23: FutureWarning: \n",
      "\n",
      "Passing `palette` without assigning `hue` is deprecated and will be removed in v0.14.0. Assign the `x` variable to `hue` and set `legend=False` for the same effect.\n",
      "\n",
      "  sns.barplot(x=y.index, y=y.values, palette=colors).set_title(col)\n",
      "C:\\Users\\hp\\AppData\\Local\\Temp\\ipykernel_13168\\193395095.py:23: FutureWarning: \n",
      "\n",
      "Passing `palette` without assigning `hue` is deprecated and will be removed in v0.14.0. Assign the `x` variable to `hue` and set `legend=False` for the same effect.\n",
      "\n",
      "  sns.barplot(x=y.index, y=y.values, palette=colors).set_title(col)\n",
      "C:\\Users\\hp\\AppData\\Local\\Temp\\ipykernel_13168\\193395095.py:23: FutureWarning: \n",
      "\n",
      "Passing `palette` without assigning `hue` is deprecated and will be removed in v0.14.0. Assign the `x` variable to `hue` and set `legend=False` for the same effect.\n",
      "\n",
      "  sns.barplot(x=y.index, y=y.values, palette=colors).set_title(col)\n",
      "C:\\Users\\hp\\AppData\\Local\\Temp\\ipykernel_13168\\193395095.py:23: FutureWarning: \n",
      "\n",
      "Passing `palette` without assigning `hue` is deprecated and will be removed in v0.14.0. Assign the `x` variable to `hue` and set `legend=False` for the same effect.\n",
      "\n",
      "  sns.barplot(x=y.index, y=y.values, palette=colors).set_title(col)\n",
      "C:\\Users\\hp\\AppData\\Local\\Temp\\ipykernel_13168\\193395095.py:23: FutureWarning: \n",
      "\n",
      "Passing `palette` without assigning `hue` is deprecated and will be removed in v0.14.0. Assign the `x` variable to `hue` and set `legend=False` for the same effect.\n",
      "\n",
      "  sns.barplot(x=y.index, y=y.values, palette=colors).set_title(col)\n",
      "C:\\Users\\hp\\AppData\\Local\\Temp\\ipykernel_13168\\193395095.py:23: FutureWarning: \n",
      "\n",
      "Passing `palette` without assigning `hue` is deprecated and will be removed in v0.14.0. Assign the `x` variable to `hue` and set `legend=False` for the same effect.\n",
      "\n",
      "  sns.barplot(x=y.index, y=y.values, palette=colors).set_title(col)\n"
     ]
    },
    {
     "data": {
      "image/png": "[encoded data removed]",
      "text/plain": [
       "<Figure size 1800x4000 with 7 Axes>"
      ]
     },
     "metadata": {},
     "output_type": "display_data"
    }
   ],
   "source": [
    "import matplotlib.pyplot as plt\n",
    "import seaborn as sns\n",
    "\n",
    "# Set style and palette\n",
    "sns.set_style('darkgrid')\n",
    "palette = sns.color_palette('tab10')  # 10 distinct colors\n",
    "\n",
    "# Select object (categorical) columns, excluding 'Loan_ID'\n",
    "object_cols = train_path.select_dtypes(include='object').columns\n",
    "object_cols = [col for col in object_cols if col != 'Loan_ID']\n",
    "\n",
    "plt.figure(figsize=(18, 40))\n",
    "index = 1\n",
    "\n",
    "for col in object_cols:\n",
    "    y = train_path[col].value_counts()\n",
    "    plt.subplot(11, 4, index)\n",
    "    plt.xticks(rotation=90)\n",
    "    plt.subplots_adjust(hspace=0.6, wspace=0.25)\n",
    "    \n",
    "    # Assign different colors to each category\n",
    "    colors = palette[:len(y)]  # use as many colors as categories\n",
    "    sns.barplot(x=y.index, y=y.values, palette=colors).set_title(col)\n",
    "    \n",
    "    index += 1\n",
    "\n",
    "plt.show()\n"
   ]
  },
  {
   "cell_type": "code",
   "execution_count": 125,
   "id": "e29a2d09",
   "metadata": {},
   "outputs": [
    {
     "data": {
      "text/plain": [
       "<Axes: xlabel='Loan_Amount_Term', ylabel='Count'>"
      ]
     },
     "execution_count": 125,
     "metadata": {},
     "output_type": "execute_result"
    },
    {
     "data": {
      "text/plain": [
       "<Figure size 600x2000 with 0 Axes>"
      ]
     },
     "metadata": {},
     "output_type": "display_data"
    },
    {
     "data": {
      "image/png": "[encoded data removed]",
      "text/plain": [
       "<Figure size 640x480 with 2 Axes>"
      ]
     },
     "metadata": {},
     "output_type": "display_data"
    }
   ],
   "source": [
    "plt.figure(figsize=(6,20))\n",
    "\n",
    "fig,axes = plt.subplots(2, 1, squeeze=False)\n",
    "\n",
    "sns.histplot(df['LoanAmount'], ax=axes[0,0])\n",
    "plt.subplots_adjust(hspace=0.6)\n",
    "sns.histplot(df['Loan_Amount_Term'], ax=axes[1,0])"
   ]
  },
  {
   "cell_type": "code",
   "execution_count": 127,
   "id": "2cd9cf09",
   "metadata": {},
   "outputs": [
    {
     "data": {
      "text/plain": [
       "[Text(0.5, 1.0, 'Loan_Status based on Married')]"
      ]
     },
     "execution_count": 127,
     "metadata": {},
     "output_type": "execute_result"
    },
    {
     "data": {
      "text/plain": [
       "<Figure size 1000x400 with 0 Axes>"
      ]
     },
     "metadata": {},
     "output_type": "display_data"
    },
    {
     "data": {
      "image/png": "[encoded data removed]",
      "text/plain": [
       "<Figure size 640x480 with 2 Axes>"
      ]
     },
     "metadata": {},
     "output_type": "display_data"
    }
   ],
   "source": [
    "plt.figure(figsize=(10,4))\n",
    "\n",
    "fig,axes = plt.subplots(1, 2, squeeze=False)\n",
    "\n",
    "sns.countplot(ax=axes[0,0],x='Loan_Status',hue='Gender',data=df).set(title=\"Loan_Status based on Gender\")\n",
    "plt.subplots_adjust(wspace=0.4)\n",
    "sns.countplot(ax=axes[0,1],x='Loan_Status',hue='Married',data=df).set(title=\"Loan_Status based on Married\")"
   ]
  },
  {
   "cell_type": "code",
   "execution_count": 128,
   "id": "6db768f1",
   "metadata": {},
   "outputs": [
    {
     "data": {
      "text/plain": [
       "[Text(0.5, 1.0, 'Loan_Status based on Self_Employed')]"
      ]
     },
     "execution_count": 128,
     "metadata": {},
     "output_type": "execute_result"
    },
    {
     "data": {
      "text/plain": [
       "<Figure size 1000x400 with 0 Axes>"
      ]
     },
     "metadata": {},
     "output_type": "display_data"
    },
    {
     "data": {
      "image/png": "[encoded data removed]",
      "text/plain": [
       "<Figure size 640x480 with 2 Axes>"
      ]
     },
     "metadata": {},
     "output_type": "display_data"
    }
   ],
   "source": [
    "plt.figure(figsize=(10,4))\n",
    "\n",
    "fig,axes = plt.subplots(1, 2, squeeze=False)\n",
    "\n",
    "sns.countplot(ax=axes[0,0],x='Loan_Status',hue='Education',data=df).set(title=\"Loan_Status based on Education\")\n",
    "plt.subplots_adjust(wspace=0.4)\n",
    "sns.countplot(ax=axes[0,1],x='Loan_Status',hue='Self_Employed',data=df).set(title=\"Loan_Status based on Self_Employed\")"
   ]
  }
 ],
 "metadata": {
  "kernelspec": {
   "display_name": "Python 3",
   "language": "python",
   "name": "python3"
  },
  "language_info": {
   "codemirror_mode": {
    "name": "ipython",
    "version": 3
   },
   "file_extension": ".py",
   "mimetype": "text/x-python",
   "name": "python",
   "nbconvert_exporter": "python",
   "pygments_lexer": "ipython3",
   "version": "3.12.2"
  }
 },
 "nbformat": 4,
 "nbformat_minor": 5
}
